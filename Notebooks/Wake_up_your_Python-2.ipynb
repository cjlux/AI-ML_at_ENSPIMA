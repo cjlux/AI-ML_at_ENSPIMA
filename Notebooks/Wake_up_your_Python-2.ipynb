{
 "cells": [
  {
   "cell_type": "markdown",
   "id": "58011e4f-5a93-4292-8c22-87f383ad8d5a",
   "metadata": {},
   "source": [
    "<span style=\"font-size:10pt\">AI @ ENSPIMA_2022-2023 / v1.0 september 2022 / Jean-Luc CHARLES (Jean-Luc.charles@ensam.eu) / CC BY-SA 4.0 /</span>"
   ]
  },
  {
   "cell_type": "markdown",
   "id": "95771e66-a89c-491c-ba35-28c7e76ecd73",
   "metadata": {
    "tags": []
   },
   "source": [
    "# <img align=\"middle\" src=\"./img/alarmClock.png\" width=\"60\" height=\"60\">  __Wake up your Python__ ! part 2<a name=\"top\"></a>\n",
    "\n",
    "## [ 1 $-$ Conversion <span style=\"color:green\">list</span> <-> <span style=\"color:green\">numpy.ndarray</span>](#1)\n",
    "## [ 2 $-$ Reading ASCII files $-$ Encoding](#2)\n",
    "## [ 3 $-$ Tree manipulation: the `os` module](#3)\n",
    "## [ 4 $-$ Reading image files](#4)\n",
    "## [ 5 $-$ Drawing curves with `matplolib`](#5)\n",
    "## [ 6 $-$ Programming techniques](#6)\n"
   ]
  },
  {
   "cell_type": "markdown",
   "id": "a7fe1211-666f-4cab-bccf-68968a05a9e3",
   "metadata": {},
   "source": [
    "<div class=\"alert alert-block alert-info\"> <span style=\"color:#000080\">\n",
    "For each example in this notebook, take care to read the explanations given and to execute the Python cells with $\\left(\\mathtt{Shift+Enter}\\right)$, before proceeding to the exercises.\n",
    "</span>\n",
    "</div>"
   ]
  },
  {
   "cell_type": "markdown",
   "id": "cdafa3e6-6a98-4a54-a516-8c26c549e5a2",
   "metadata": {},
   "source": [
    "## __1 $-$ Conversion <span style=\"color:green\">list</span> <-> <span style=\"color:green\">numpy.ndarray</span>__ <a name=\"1\"></a>\n",
    "\n",
    "Objects of type <span style=\"color:green\">list</span> are very suitable for collecting data, \n",
    "but they cannot be used for doing **advanced calculations**.<br>\n",
    "=> You **must** know how to convert <span style=\"color:green\">list</span> objects into arrays\n",
    "<span style=\"color:green\">numpy.ndarray</span> and vice versa:<br>\n",
    "\n",
    "`M = numpy.array(L)` converts the  <span style=\"color:green\">list</span> `L`  to the <span style=\"color:green\">ndarray</span> (n-dimensional array) `M` \n",
    "(see the [array](https://docs.scipy.org/doc/numpy/reference/generated/numpy.array.html) function of **numpy**)<br>\n",
    "\n",
    "`L = M.tolist()` converts the <span style=\"color:green\">ndarray</span> `M` to the <span style=\"color:green\">list</span> `L` \n",
    "(see method [numpy.ndarray.tolist](https://docs.scipy.org/doc/numpy/reference/generated/numpy.ndarray.tolist.html))."
   ]
  },
  {
   "cell_type": "markdown",
   "id": "320b6401-fdae-471a-a583-fe3b1c4c386e",
   "metadata": {},
   "source": [
    "<div class=\"alert alert-block alert-info\">\n",
    "<span style=\"color: #0000BB;font-weight: bold; font-size:large;\">Exercise 1.1 $–$ Conversions list ↔ vector</span>\n",
    "<div><span style=\"color: #0000BB\">\n",
    "    \n",
    "- Define the list comprehension `L1` of the squares of the integers from 1 to 9.<b>\n",
    "\n",
    "- Define and display `v1`, the conversion of `L1` to a <span style=\"color:green\">numpy.ndarray</span>.<br>\n",
    "\n",
    "- Display the type of `v1` and its attributes\n",
    "<span style=\"color:green\">dtype</span>,\n",
    "<span style=\"color:green\">shape</span>,\n",
    "<span style=\"color:green\">ndim</span>,\n",
    "<span style=\"color:green\">size</span>,\n",
    "<span style=\"color:green\">itemsize</span> and\n",
    "<span style=\"color:green\">nbytes</span>.\n",
    "    \n",
    "- Define and display `v2`, the conversion of `L1` to a\n",
    "<span style=\"color:green\">ndarray</span> of integers, obtained by passing the additional argument\n",
    "<span style=\"color:brown\">dtype=</span><span style=\"color:green\">\"uint8\"</span>\n",
    "to the `array` function.<br>\n",
    "Display `V2.itemsize`.<br>\n",
    "\n",
    "- Define **without an explicit loop** the vector `v3`, such that for all $i$:\n",
    "$v3[i]\\,=\\,\\sqrt{v2[i]}\\,\\cos(v2[i]\\,\\pi/20)$.<br>\n",
    "$\\leadsto$ tips: use `np.sqrt(...)`, `np.cos(...)` and `np.pi`.<br>\n",
    "Show `v3` and its attributes\n",
    "<span style=\"color:green\">shape</span>,\n",
    "<span style=\"color:green\">ndim</span> and\n",
    "<span style=\"color:green\">size</span>.\n",
    "\n",
    "- Modify `v3` with the instruction `v3.shape = (3,3)`: display again `v3` and its attributes\n",
    "<span style=\"color:green\">shape</span>,\n",
    "<span style=\"color:green\">ndim</span> and\n",
    "<span style=\"color:green\">size</span>; observe what has changed.\n",
    "\n",
    "- Convert `v3` to the `L3` list using the`tolist` method of the class <span style=\"color:green\">ndarray</span>. Display `L3`.\n",
    "</span></div>"
   ]
  },
  {
   "cell_type": "code",
   "execution_count": 2,
   "id": "2bd54ecb-a0d9-4420-9600-8823fa69a8e8",
   "metadata": {},
   "outputs": [
    {
     "data": {
      "text/plain": [
       "[1, 4, 9, 16, 25, 36, 49, 64, 81]"
      ]
     },
     "execution_count": 2,
     "metadata": {},
     "output_type": "execute_result"
    }
   ],
   "source": [
    "L1 = [n**2 for n in range(1,10)] ; L1"
   ]
  },
  {
   "cell_type": "code",
   "execution_count": 6,
   "id": "685e8ad9-a653-4e11-b102-a29634b0443b",
   "metadata": {},
   "outputs": [
    {
     "data": {
      "text/plain": [
       "array([ 1,  4,  9, 16, 25, 36, 49, 64, 81])"
      ]
     },
     "execution_count": 6,
     "metadata": {},
     "output_type": "execute_result"
    }
   ],
   "source": [
    "import numpy as np\n",
    "v1 = np.array(L1) ; v1"
   ]
  },
  {
   "cell_type": "code",
   "execution_count": 7,
   "id": "55300ad2-cb0a-4de9-bbd5-256db5c3aab7",
   "metadata": {},
   "outputs": [
    {
     "data": {
      "text/plain": [
       "numpy.ndarray"
      ]
     },
     "execution_count": 7,
     "metadata": {},
     "output_type": "execute_result"
    }
   ],
   "source": [
    "type(v1)"
   ]
  },
  {
   "cell_type": "code",
   "execution_count": 30,
   "id": "8e87b2e9-d4a1-423a-8ad6-4a8711e6d1d0",
   "metadata": {},
   "outputs": [
    {
     "name": "stdout",
     "output_type": "stream",
     "text": [
      "v1.dtype: int64\n",
      "v1.shape: (9,)\n",
      "v1.ndim: 1\n",
      "v1.size: 9\n",
      "v1.itemsize: 8\n",
      "v1.nbytes: 72\n"
     ]
    }
   ],
   "source": [
    "print('v1.dtype:', v1.dtype)\n",
    "print('v1.shape:', v1.shape)\n",
    "print('v1.ndim:', v1.ndim)\n",
    "print('v1.size:', v1.size)\n",
    "print('v1.itemsize:', v1.itemsize)\n",
    "print('v1.nbytes:', v1.nbytes)"
   ]
  },
  {
   "cell_type": "code",
   "execution_count": 31,
   "id": "aaf1ef99-3106-4ceb-86ac-9204b589b29a",
   "metadata": {},
   "outputs": [
    {
     "name": "stdout",
     "output_type": "stream",
     "text": [
      "[ 1  4  9 16 25 36 49 64 81]\n",
      "1\n"
     ]
    }
   ],
   "source": [
    "v2 = np.array(L1, dtype=\"uint8\") \n",
    "print(v2)\n",
    "print(v2.itemsize)"
   ]
  },
  {
   "cell_type": "code",
   "execution_count": 33,
   "id": "a6e3c7f2-d672-4e20-a890-ae6fdce801ab",
   "metadata": {},
   "outputs": [
    {
     "data": {
      "text/plain": [
       "array([ 0.98768834,  1.61803399,  0.4693034 , -3.23606798, -3.53553391,\n",
       "        4.85410197,  1.09504126, -6.47213595,  8.88919507])"
      ]
     },
     "execution_count": 33,
     "metadata": {},
     "output_type": "execute_result"
    }
   ],
   "source": [
    "v3 = np.sqrt(v2)*np.cos(v2*np.pi/20)\n",
    "v3"
   ]
  },
  {
   "cell_type": "code",
   "execution_count": 34,
   "id": "4c576f18-a58c-4eaa-99f4-90f5303a94a6",
   "metadata": {},
   "outputs": [
    {
     "name": "stdout",
     "output_type": "stream",
     "text": [
      "v3.shape: (9,)\n",
      "v3.ndim: 1\n",
      "v3.size: 9\n"
     ]
    }
   ],
   "source": [
    "print('v3.shape:', v1.shape)\n",
    "print('v3.ndim:', v1.ndim)\n",
    "print('v3.size:', v1.size)"
   ]
  },
  {
   "cell_type": "code",
   "execution_count": 35,
   "id": "b64aa362-69b6-44dc-acdf-003e963cb7a2",
   "metadata": {},
   "outputs": [
    {
     "data": {
      "text/plain": [
       "array([[ 0.98768834,  1.61803399,  0.4693034 ],\n",
       "       [-3.23606798, -3.53553391,  4.85410197],\n",
       "       [ 1.09504126, -6.47213595,  8.88919507]])"
      ]
     },
     "execution_count": 35,
     "metadata": {},
     "output_type": "execute_result"
    }
   ],
   "source": [
    "v3.shape = (3,3)\n",
    "v3"
   ]
  },
  {
   "cell_type": "code",
   "execution_count": 36,
   "id": "f9e0e8a6-070a-4c85-b92c-1c3ae691fe14",
   "metadata": {},
   "outputs": [
    {
     "name": "stdout",
     "output_type": "stream",
     "text": [
      "v3.shape: (9,)\n",
      "v3.ndim: 1\n",
      "v3.size: 9\n"
     ]
    }
   ],
   "source": [
    "print('v3.shape:', v1.shape)\n",
    "print('v3.ndim:', v1.ndim)\n",
    "print('v3.size:', v1.size)"
   ]
  },
  {
   "cell_type": "code",
   "execution_count": 37,
   "id": "2e1a8d00-91cb-404f-be28-fb7bcb5fb33a",
   "metadata": {},
   "outputs": [
    {
     "data": {
      "text/plain": [
       "[[0.9876883405951377, 1.6180339887498951, 0.46930339512069275],\n",
       " [-3.23606797749979, -3.5355339059327386, 4.854101966249684],\n",
       " [1.0950412552816244, -6.472135954999582, 8.88919506535624]]"
      ]
     },
     "execution_count": 37,
     "metadata": {},
     "output_type": "execute_result"
    }
   ],
   "source": [
    "L3 = v3.tolist()\n",
    "L3"
   ]
  },
  {
   "cell_type": "markdown",
   "id": "41ea2193-6ee5-4975-857c-16600deffd5e",
   "metadata": {},
   "source": [
    "[top](#top)"
   ]
  },
  {
   "cell_type": "markdown",
   "id": "3b66479a-5dad-41a8-a0ad-0a582f53f2d3",
   "metadata": {},
   "source": [
    "<div class=\"alert alert-block alert-info\">\n",
    "<span style=\"color: #0000BB;font-weight: bold; font-size:large;\">Exercise 1.2 $–$ Conversion list <-> matrix</span>\n",
    "<span style=\"color: #0000BB\">\n",
    "  \n",
    "- Observe the result of the two cells below:\n",
    "</span></div>"
   ]
  },
  {
   "cell_type": "code",
   "execution_count": 24,
   "id": "4ef71ef9-e60c-45c5-868e-707a81e28082",
   "metadata": {},
   "outputs": [
    {
     "data": {
      "text/plain": [
       "[11, 12, 13, 21, 22, 23, 31, 32, 33]"
      ]
     },
     "execution_count": 24,
     "metadata": {},
     "output_type": "execute_result"
    }
   ],
   "source": [
    "[10*i+j for i in range(1,4) for j in range(1,4)]"
   ]
  },
  {
   "cell_type": "code",
   "execution_count": 25,
   "id": "71f6bc41-aeed-4bfb-bc72-60ff79b4f8c3",
   "metadata": {},
   "outputs": [
    {
     "data": {
      "text/plain": [
       "[[11, 12, 13], [21, 22, 23], [31, 32, 33]]"
      ]
     },
     "execution_count": 25,
     "metadata": {},
     "output_type": "execute_result"
    }
   ],
   "source": [
    "[[10*i+j for j in range(1,4)] for i in range(1,4)]"
   ]
  },
  {
   "cell_type": "code",
   "execution_count": null,
   "id": "d5599648-1bb6-4f79-ab59-683dd80b1d02",
   "metadata": {},
   "outputs": [],
   "source": []
  },
  {
   "cell_type": "markdown",
   "id": "46237549-e13a-40a3-9562-2de7d8a9e037",
   "metadata": {},
   "source": [
    "<div class=\"alert alert-block alert-info\">\n",
    "<span style=\"color: #0000BB\">\n",
    "    \n",
    "- Deduce two different ways to define the matrix `M` of general term $M_{i,\\,j}=j^{\\,i}$ with $(i,j) \\in [1;5]\\times [1;5]$ using list comprehensions defined then converted to <span style=\"color:green\">ndarray</span> .\n",
    "</span></div>"
   ]
  },
  {
   "cell_type": "code",
   "execution_count": 26,
   "id": "387c9227-a250-471d-9ad9-9829d6cdc3c1",
   "metadata": {},
   "outputs": [
    {
     "data": {
      "text/plain": [
       "array([   1,    2,    3,    4,    5,    1,    4,    9,   16,   25,    1,\n",
       "          8,   27,   64,  125,    1,   16,   81,  256,  625,    1,   32,\n",
       "        243, 1024, 3125])"
      ]
     },
     "execution_count": 26,
     "metadata": {},
     "output_type": "execute_result"
    }
   ],
   "source": [
    "import numpy as np\n",
    "L = [j**i for i in range(1,6) for j in range(1,6)]\n",
    "V = np.array(L); V"
   ]
  },
  {
   "cell_type": "code",
   "execution_count": 27,
   "id": "b2fde78b-f895-4c90-9aab-36e5143c3d89",
   "metadata": {},
   "outputs": [
    {
     "data": {
      "text/plain": [
       "array([[   1,    2,    3,    4,    5],\n",
       "       [   1,    4,    9,   16,   25],\n",
       "       [   1,    8,   27,   64,  125],\n",
       "       [   1,   16,   81,  256,  625],\n",
       "       [   1,   32,  243, 1024, 3125]])"
      ]
     },
     "execution_count": 27,
     "metadata": {},
     "output_type": "execute_result"
    }
   ],
   "source": [
    "V.shape = (5,5); V"
   ]
  },
  {
   "cell_type": "code",
   "execution_count": 28,
   "id": "439784a8-5959-44ff-b137-e7b6a71331ea",
   "metadata": {},
   "outputs": [
    {
     "data": {
      "text/plain": [
       "[[1, 2, 3, 4, 5],\n",
       " [1, 4, 9, 16, 25],\n",
       " [1, 8, 27, 64, 125],\n",
       " [1, 16, 81, 256, 625],\n",
       " [1, 32, 243, 1024, 3125]]"
      ]
     },
     "execution_count": 28,
     "metadata": {},
     "output_type": "execute_result"
    }
   ],
   "source": [
    "L = [[j**i for j in range(1,6)] for i in range(1,6)]; L"
   ]
  },
  {
   "cell_type": "code",
   "execution_count": 29,
   "id": "c3a41a7a-7ed2-4372-9b47-37cf0201b0cf",
   "metadata": {},
   "outputs": [
    {
     "data": {
      "text/plain": [
       "array([[   1,    2,    3,    4,    5],\n",
       "       [   1,    4,    9,   16,   25],\n",
       "       [   1,    8,   27,   64,  125],\n",
       "       [   1,   16,   81,  256,  625],\n",
       "       [   1,   32,  243, 1024, 3125]])"
      ]
     },
     "execution_count": 29,
     "metadata": {},
     "output_type": "execute_result"
    }
   ],
   "source": [
    "M = np.array(L); M"
   ]
  },
  {
   "cell_type": "markdown",
   "id": "96a092cc-ba6a-4a91-ae16-0fe513bb73ff",
   "metadata": {},
   "source": [
    "[top](#top)"
   ]
  },
  {
   "cell_type": "markdown",
   "id": "9de1f297-dc98-49aa-9938-1284a2835ef6",
   "metadata": {},
   "source": [
    "## __2 $-$ Reading ASCII files $-$ Encoding__ <a name=\"2\"></a>\n",
    "\n",
    "ASCII files are read with the <span style=\"color:green\">open</span> primitive which returns an iterable object of type </span><span style=\"color:green\">TextIOWrapper</span>: <br />\n",
    "    **<span style=\"font-family:courier\">\n",
    "<span style=\"color:#B08000\">with</span> <span style=\"color:#800080\">open</span>( <span style=\"color:#808080\">< file path ></span>, <span style=\"color:#008000\">\"r\"</span>, encoding=<span style=\"color:#808080\">< encoding_specification ></span>)<span style =\"color:#B08000\"> as</span> F:<br>\n",
    "    $\\phantom{---}$...</p> </span>**\n",
    "    \n",
    "Reading accented characters requires specifying their **encoding** for correct interpretation. The most common encodings are **utf8** (Mac OS X, GNU/Linux default encoding) and **cp1252** or **iso8859-15** (Windows default encoding).<br />\n",
    "\n",
    "Using a **<span style=\"font-family:courier;color:#B08000\">with</span>** block automatically closes the file as soon as you exit the block."
   ]
  },
  {
   "cell_type": "markdown",
   "id": "c2ace2d5-1852-4090-aaa4-996136048fba",
   "metadata": {},
   "source": [
    "<div class=\"alert alert-block alert-info\">\n",
    "<span style=\"color: #0000BB;font-weight: bold; font-size:large;\">Exercise 2.1 –Reading of an ASCII file, decoding accented characters</span>\n",
    "<span style=\"color: #0000BB\">\n",
    "  \n",
    "- Read the `./data/accents.txt` file in a string with the primitive <span style=\"color:green\">read</span>, specifying **cp1252** as encoding, then display the resulting string.\n",
    "- Same work, this time specifying **utf8** as the encoding.\n",
    "</span></div>"
   ]
  },
  {
   "cell_type": "code",
   "execution_count": 43,
   "id": "30e38bd8-e079-4675-a1a9-cedfa4a53dc7",
   "metadata": {},
   "outputs": [
    {
     "name": "stdout",
     "output_type": "stream",
     "text": [
      "La prÃ©sence de caractÃ¨res accentuÃ©s dans un fichier\n",
      "ASCII peut poser des problÃ¨mes pour la restitution \n",
      "graphique des caractÃ¨res.\n",
      "\n"
     ]
    }
   ],
   "source": [
    "with open(\"data/accents.txt\", \"r\", encoding=\"cp1252\") as F :\n",
    "    s = F.read()\n",
    "print(s)"
   ]
  },
  {
   "cell_type": "code",
   "execution_count": 44,
   "id": "3be12e49-bf65-4659-aacb-f085182dfdb6",
   "metadata": {},
   "outputs": [
    {
     "name": "stdout",
     "output_type": "stream",
     "text": [
      "La présence de caractères accentués dans un fichier\n",
      "ASCII peut poser des problèmes pour la restitution \n",
      "graphique des caractères.\n",
      "\n"
     ]
    }
   ],
   "source": [
    "with open(\"data/accents.txt\", \"r\", encoding=\"utf8\") as F :\n",
    "    s = F.read()\n",
    "print(s)"
   ]
  },
  {
   "cell_type": "markdown",
   "id": "cd551d40-a495-4f42-a4ab-1b5b20f30c92",
   "metadata": {},
   "source": [
    "[top](#top)"
   ]
  },
  {
   "cell_type": "markdown",
   "id": "5a9bb5ff-1d9f-41fa-846c-db7241b5886e",
   "metadata": {},
   "source": [
    "<div class=\"alert alert-block alert-info\">\n",
    "<span style=\"color: #0000BB;font-weight: bold; font-size:large;\">Exercise 2.2 $–$ Get the list of the lines of an ASCII file</span>\n",
    "<span style=\"color: #0000BB\">\n",
    "  \n",
    "- Define `L`, the list of the lines of the file `data/data.txt` by using the primitive <span style=\"color:green\">readlines</span>. Display `L`.\n",
    "\n",
    "- Now define `L` in order to eliminate lines that are comments (starting with `#`). Display `L`.\n",
    "</span></div>"
   ]
  },
  {
   "cell_type": "code",
   "execution_count": 45,
   "id": "d968efe4-e0e9-400f-af26-9b8a08d801e5",
   "metadata": {},
   "outputs": [
    {
     "name": "stdout",
     "output_type": "stream",
     "text": [
      "['# Time [s]\\tStress [Pa]\\tStrain\\n', '0.000000e+00\\t3.320000e+05\\t4.340000e-05\\n', '1.700000e-01\\t6.010000e+06\\t3.290000e-04\\n', '3.400000e-01\\t1.150000e+07\\t9.710000e-04\\n', '5.100000e-01\\t1.710000e+07\\t1.320000e-03\\n', '6.800000e-01\\t2.260000e+07\\t1.850000e-03\\n', '8.500000e-01\\t2.870000e+07\\t2.220000e-03\\n', '1.020000e+00\\t3.150000e+07\\t2.620000e-03\\n', '1.190000e+00\\t3.260000e+07\\t3.040000e-03\\n', '1.360000e+00\\t3.170000e+07\\t3.460000e-03\\n', '1.530000e+00\\t3.330000e+07\\t4.020000e-03\\n', '1.700000e+00\\t3.270000e+07\\t4.270000e-03\\n', '1.870000e+00\\t3.270000e+07\\t4.910000e-03\\n', '2.040000e+00\\t3.440000e+07\\t5.250000e-03\\n', '2.210000e+00\\t3.460000e+07\\t5.660000e-03\\n', '# Création : Jeudi 3 novembre 2011, 23:09:24\\n']\n"
     ]
    }
   ],
   "source": [
    "with open(\"data/data.txt\", \"r\", encoding=\"utf8\") as F :\n",
    "    L = F.readlines()\n",
    "print(L)"
   ]
  },
  {
   "cell_type": "code",
   "execution_count": 48,
   "id": "69abfd82-1c0b-491f-bdd9-cdbd0820bfc7",
   "metadata": {},
   "outputs": [
    {
     "name": "stdout",
     "output_type": "stream",
     "text": [
      "['0.000000e+00\\t3.320000e+05\\t4.340000e-05\\n', '1.700000e-01\\t6.010000e+06\\t3.290000e-04\\n', '3.400000e-01\\t1.150000e+07\\t9.710000e-04\\n', '5.100000e-01\\t1.710000e+07\\t1.320000e-03\\n', '6.800000e-01\\t2.260000e+07\\t1.850000e-03\\n', '8.500000e-01\\t2.870000e+07\\t2.220000e-03\\n', '1.020000e+00\\t3.150000e+07\\t2.620000e-03\\n', '1.190000e+00\\t3.260000e+07\\t3.040000e-03\\n', '1.360000e+00\\t3.170000e+07\\t3.460000e-03\\n', '1.530000e+00\\t3.330000e+07\\t4.020000e-03\\n', '1.700000e+00\\t3.270000e+07\\t4.270000e-03\\n', '1.870000e+00\\t3.270000e+07\\t4.910000e-03\\n', '2.040000e+00\\t3.440000e+07\\t5.250000e-03\\n', '2.210000e+00\\t3.460000e+07\\t5.660000e-03\\n']\n"
     ]
    }
   ],
   "source": [
    "# Variante :\n",
    "L = [line for line in L if line[0] != \"#\" ]\n",
    "print(L)"
   ]
  },
  {
   "cell_type": "code",
   "execution_count": null,
   "id": "a9c42ff2-1eac-4f3d-8705-436977026d8d",
   "metadata": {},
   "outputs": [],
   "source": []
  },
  {
   "cell_type": "code",
   "execution_count": null,
   "id": "d132faeb-59c1-419e-bb1b-15bd78aba3a4",
   "metadata": {},
   "outputs": [],
   "source": []
  },
  {
   "cell_type": "markdown",
   "id": "ad5c7543-4452-40d6-9620-b1cdfd625966",
   "metadata": {},
   "source": [
    "[top](#top)"
   ]
  },
  {
   "cell_type": "markdown",
   "id": "cfd101ac-b232-4e67-886b-333acd279676",
   "metadata": {},
   "source": [
    "## __3 $-$ Tree manipulation: the `os` module__ <a name=\"3\"></a>\n",
    "\n",
    "The `os` and `os.path` modules contain many functions dedicated to manipulating files and\n",
    "directories (also called folders). In the table below `<path>` is a string\n",
    "giving the (relative or absolute) path of a file or directory:<br />\n",
    "\n",
    "<img src=\"Images/module-os.png\" style=\"height:230px;width:700px\" align=\"left\"/>\n",
    "<br /><br /><br /><br /><br /><br /><br /><br /><br /><br /><br /><br /><br />\n",
    "Helpful Notes:\n",
    "- the <span style=\"color:green\">\"/\"</span> character can be used as a directory name separator for any operating system,\n",
    "- the current directory can be designated by the shortcut <span style=\"color:green\">\".\"</span>, the parent directory by the shortcut <span style=\"color:green\">\"..\"</ span>."
   ]
  },
  {
   "cell_type": "code",
   "execution_count": null,
   "id": "c0254688-12d9-4e6b-b1f9-b975837f8043",
   "metadata": {},
   "outputs": [],
   "source": []
  },
  {
   "cell_type": "code",
   "execution_count": null,
   "id": "4048f60b-3b11-4913-a04d-a34cc57b9de6",
   "metadata": {},
   "outputs": [],
   "source": []
  },
  {
   "cell_type": "markdown",
   "id": "3ed35819-f99b-477f-b061-cf011f0f8727",
   "metadata": {},
   "source": [
    "[top](#top)"
   ]
  },
  {
   "cell_type": "markdown",
   "id": "547a413a-29bb-4f1e-8245-e6abe6cdd76a",
   "metadata": {},
   "source": [
    "## __4 $-$ Reading image files__ <a name=\"4\"></a>\n",
    "\n",
    "The `os` and `os.path` modules contain many functions dedicated to manipulating files and\n",
    "directories (also called folders). In the table below `<path>` is a string\n",
    "giving the (relative or absolute) path of a file or directory:<br />\n",
    "\n",
    "<img src=\"Images/module-os.png\" style=\"height:230px;width:700px\" align=\"left\"/>\n",
    "<br /><br /><br /><br /><br /><br /><br /><br /><br /><br /><br /><br /><br />\n",
    "Helpful Notes:\n",
    "- the <span style=\"color:green\">\"/\"</span> character can be used as a directory name separator for any operating system,\n",
    "- the current directory can be designated by the shortcut <span style=\"color:green\">\".\"</span>, the parent directory by the shortcut <span style=\"color:green\">\"..\"</ span>."
   ]
  },
  {
   "cell_type": "code",
   "execution_count": null,
   "id": "54b23a9e-d4ce-4694-8acd-2f403c5ec574",
   "metadata": {},
   "outputs": [],
   "source": []
  },
  {
   "cell_type": "code",
   "execution_count": null,
   "id": "2e8a9d85-3938-4379-9cc8-a39196539101",
   "metadata": {},
   "outputs": [],
   "source": []
  },
  {
   "cell_type": "code",
   "execution_count": null,
   "id": "1f345f9a-7260-4d4d-8d6f-431543d2146b",
   "metadata": {},
   "outputs": [],
   "source": []
  },
  {
   "cell_type": "markdown",
   "id": "990e42ea-0d2d-4fe3-9e1f-51edc1f3eb30",
   "metadata": {},
   "source": [
    "[top](#top)"
   ]
  },
  {
   "cell_type": "markdown",
   "id": "e8e7ca7d-c3a2-402b-ac5e-cb4311461af9",
   "metadata": {},
   "source": [
    "## __5 $-$ Drawing curves with `matplolib`__ <a name=\"5\"></a>\n",
    "\n",
    "The **matplotlib.pyplot** module allows you to plot 2D, 3D and other curves.... see the gallery on the site [matplotlib.org/gallery.html](https://matplotlib.org/ gallery.html).\n",
    "\n",
    "**Tutorials**:<br>\n",
    "- on the matplotlib site: https://matplotlib.org/stable/ <br />\n",
    "- at the LABRI laboratory: http://www.labri.fr/perso/nrougier/teaching/matplotlib/ <br>"
   ]
  },
  {
   "cell_type": "code",
   "execution_count": null,
   "id": "c4134ca8-79dc-47ea-aca3-e46230e1f1ef",
   "metadata": {},
   "outputs": [],
   "source": []
  },
  {
   "cell_type": "code",
   "execution_count": null,
   "id": "3adad5b9-87c0-40fe-b97f-5b9947c0e326",
   "metadata": {},
   "outputs": [],
   "source": []
  },
  {
   "cell_type": "code",
   "execution_count": null,
   "id": "7f23a0a5-3b3b-4905-801a-1cbd50f472af",
   "metadata": {},
   "outputs": [],
   "source": []
  },
  {
   "cell_type": "markdown",
   "id": "38d32e7d-f604-4283-90ff-f3cc85849e53",
   "metadata": {},
   "source": [
    "[top](#top)"
   ]
  },
  {
   "cell_type": "markdown",
   "id": "72ccb1d3-fc6c-4859-8fdb-2e3373742ba6",
   "metadata": {},
   "source": [
    "## __6 $-$ Programming techniques__ <a name=\"5\"></a>\n",
    "\n",
    "Among the many programming techniques taught in software engineering, two techniques must be\n",
    "understood and used within the framework of the *Mathematics and computer science* teaching unit:\n",
    "- the management of **exceptions**, with the keywords <span style=\"color:green;font-weight:bold\">try</span> and\n",
    "<span style=\"color:green;font-weight:bold\">except</span>,\n",
    "- integration of **unit tests** in Python files and how to exclude them from the <span style=\"color:green;font-weight:bold\">import</span> mechanism."
   ]
  },
  {
   "cell_type": "markdown",
   "id": "cad74205-03c2-4840-9afb-864c5bfc8a49",
   "metadata": {},
   "source": [
    "### 6.1 $-$ Try/except block\n",
    "\n",
    "The principle is to write (in order):\n",
    "- a <span style=\"color:green;font-weight:bold\">try</span> block that contains Python instructions\n",
    "likely to fail and therefore *throw* **exceptions** (normally resulting in <span style=\"color:red\">error messages in red</span> on the screen...)\n",
    "- a <span style=\"color:green;font-weight:bold\">except</span> block, responsible for *catching* these exceptions (if they occur) and doing appropriate processing, which can be summarized to a simple display of a message (print), followed by a *proper* exit or continuation of the program.\n",
    "```Python\n",
    "#...\n",
    "try:\n",
    "    # try block\n",
    "    # ...\n",
    "except:\n",
    "    # block to handle exceptions\n",
    "    #...\n",
    "```"
   ]
  },
  {
   "cell_type": "code",
   "execution_count": null,
   "id": "b44ea564-5d76-43c4-bc73-33c32a22701c",
   "metadata": {},
   "outputs": [],
   "source": []
  },
  {
   "cell_type": "code",
   "execution_count": null,
   "id": "17df19c1-30db-4b47-a0fe-f9f7b91d33b2",
   "metadata": {},
   "outputs": [],
   "source": []
  },
  {
   "cell_type": "markdown",
   "id": "4f492129-7a1e-4858-a88c-faab2749dd6c",
   "metadata": {},
   "source": [
    "###  6.2 $-$ Tests unitaires (concerne l'écriture des fichiers .py)\n",
    "Le problème des tests unitaires intégrés dans un fichier Python importé comme un module est que ces\n",
    "tests sont exécutés (comme le reste du programme) par la primitive \n",
    "<span style=\"color:green;font-weight:bold\">import</span> : ceci n’est pas forcément le\n",
    "comportement recherché lorsqu’on utilise un fichier Python comme un module ! <br /><br />\n",
    "La solution consiste à exclure les tests unitaires de l’exécution grâce à un *bloc if* portant sur la valeur\n",
    "de l’objet prédéfini <span style=\"color:brown\">\\_\\_name\\_\\_</span> :\n",
    "\n",
    "**Exemple** avec le fichier <tt><b><span style=\"color:blue\">test.py</span></b></tt> contenant le code : \n",
    "```Python\n",
    "print(\"__name__ :\", __name__)\n",
    "```\n",
    "L’exécution de <tt><b><span style=\"color:blue\">test.py</span></b></tt> dans le shell Python affiche :<br />\n",
    "`__name__ : __main__`<br />\n",
    "car dans le contexte de l’exécution directe par un shell Python, `__name__` vaut \n",
    "<span style=\"color:brown\"> \"\\_\\_main\\_\\_\" </span>.\n",
    "\n",
    "L’exécution indirecte par <span style=\"color:green;font-weight:bold\">import</span> du module **test** (correspondant au fichier <tt><b><span style=\"color:blue\">test.py</span></b></tt>) dans le shell Python :\n",
    "```Python\n",
    ">>> import test\n",
    "__name__ : __test__ \n",
    "```\n",
    "car dans le contexte de l’exécution d’un module par la primitive \n",
    "<span style=\"color:green;font-weight:bold\">import</span>,\n",
    "`__name__` vaut le nom du module."
   ]
  },
  {
   "cell_type": "code",
   "execution_count": null,
   "id": "5153368d-a5c0-4bac-a399-d76aa8a9ff0e",
   "metadata": {},
   "outputs": [],
   "source": []
  }
 ],
 "metadata": {
  "kernelspec": {
   "display_name": "Python 3",
   "language": "python",
   "name": "python3"
  },
  "language_info": {
   "codemirror_mode": {
    "name": "ipython",
    "version": 3
   },
   "file_extension": ".py",
   "mimetype": "text/x-python",
   "name": "python",
   "nbconvert_exporter": "python",
   "pygments_lexer": "ipython3",
   "version": "3.8.13"
  }
 },
 "nbformat": 4,
 "nbformat_minor": 5
}
