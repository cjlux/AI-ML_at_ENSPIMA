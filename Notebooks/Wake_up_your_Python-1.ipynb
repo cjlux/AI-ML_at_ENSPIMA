{
 "cells": [
  {
   "cell_type": "markdown",
   "id": "58011e4f-5a93-4292-8c22-87f383ad8d5a",
   "metadata": {},
   "source": [
    "<span style=\"font-size:10pt\">AI @ ENSPIMA_2022-2023 / v1.0 september 2022 / Jean-Luc CHARLES (Jean-Luc.charles@ensam.eu) / CC BY-SA 4.0 /</span>"
   ]
  },
  {
   "cell_type": "markdown",
   "id": "95771e66-a89c-491c-ba35-28c7e76ecd73",
   "metadata": {
    "tags": []
   },
   "source": [
    "# <img align=\"middle\" src=\"./img/alarmClock.png\" width=\"60\" height=\"60\">  __Wake up your Python__ ! part 1<a name=\"top\"></a>\n",
    "\n",
    "## [ 1 - The <span style=\"color:green\">range</span> primitive](#1)\n",
    "## [ 2 - The pythonic loop – Iterable objects](#2)\n",
    "### $\\phantom{--}$[ The <span style=\"color:green\">enumerate</span> primitive](#enumerate)\n",
    "### $\\phantom{--}$[ The <span style=\"color:green\">zip</span> primitive](#zip)\n",
    "## [ 3 - Mutable/not mutable objects in Python](#3)\n",
    "## [ 4 - The <span style=\"color:green\">list</span> type](#4)\n",
    "### $\\phantom{--}$[ List comprehension](#list_comprehension)\n",
    "### $\\phantom{--}$[ Slicing](#slicing)\n",
    "## [ 5 - The <span style=\"color:green\">str</span> type](#5)\n",
    "### $\\phantom{--}$[ f-string: formatted string](#f-string)"
   ]
  },
  {
   "cell_type": "markdown",
   "id": "a7fe1211-666f-4cab-bccf-68968a05a9e3",
   "metadata": {},
   "source": [
    "<div class=\"alert alert-block alert-info\"> <span style=\"color:#000080\">\n",
    "For each example in this notebook, take care to read the explanations given and to execute the Python cells with $\\left(\\mathtt{Shift+Enter}\\right)$, before proceeding to the exercises.\n",
    "</span>\n",
    "</div>"
   ]
  },
  {
   "cell_type": "markdown",
   "id": "cdafa3e6-6a98-4a54-a516-8c26c549e5a2",
   "metadata": {},
   "source": [
    "## __1 - The `range` primitive__ <a name=\"1\"></a>\n",
    "`range` allows you to build an **iterable object** made up of a sequence of integers:\n",
    "\n",
    "`range(start, stop[, step])` returns an integer generator ranging from `start` inclusive to `stop` exclusive, in steps (integer) of `step`.<br /> If only `stop` is given, the generator starts at zero, and the step is 1."
   ]
  },
  {
   "cell_type": "code",
   "execution_count": null,
   "id": "4e60afb0-75d9-424c-ae30-67d35d796149",
   "metadata": {},
   "outputs": [],
   "source": [
    "range(1,10)"
   ]
  },
  {
   "cell_type": "markdown",
   "id": "930f377e-0d8b-4449-85c7-04ad1e06a148",
   "metadata": {},
   "source": [
    "A `range` object is **iterable**: it can be traversed simply with a Python loop (this is 90% of the use cases for `range`):"
   ]
  },
  {
   "cell_type": "code",
   "execution_count": null,
   "id": "df916164-22c7-43e8-b41b-313658c7efae",
   "metadata": {},
   "outputs": [],
   "source": [
    "for i in range(1,10):\n",
    "    print(i)"
   ]
  },
  {
   "cell_type": "markdown",
   "id": "dba9fc08-f38c-456b-997d-8a6d52bbbad4",
   "metadata": {},
   "source": [
    "If you want to *see* a range object as a list, just turn it into a list:"
   ]
  },
  {
   "cell_type": "code",
   "execution_count": null,
   "id": "d3a6df17-3f60-4efc-838d-a350e8f0665c",
   "metadata": {},
   "outputs": [],
   "source": [
    "list(range(10))"
   ]
  },
  {
   "cell_type": "markdown",
   "id": "320b6401-fdae-471a-a583-fe3b1c4c386e",
   "metadata": {},
   "source": [
    "<div class=\"alert alert-block alert-info\">\n",
    "<span style=\"color: #0000BB;font-weight: bold; font-size:large;\">Exercise 1</span>\n",
    "<div><span style=\"color: #0000BB\">\n",
    "    \n",
    "Using `print`, `list` and `range`, can you display as a list:\n",
    "- the integer numbers from 0 to 10 inclusive\n",
    "- the integer numbers from -1 to -5 inclusive\n",
    "- the first 5 even integers from 2 to 10 inclusive\n",
    "</span></div>"
   ]
  },
  {
   "cell_type": "code",
   "execution_count": null,
   "id": "2bd54ecb-a0d9-4420-9600-8823fa69a8e8",
   "metadata": {},
   "outputs": [],
   "source": []
  },
  {
   "cell_type": "markdown",
   "id": "7cd2b993-0d03-4bc8-b94b-b50df75a5492",
   "metadata": {},
   "source": [
    "[top](#top)"
   ]
  },
  {
   "cell_type": "markdown",
   "id": "b3bd17ac-db67-4961-b3ab-c3f22766e604",
   "metadata": {},
   "source": [
    "## __2 - The pythonic loop – Iterable objects__ <a name=\"2\"></a>\n",
    "Python **Iterable** are objects that you can iterate over simply with a loop, like\n",
    "objects of type\n",
    "<span style=\"color:green;font-weight:bold;font-family:arial\">range</span>,\n",
    "<span style=\"color:green;font-weight:bold;font-family:arial\">list</span>,\n",
    "<span style=\"color:green;font-weight:bold;font-family:arial\">str</span>...:"
   ]
  },
  {
   "cell_type": "code",
   "execution_count": null,
   "id": "37eb03a2-b7dd-4b3b-947e-8bf7566be2af",
   "metadata": {},
   "outputs": [],
   "source": [
    "for c in \"hello\": # c iterates over all the letters of the string \"hello\"\n",
    "    print(c)      # display c"
   ]
  },
  {
   "cell_type": "code",
   "execution_count": null,
   "id": "4f437f77-05cf-4168-8b0e-925d260420d0",
   "metadata": {},
   "outputs": [],
   "source": [
    "L = range(5)              # L is a range object\n",
    "print(\"Iterator:\", L)\n",
    "print(\"Conversion to list:\", list(L))"
   ]
  },
  {
   "cell_type": "code",
   "execution_count": null,
   "id": "2220d2b6-7bd9-4976-bc2a-201000f129a6",
   "metadata": {},
   "outputs": [],
   "source": [
    "for e in range(5):         # Iterations: e is successvely 0, 1, 2, 3 and 4.\n",
    "    print(e, \"->\", e*e)    # print the value of e*e"
   ]
  },
  {
   "cell_type": "markdown",
   "id": "35fa83e4-e5a5-4d1d-b6e9-5f05c91e6225",
   "metadata": {},
   "source": [
    "[top](#top)"
   ]
  },
  {
   "cell_type": "markdown",
   "id": "3b66479a-5dad-41a8-a0ad-0a582f53f2d3",
   "metadata": {},
   "source": [
    "<div class=\"alert alert-block alert-info\">\n",
    "<span style=\"color: #0000BB;font-weight: bold; font-size:large;\">Exercise 2 $-$ Simple traversal of a list</span>\n",
    "<span style=\"color: #0000BB\">\n",
    "    \n",
    "- Define the list of strings: `L1 = [\"data1.txt\", \"data2.txt\", \"data3.txt\", \"data4.txt\"]`.<br>\n",
    "- Define the empty list `L2`.<br>\n",
    "- In a loop traversing `L1`, append at the end of `L2` the current element of `L1` with the suffix `\".txt\"` replaced by `\".png\"`.<br>\n",
    "    $\\leadsto$ tips: `L2.append(item)` append the object `item` to the list `L2`.<br>\n",
    "    $\\phantom{---}$ See this [page](https://www.w3schools.com/python/ref_string_replace.asp) on the site www.w3schools.com/python for a short documentation on the methode `replace` of the `str` class.\n",
    "- Displays `L2`.\n",
    "</span></div>\n",
    "tips:"
   ]
  },
  {
   "cell_type": "code",
   "execution_count": null,
   "id": "387c9227-a250-471d-9ad9-9829d6cdc3c1",
   "metadata": {},
   "outputs": [],
   "source": []
  },
  {
   "cell_type": "markdown",
   "id": "15a577cb-02e7-4ca9-8455-1cbde01597c8",
   "metadata": {},
   "source": [
    "<div class=\"alert alert-block alert-info\"><span style=\"color: #0000BB\">\n",
    "    \n",
    "- Traverse `L1` backwards with a `for` loop and print the current term at each lap of the loop.<br>\n",
    "    $\\leadsto$ Tips: try the expressions `L1[::-1]` ...\n",
    "</span></div>"
   ]
  },
  {
   "cell_type": "code",
   "execution_count": null,
   "id": "3b5adfc2-3f3a-441a-8ac7-808fe3bca433",
   "metadata": {},
   "outputs": [],
   "source": []
  },
  {
   "cell_type": "code",
   "execution_count": null,
   "id": "a41d4558-a1bd-43d3-ba1e-6ea4f2f7699b",
   "metadata": {},
   "outputs": [],
   "source": []
  },
  {
   "cell_type": "markdown",
   "id": "74b275db-4c8d-43d0-9290-11afe896a2c8",
   "metadata": {},
   "source": [
    "<div class=\"alert alert-block alert-info\"><span style=\"color: #0000BB\">\n",
    "    \n",
    "- Define `L3` obtained by traversing `L1` backwards and adding the current term without its \".txt\" suffixe.<br>\n",
    "- Displays `L3`.\n",
    "</span></div>"
   ]
  },
  {
   "cell_type": "code",
   "execution_count": null,
   "id": "cc6a080a-da30-48e2-9b90-7b06be484aad",
   "metadata": {},
   "outputs": [],
   "source": []
  },
  {
   "cell_type": "markdown",
   "id": "709ae131-96f7-4400-a9b6-461eb7bb7a6f",
   "metadata": {},
   "source": [
    "[top](#top)"
   ]
  },
  {
   "cell_type": "markdown",
   "id": "499d959e-fb6f-442b-b912-00f4069f19af",
   "metadata": {
    "tags": []
   },
   "source": [
    "## The `enumerate` primitive <a name=\"enumerate\"> </a>"
   ]
  },
  {
   "cell_type": "markdown",
   "id": "f58529db-1bf3-4848-be80-2d96da7dc072",
   "metadata": {},
   "source": [
    "<div class=\"alert alert-block alert-info\">\n",
    "<span style=\"color: #0000BB;font-weight: bold; font-size:large;\">Exercise 2.1 $-$ Enumerated traversal of an iterable with the \n",
    "<span style=\"color:green\">enumerate</span> primitive.</span>\n",
    "<span style=\"color: #0000BB\">\n",
    "\n",
    "You can consult the documentation of the Python site on the *primitive*\n",
    "[enumerate](https://docs.python.org/3/library/functions.html?highlight=enumerate#enumerate),\n",
    "or the online help by typing the command\n",
    "<span style=\"color:green;font-family:arial\">help(enumerate)</span>.\n",
    "    \n",
    "With the list `L1` from the previous exercise:<br>\n",
    "- Using the primitive <span style=\"color:green;font-family:arial\">enumerate</span>, iterate over `L1` with the couple `n,e`: display at each loop lap the lap number (`n`) and the current element of `L1` (`e`).<br>\n",
    "- Find two different ways to display the loop lap number starting at 10.\n",
    "</span></div>"
   ]
  },
  {
   "cell_type": "code",
   "execution_count": null,
   "id": "c8626221-5af3-4c99-aad2-210c5d8eef83",
   "metadata": {},
   "outputs": [],
   "source": []
  },
  {
   "cell_type": "markdown",
   "id": "ddc6e02a-06c3-40a2-9542-7f651c94a372",
   "metadata": {},
   "source": [
    "[top](#top)"
   ]
  },
  {
   "cell_type": "markdown",
   "id": "c0e66d05-a74b-4aa9-a074-ed2c9a1fea7b",
   "metadata": {
    "tags": []
   },
   "source": [
    "## The `zip` primitive <a name=\"zip\"> </a>"
   ]
  },
  {
   "cell_type": "markdown",
   "id": "5aa3efe7-0ac1-4232-9ad6-14c0cbcc641d",
   "metadata": {},
   "source": [
    "<div class=\"alert alert-block alert-info\">\n",
    "<span style=\"color: #0000BB;font-weight: bold; font-size:large;\">Exercise 2.2 $–$ Simultaneous traversal of several iterables: \n",
    "<span style=\"color:green\">zip</span> primitive.</span>\n",
    "<span style=\"color: #0000BB\">    \n",
    "\n",
    "You can consult the documentation of the Python site on the\n",
    "primitive [zip](https://docs.python.org/3/library/functions.html?highlight=zip#zip)\n",
    "or the online help by typing the command\n",
    "<span style=\"color:green;font-family:arial\">help(zip)</span>.\n",
    "- Define `R` as `range(5,-6,-2)` and display `R` as a list.\n",
    "- Using the <span style=\"color:green\">zip</span> primitive, simultaneously browse `R` and `L1` with the pair of names `n,e` and display at each loop lap the value of `n` followed by `\":\"` followed by the value of `e`."
   ]
  },
  {
   "cell_type": "code",
   "execution_count": null,
   "id": "0dabf8d4-cb76-4231-b7de-bf2585495308",
   "metadata": {},
   "outputs": [],
   "source": []
  },
  {
   "cell_type": "markdown",
   "id": "2346aa04-88a1-4651-a486-8bd3246bceb9",
   "metadata": {},
   "source": [
    "[top](#top)"
   ]
  },
  {
   "cell_type": "markdown",
   "id": "f75da116-a175-4ed8-87e2-00f6f4ebfbfe",
   "metadata": {},
   "source": [
    "## __3 - 'Mutable/not mutable' objects in Python__ <a name=\"3\"></a>\n",
    "\n",
    "Python **mutable objects** are instances of classes that can be modified using the methods\n",
    "classes or language operator.\n",
    "\n",
    "Most methods that modify a mutable object return **nothing** because the modification is done\n",
    "*in place* on the object data.<br>\n",
    "An important consequence is that if we write\n",
    "<span style=\"color:#9f1f0f\">X = mutableobject.method(...)</span>,\n",
    "where <span style=\"color:#9f1f0f\">method</span> modifies\n",
    "<span style=\"color:#9f1f0f\">mutableobject</span>, we get\n",
    "<span style=\"color:#9f1f0f\">None</span> as the value returned by <span style=\"color:#9f1f0f\">method</span> and \n",
    "<span style=\"color:#9f1f0f\">X</span> becomes the name of <span style=\"color:#9f1f0f\">None</span> !!\n",
    "\n",
    "The main mutable objects are **lists**\n",
    "(class <span style=\"color:green\">list</span>), **dictionaries**\n",
    "(class <span style=\"color:green\">dict</span>) and optionally\n",
    "**user-defined classes**.\n",
    "\n",
    "Most **base types** are **not mutable** like\n",
    "<span style=\"color:green\">int</span>,\n",
    "<span style=\"color:green\">float</span>,\n",
    "<span style=\"color:green\">complex</span>,\n",
    "<span style=\"color:green\">str</span>,\n",
    "<span style=\"color:green\">bool</span>... as well as the type\n",
    "<span style=\"color:green\">tuple</span>\n",
    "(this is what differentiates it from the <span style=\"color:green\">list</span> type)."
   ]
  },
  {
   "cell_type": "markdown",
   "id": "5e9ba5fb-bb40-4455-a742-ab4fd9073083",
   "metadata": {},
   "source": [
    "#### <span style=\"color:#0060B0\"> A string is not mutable: </span>"
   ]
  },
  {
   "cell_type": "code",
   "execution_count": null,
   "id": "c60588d2-4b7f-48b0-b5fd-0dd2a8efafd1",
   "metadata": {},
   "outputs": [],
   "source": [
    "a = \"hello\"               # string -> not mutable!\n",
    "b = a.replace(\"h\",\"H\")    # a.replace(...) retuns a modified copy of a\n",
    "print(a,b)                # a has not changed"
   ]
  },
  {
   "cell_type": "markdown",
   "id": "11ea5087-a236-42ce-bc5d-9a93dd2699f1",
   "metadata": {},
   "source": [
    "#### <span style=\"color:#0060B0\"> A list is mutable: the `sort` method acts on the list and returns <span style=\"color:#9f1f0f\">None</span></span>"
   ]
  },
  {
   "cell_type": "code",
   "execution_count": null,
   "id": "8a3ad3fd-3da9-4fc0-9608-eb51da48a319",
   "metadata": {},
   "outputs": [],
   "source": [
    "L = list(range(5,-1,-1)); L"
   ]
  },
  {
   "cell_type": "code",
   "execution_count": null,
   "id": "96b904b7-3f35-49e2-a7bd-2422fc1e80c8",
   "metadata": {},
   "outputs": [],
   "source": [
    "L.sort(); L"
   ]
  },
  {
   "cell_type": "markdown",
   "id": "a3bcb3b4-acc9-4601-a345-bb101e3460f1",
   "metadata": {},
   "source": [
    "<br>\n",
    "**<span style=\"color:#800000\">FATAL ERROR: </span>**"
   ]
  },
  {
   "cell_type": "code",
   "execution_count": null,
   "id": "294a9f81-1545-4f30-8738-c977b9d38e55",
   "metadata": {},
   "outputs": [],
   "source": [
    "L = L.sort()  # L is lost !!!!\n",
    "print(L)"
   ]
  },
  {
   "cell_type": "markdown",
   "id": "ac1ffc5e-db94-42d9-9b74-fea1be5c4509",
   "metadata": {},
   "source": [
    "[top](#top)"
   ]
  },
  {
   "cell_type": "markdown",
   "id": "d563b90f-c902-44a0-ac3d-6715eaaae8d7",
   "metadata": {},
   "source": [
    "## __4 - The `list` type__ <a name=\"4\"></a>"
   ]
  },
  {
   "cell_type": "markdown",
   "id": "43b4363e-a783-44f0-9062-03654c4b5a29",
   "metadata": {},
   "source": [
    "<div class=\"alert alert-block alert-info\">\n",
    "<span style=\"color: #0000BB;font-weight: bold; font-size:large;\">Exercise 4.1</span>\n",
    "<span style=\"color: #0000BB\">\n",
    "\n",
    "\n",
    "- Using the <span style=\"color:green\">randint</span> function of the <span style=\"color:green\">random</span> module\n",
    "    and the <span style=\"color:green\">append</span> method of the <span style=\"color:green\">list</span> class, create\n",
    "`LA`, a list of 10 random integer between 0 and 30.<br>\n",
    "(If necessary see [module random](https://docs.python.org/3/library/random.html), or the inline help\n",
    "by typing <tt><span style=\"color:green\">help(\"random.randint\")</span></tt> in a cell.<br>\n",
    "- Arrange the elements of `LA` in ascending order then display `LA`.\n",
    "- Now sort the elements of `LA`  in descending order then display `LA`<br>\n",
    "  $\\leadsto$ tips: look at the online help on `list.sort`"
   ]
  },
  {
   "cell_type": "code",
   "execution_count": null,
   "id": "414a44f8-cb5b-4326-882c-8354c39c1599",
   "metadata": {},
   "outputs": [],
   "source": []
  },
  {
   "cell_type": "code",
   "execution_count": null,
   "id": "6af18b9f-c367-43b9-a605-3f2da60cd478",
   "metadata": {},
   "outputs": [],
   "source": []
  },
  {
   "cell_type": "code",
   "execution_count": null,
   "id": "8811a8b6-e82c-4c04-8c5e-23de6a469507",
   "metadata": {},
   "outputs": [],
   "source": []
  },
  {
   "cell_type": "markdown",
   "id": "32d1eff6-5115-4117-ae45-0d5e2cdf489c",
   "metadata": {},
   "source": [
    "[top](#top)"
   ]
  },
  {
   "cell_type": "markdown",
   "id": "2c463d91-748d-4192-a945-8a4926804981",
   "metadata": {},
   "source": [
    "## List comprehension <a name=\"list_comprehension\"></a>\n",
    "\n",
    "A **list comprehension** is a list including a **a loop** at the definition step: `L = [ <expression> for <item> in <iterable> ]`.<br>\n",
    "you can also incorporate a filter: `[ <expression> for <item> in <iterable> if <condition(s)> ]`."
   ]
  },
  {
   "cell_type": "code",
   "execution_count": null,
   "id": "f03c3a50-4cba-44c3-9991-5fb26271ee2c",
   "metadata": {},
   "outputs": [],
   "source": [
    "# Examples:\n",
    "L1 = [f\"data{i}.txt\" for i in range(1,5)]\n",
    "L1"
   ]
  },
  {
   "cell_type": "code",
   "execution_count": null,
   "id": "a363231d-f8ab-44f6-9ba7-ac29cd9c3cbd",
   "metadata": {},
   "outputs": [],
   "source": [
    "# Examples:\n",
    "L2 = [x-6 for x in range(16) if x % 3 != 0]\n",
    "L2"
   ]
  },
  {
   "cell_type": "markdown",
   "id": "d922f67f-cf7b-4df0-a43c-f4e03ade1f00",
   "metadata": {},
   "source": [
    "[top](#top)"
   ]
  },
  {
   "cell_type": "markdown",
   "id": "23fa06c5-017c-4b78-8c18-4d98f0d8668a",
   "metadata": {},
   "source": [
    "<div class=\"alert alert-block alert-info\">\n",
    "<span style=\"color: #0000BB;font-weight: bold; font-size:large;\">Exercise 4.2 $-$ List comprehension</span>\n",
    "<span style=\"color: #0000BB\">\n",
    "\n",
    "- Redefine in comprehension the `LA` list of the previous exercise.\n",
    "- Define and display the list comprehension `LS` of the squares of the elements of `LA`.\n",
    "- Define and display the list comprehension `LE` of the even elements of `LA`.\n",
    "- Define and display the list comprehension `LO` of squares of the odd elements of `LA`."
   ]
  },
  {
   "cell_type": "code",
   "execution_count": null,
   "id": "05026c7d-735b-4c58-93db-53c0c1be8974",
   "metadata": {},
   "outputs": [],
   "source": []
  },
  {
   "cell_type": "code",
   "execution_count": null,
   "id": "72b9c3d9-2ec6-4aaf-b03b-4d70e163bff4",
   "metadata": {},
   "outputs": [],
   "source": []
  },
  {
   "cell_type": "code",
   "execution_count": null,
   "id": "89171c42-2deb-4683-a6d9-afa4bf2aaed2",
   "metadata": {},
   "outputs": [],
   "source": []
  },
  {
   "cell_type": "code",
   "execution_count": null,
   "id": "4af69b86-37a4-4e96-8cd9-2069e2d99a63",
   "metadata": {},
   "outputs": [],
   "source": []
  },
  {
   "cell_type": "markdown",
   "id": "764362c9-b6c2-4272-af99-953939eabab6",
   "metadata": {},
   "source": [
    "[top](#top)"
   ]
  },
  {
   "cell_type": "markdown",
   "id": "dbdc0084-2d85-4156-8d78-f4b7c4599a31",
   "metadata": {},
   "source": [
    "### Slicing <a name=\"slicing\"></a>\n",
    "The **slicing** allows you to extract part of a list: **it is a technique to master absolutely**.\n",
    "\n",
    "This technique also applies to character strings and multidimensional arrays\n",
    "(like numpy.ndarray).<br />\n",
    "\n",
    "The syntax with the list `L` is: `L[<start inclusive>:<end exclusive>:<step>]`<br />\n",
    "or, if the step is 1: `L[<start inclusive>:<end exclusive>]`<br />\n",
    "\n",
    "Using negative indices allows the list to be traversed in the opposite direction.\n",
    "\n",
    "<img src=\"img/slicing.png\" style=\"height:300px;width:400px\" align=\"middle\"/>"
   ]
  },
  {
   "cell_type": "markdown",
   "id": "ffc6bcff-9718-4e66-aad0-beb24bd0bd99",
   "metadata": {},
   "source": [
    "<div class=\"alert alert-block alert-info\">\n",
    "<span style=\"color: #0000BB;font-weight: bold; font-size:large;\">Exercise 4.3 $-$ List slicing</span>\n",
    "<span style=\"color: #0000BB\">\n",
    "\n",
    "- Set and display `LC`, the list of integers from -10 to 10.\n",
    "- Extract and display the first 3 elements of `LC`.\n",
    "- Extract and display the last 4 elements of `LC`.\n",
    "- Display the list obtained by traversing `LC` backwards. Visually check that `LC` is not modified.\n",
    "- Display the elements of `LC` going from the penultimate to the fourth inclusive by step of −1."
   ]
  },
  {
   "cell_type": "code",
   "execution_count": null,
   "id": "34494b57-4c9a-4163-acee-d92321cdc140",
   "metadata": {},
   "outputs": [],
   "source": []
  },
  {
   "cell_type": "code",
   "execution_count": null,
   "id": "d5d82d16-95ea-4cfe-bdb0-a484e9f20636",
   "metadata": {},
   "outputs": [],
   "source": []
  },
  {
   "cell_type": "code",
   "execution_count": null,
   "id": "b2000859-39ef-4f57-a423-f347b0483821",
   "metadata": {},
   "outputs": [],
   "source": []
  },
  {
   "cell_type": "code",
   "execution_count": null,
   "id": "1853d5ca-9185-48aa-a705-c746be529dbd",
   "metadata": {},
   "outputs": [],
   "source": []
  },
  {
   "cell_type": "code",
   "execution_count": null,
   "id": "bcd368d0-2718-4c3c-bde7-024375af29f7",
   "metadata": {},
   "outputs": [],
   "source": []
  },
  {
   "cell_type": "markdown",
   "id": "e883b703-03c6-4706-b688-984cb2b6844d",
   "metadata": {},
   "source": [
    "[top](#top)"
   ]
  },
  {
   "cell_type": "markdown",
   "id": "31580141-3717-4adb-8f01-93b21df06635",
   "metadata": {},
   "source": [
    "## __5 - The `str` type__ <a name=\"5\"></a>"
   ]
  },
  {
   "cell_type": "markdown",
   "id": "0e1cf551-7350-4757-ac90-7481981f03f4",
   "metadata": {},
   "source": [
    "The expression `dir(item)` returns the names of the attributes and methods of `item`.<br>\n",
    "Seeing the result of `dir(str)` in the cell below can you predict the result of list comprehension in the next cell ?"
   ]
  },
  {
   "cell_type": "code",
   "execution_count": null,
   "id": "e3b56df5-ce25-449d-abe6-05eeac6fc8ed",
   "metadata": {},
   "outputs": [],
   "source": [
    "print(dir(str))"
   ]
  },
  {
   "cell_type": "code",
   "execution_count": null,
   "id": "9fd01a69-db17-4cf8-abdc-3e437566b53c",
   "metadata": {},
   "outputs": [],
   "source": [
    "print([item for item in dir(str) if not item.startswith(\"__\")])"
   ]
  },
  {
   "cell_type": "markdown",
   "id": "50ffa94d-6b06-4d05-bb71-351fe0b0ae7f",
   "metadata": {},
   "source": [
    "[top](#top)"
   ]
  },
  {
   "cell_type": "markdown",
   "id": "65483c53-407e-4edd-bda0-107e83b6e013",
   "metadata": {},
   "source": [
    "<div class=\"alert alert-block alert-info\">\n",
    "<span style=\"color: #0000BB;font-weight: bold; font-size:large;\">Exercise 5.1</span>\n",
    "<span style=\"color: #0000BB\">\n",
    "    \n",
    "- Display the help on the `replace` method of the `str` class.<br>\n",
    "- Define and display the string `S1` containing `\"Hello friends!\"`.<br>\n",
    "- Define and display the string `S2` equal to S1 capitalized.<br>\n",
    "- Define and display the string `S3` obtained by replacing in S1 `Hello` by `Goodbye`<br>\n",
    "- Verify that `S1` has not been modified...      \n",
    "\n",
    "    </span></div>"
   ]
  },
  {
   "cell_type": "code",
   "execution_count": null,
   "id": "9c4603bb-3586-4ff9-b337-f055909a6135",
   "metadata": {},
   "outputs": [],
   "source": []
  },
  {
   "cell_type": "code",
   "execution_count": null,
   "id": "1da2137a-531e-408c-a91f-9e2501d88d53",
   "metadata": {},
   "outputs": [],
   "source": []
  },
  {
   "cell_type": "markdown",
   "id": "ebb4e301-d4b0-4a1f-a55c-c486169f909d",
   "metadata": {},
   "source": [
    "<div class=\"alert alert-block alert-info\">\n",
    "<span style=\"color: #0000BB;font-weight: bold; font-size:large;\">Exercise 5.2</span>\n",
    "<span style=\"color: #0000BB\">\n",
    "        \n",
    "- Define `fileName` as the string `\"data1.txt\"`.\n",
    "- Using the `replace` method applied to `fileName`, define `imageName` by replacing `\".txt\"` by `\".png\"` in `fileName`\n",
    "- Display `fileName` and `imageName`.\n",
    "</span></div>"
   ]
  },
  {
   "cell_type": "code",
   "execution_count": null,
   "id": "46812c34-a161-4018-9c38-0f191b3a38cc",
   "metadata": {},
   "outputs": [],
   "source": []
  },
  {
   "cell_type": "markdown",
   "id": "f1580d73-7cf3-4914-a4fa-aaacd86d9ca5",
   "metadata": {},
   "source": [
    "[top](#top)"
   ]
  },
  {
   "cell_type": "markdown",
   "id": "cb707668-9c95-4999-a69e-cebf247869c5",
   "metadata": {},
   "source": [
    "### f-string: formatted string. <a name=\"f-string\"></a>\n",
    "\n",
    "The syntaxe `f\".....\"` constructs a formatted string.<br>\n",
    "Take a look at some formatting examples below:"
   ]
  },
  {
   "cell_type": "code",
   "execution_count": null,
   "id": "abf43421-2a48-4680-bed2-d903c393ab8a",
   "metadata": {},
   "outputs": [],
   "source": [
    "amount = 123.4567\n",
    "message = f\"Amount due: {amount} €\" # Python looks for the occurrence of {expression} and \n",
    "                                    # replaces expression by its value\n",
    "print(message)"
   ]
  },
  {
   "cell_type": "markdown",
   "id": "1482c13b-496f-4937-b483-2d509c6e76b9",
   "metadata": {},
   "source": [
    "<br>By specifying the format with `{expression:format}` we can control the format.<br>\n",
    "`{expression:.2f}` $\\leadsto$ `expression` is replaced by its value as a float with 2 decimal places:\n"
   ]
  },
  {
   "cell_type": "code",
   "execution_count": null,
   "id": "2402548a-ff5c-4ee8-9c67-4317f12fc42d",
   "metadata": {},
   "outputs": [],
   "source": [
    "print(f\"Amount due: {amount:.2f} €\")"
   ]
  },
  {
   "cell_type": "markdown",
   "id": "7bd493a2-1061-4e1a-b42f-28d01f5ff40d",
   "metadata": {},
   "source": [
    "<br>`{expression:8.2f}` $\\leadsto$ `expression` is replaced by its value as an 8 character float\n",
    "with 2 decimal places:"
   ]
  },
  {
   "cell_type": "code",
   "execution_count": null,
   "id": "d36667c5-d90a-49e2-8be2-ea74a94d361b",
   "metadata": {},
   "outputs": [],
   "source": [
    "print(f\"Amount due: {amount:8.2f} €\")"
   ]
  },
  {
   "cell_type": "markdown",
   "id": "a8052cdf-163d-4baa-8b3a-be363f765f61",
   "metadata": {},
   "source": [
    "<br>`{expression:08.2f}` $\\leadsto$ `expression` is replaced by its value as an 8 characters float\n",
    "with 2 decimal places and left padding with 0s."
   ]
  },
  {
   "cell_type": "code",
   "execution_count": null,
   "id": "07b8bca0-c249-4dae-bf03-420821fd96be",
   "metadata": {},
   "outputs": [],
   "source": [
    "print(\"Amount due: {amount:08.2f} €\")"
   ]
  },
  {
   "cell_type": "markdown",
   "id": "75abf513-deec-4f26-8453-fed85942fe00",
   "metadata": {},
   "source": [
    "[top](#top)"
   ]
  },
  {
   "cell_type": "markdown",
   "id": "43a25d59-5b6d-4b17-b484-ecd460251b37",
   "metadata": {},
   "source": [
    "<div class=\"alert alert-block alert-info\">\n",
    "<span style=\"color: #0000BB;font-weight: bold; font-size:large;\">Exercise 5.2 Palindrome</span>\n",
    "<span style=\"color: #0000BB\">\n",
    "  \n",
    "- Define `S` as the string `\"A man, a plan, a canal--Panama!\"`.\n",
    "- Define `s` as `S` converted to lower case.\n",
    "- Verify that `s` is a *palindrome*  : ignoring comas, spaces, dashes, exclamation marks... reading it from left to right and from right to left gives the same result."
   ]
  },
  {
   "cell_type": "code",
   "execution_count": null,
   "id": "b1d23d6e-b7e8-4033-b66d-236c44ba297d",
   "metadata": {},
   "outputs": [],
   "source": []
  },
  {
   "cell_type": "markdown",
   "id": "96a092cc-ba6a-4a91-ae16-0fe513bb73ff",
   "metadata": {},
   "source": [
    "[top](#top)"
   ]
  }
 ],
 "metadata": {
  "kernelspec": {
   "display_name": "Python 3",
   "language": "python",
   "name": "python3"
  },
  "language_info": {
   "codemirror_mode": {
    "name": "ipython",
    "version": 3
   },
   "file_extension": ".py",
   "mimetype": "text/x-python",
   "name": "python",
   "nbconvert_exporter": "python",
   "pygments_lexer": "ipython3",
   "version": "3.8.13"
  }
 },
 "nbformat": 4,
 "nbformat_minor": 5
}
