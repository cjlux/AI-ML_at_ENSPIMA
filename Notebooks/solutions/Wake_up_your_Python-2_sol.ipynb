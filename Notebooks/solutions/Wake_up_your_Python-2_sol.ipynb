{
 "cells": [
  {
   "cell_type": "markdown",
   "id": "58011e4f-5a93-4292-8c22-87f383ad8d5a",
   "metadata": {},
   "source": [
    "<span style=\"font-size:10pt\">AI @ ENSPIMA_2022-2023 / v1.1 september 2022 / Jean-Luc CHARLES (Jean-Luc.charles@ensam.eu) / CC BY-SA 4.0 /</span>"
   ]
  },
  {
   "cell_type": "markdown",
   "id": "95771e66-a89c-491c-ba35-28c7e76ecd73",
   "metadata": {
    "tags": []
   },
   "source": [
    "# <img align=\"middle\" src=\"./img/alarmClock.png\" width=\"60\" height=\"60\">  __Wake up your Python__ ! part 2<a name=\"top\"></a>\n",
    "\n",
    "## [ 1 $-$ Conversion <span style=\"color:green\">list</span> <-> <span style=\"color:green\">numpy.ndarray</span>](#1)\n",
    "## [ 2 $-$ Reading ASCII files $-$ Encoding](#2)\n",
    "## [ 3 $-$ Tree manipulation: the `os` module](#3)\n",
    "## [ 4 $-$ Reading image files](#4)\n",
    "## [ 5 $-$ Drawing curves with `matplolib`](#5)\n",
    "## [ 6 $-$ Programming techniques](#6)\n"
   ]
  },
  {
   "cell_type": "markdown",
   "id": "a7fe1211-666f-4cab-bccf-68968a05a9e3",
   "metadata": {},
   "source": [
    "<div class=\"alert alert-block alert-info\"> <span style=\"color:#000080\">\n",
    "For each example in this notebook, take care to read the explanations given and to execute the Python cells with $\\left(\\mathtt{Shift+Enter}\\right)$, before proceeding to the exercises.\n",
    "</span>\n",
    "</div>"
   ]
  },
  {
   "cell_type": "markdown",
   "id": "cdafa3e6-6a98-4a54-a516-8c26c549e5a2",
   "metadata": {},
   "source": [
    "## __1 $-$ Conversion <span style=\"color:green\">list</span> <-> <span style=\"color:green\">numpy.ndarray</span>__ <a name=\"1\"></a>\n",
    "\n",
    "Objects of type <span style=\"color:green\">list</span> are very suitable for collecting data, \n",
    "but they cannot be used for doing **advanced calculations**.<br>\n",
    "=> You **must** know how to convert <span style=\"color:green\">list</span> objects into arrays\n",
    "<span style=\"color:green\">numpy.ndarray</span> and vice versa:<br>\n",
    "\n",
    "`M = numpy.array(L)` converts the  <span style=\"color:green\">list</span> `L`  to the <span style=\"color:green\">ndarray</span> (n-dimensional array) `M` \n",
    "(see the [array](https://docs.scipy.org/doc/numpy/reference/generated/numpy.array.html) function of **numpy**)<br>\n",
    "\n",
    "`L = M.tolist()` converts the <span style=\"color:green\">ndarray</span> `M` to the <span style=\"color:green\">list</span> `L` \n",
    "(see method [numpy.ndarray.tolist](https://docs.scipy.org/doc/numpy/reference/generated/numpy.ndarray.tolist.html))."
   ]
  },
  {
   "cell_type": "markdown",
   "id": "320b6401-fdae-471a-a583-fe3b1c4c386e",
   "metadata": {},
   "source": [
    "<div class=\"alert alert-block alert-info\">\n",
    "<span style=\"color: #0000BB;font-weight: bold; font-size:large;\">Exercise 1.1 $–$ Conversions list ↔ vector</span>\n",
    "<div><span style=\"color: #0000BB\">\n",
    "    \n",
    "- Define the list comprehension `L1` of the squares of the integers from 1 to 9.<b>\n",
    "\n",
    "- Define and display `v1`, the conversion of `L1` to a <span style=\"color:green\">numpy.ndarray</span>.<br>\n",
    "\n",
    "- Display the type of `v1` and its attributes\n",
    "<span style=\"color:green\">dtype</span>,\n",
    "<span style=\"color:green\">shape</span>,\n",
    "<span style=\"color:green\">ndim</span>,\n",
    "<span style=\"color:green\">size</span>,\n",
    "<span style=\"color:green\">itemsize</span> and\n",
    "<span style=\"color:green\">nbytes</span>.\n",
    "    \n",
    "- Define and display `v2`, the conversion of `L1` to a\n",
    "<span style=\"color:green\">ndarray</span> of integers, obtained by passing the additional argument\n",
    "<span style=\"color:brown\">dtype=</span><span style=\"color:green\">\"uint8\"</span>\n",
    "to the `array` function.<br>\n",
    "Display `V2.itemsize`.<br>\n",
    "\n",
    "- Define **without an explicit loop** the vector `v3`, such that for all $i$:\n",
    "$v3[i]\\,=\\,\\sqrt{v2[i]}\\,\\cos(v2[i]\\,\\pi/20)$.<br>\n",
    "$\\leadsto$ tips: use `np.sqrt(...)`, `np.cos(...)` and `np.pi`.<br>\n",
    "Show `v3` and its attributes\n",
    "<span style=\"color:green\">shape</span>,\n",
    "<span style=\"color:green\">ndim</span> and\n",
    "<span style=\"color:green\">size</span>.\n",
    "\n",
    "- Modify `v3` with the instruction `v3.shape = (3,3)`: display again `v3` and its attributes\n",
    "<span style=\"color:green\">shape</span>,\n",
    "<span style=\"color:green\">ndim</span> and\n",
    "<span style=\"color:green\">size</span>; observe what has changed.\n",
    "\n",
    "- Convert `v3` to the `L3` list using the`tolist` method of the class <span style=\"color:green\">ndarray</span>. Display `L3`.\n",
    "</span></div>"
   ]
  },
  {
   "cell_type": "code",
   "execution_count": null,
   "id": "2bd54ecb-a0d9-4420-9600-8823fa69a8e8",
   "metadata": {},
   "outputs": [],
   "source": [
    "L1 = [n**2 for n in range(1,10)] ; L1"
   ]
  },
  {
   "cell_type": "code",
   "execution_count": null,
   "id": "685e8ad9-a653-4e11-b102-a29634b0443b",
   "metadata": {},
   "outputs": [],
   "source": [
    "import numpy as np\n",
    "v1 = np.array(L1) ; v1"
   ]
  },
  {
   "cell_type": "code",
   "execution_count": null,
   "id": "55300ad2-cb0a-4de9-bbd5-256db5c3aab7",
   "metadata": {},
   "outputs": [],
   "source": [
    "type(v1)"
   ]
  },
  {
   "cell_type": "code",
   "execution_count": null,
   "id": "8e87b2e9-d4a1-423a-8ad6-4a8711e6d1d0",
   "metadata": {},
   "outputs": [],
   "source": [
    "print('v1.dtype:', v1.dtype)\n",
    "print('v1.shape:', v1.shape)\n",
    "print('v1.ndim:', v1.ndim)\n",
    "print('v1.size:', v1.size)\n",
    "print('v1.itemsize:', v1.itemsize)\n",
    "print('v1.nbytes:', v1.nbytes)"
   ]
  },
  {
   "cell_type": "code",
   "execution_count": null,
   "id": "aaf1ef99-3106-4ceb-86ac-9204b589b29a",
   "metadata": {},
   "outputs": [],
   "source": [
    "v2 = np.array(L1, dtype=\"uint8\") \n",
    "print(v2)\n",
    "print(v2.itemsize)"
   ]
  },
  {
   "cell_type": "code",
   "execution_count": null,
   "id": "a6e3c7f2-d672-4e20-a890-ae6fdce801ab",
   "metadata": {},
   "outputs": [],
   "source": [
    "v3 = np.sqrt(v2)*np.cos(v2*np.pi/20)\n",
    "v3"
   ]
  },
  {
   "cell_type": "code",
   "execution_count": null,
   "id": "4c576f18-a58c-4eaa-99f4-90f5303a94a6",
   "metadata": {},
   "outputs": [],
   "source": [
    "print('v3.shape:', v1.shape)\n",
    "print('v3.ndim:', v1.ndim)\n",
    "print('v3.size:', v1.size)"
   ]
  },
  {
   "cell_type": "code",
   "execution_count": null,
   "id": "b64aa362-69b6-44dc-acdf-003e963cb7a2",
   "metadata": {},
   "outputs": [],
   "source": [
    "v3.shape = (3,3)\n",
    "v3"
   ]
  },
  {
   "cell_type": "code",
   "execution_count": null,
   "id": "f9e0e8a6-070a-4c85-b92c-1c3ae691fe14",
   "metadata": {},
   "outputs": [],
   "source": [
    "print('v3.shape:', v1.shape)\n",
    "print('v3.ndim:', v1.ndim)\n",
    "print('v3.size:', v1.size)"
   ]
  },
  {
   "cell_type": "code",
   "execution_count": null,
   "id": "2e1a8d00-91cb-404f-be28-fb7bcb5fb33a",
   "metadata": {},
   "outputs": [],
   "source": [
    "L3 = v3.tolist()\n",
    "L3"
   ]
  },
  {
   "cell_type": "markdown",
   "id": "41ea2193-6ee5-4975-857c-16600deffd5e",
   "metadata": {},
   "source": [
    "[top](#top)"
   ]
  },
  {
   "cell_type": "markdown",
   "id": "3b66479a-5dad-41a8-a0ad-0a582f53f2d3",
   "metadata": {},
   "source": [
    "<div class=\"alert alert-block alert-info\">\n",
    "<span style=\"color: #0000BB;font-weight: bold; font-size:large;\">Exercise 1.2 $–$ Conversion list <-> matrix</span>\n",
    "<span style=\"color: #0000BB\">\n",
    "  \n",
    "- Observe the result of the two cells below:\n",
    "</span></div>"
   ]
  },
  {
   "cell_type": "code",
   "execution_count": null,
   "id": "4ef71ef9-e60c-45c5-868e-707a81e28082",
   "metadata": {},
   "outputs": [],
   "source": [
    "[10*i+j for i in range(1,4) for j in range(1,4)]"
   ]
  },
  {
   "cell_type": "code",
   "execution_count": null,
   "id": "71f6bc41-aeed-4bfb-bc72-60ff79b4f8c3",
   "metadata": {},
   "outputs": [],
   "source": [
    "[[10*i+j for j in range(1,4)] for i in range(1,4)]"
   ]
  },
  {
   "cell_type": "markdown",
   "id": "46237549-e13a-40a3-9562-2de7d8a9e037",
   "metadata": {},
   "source": [
    "<div class=\"alert alert-block alert-info\">\n",
    "<span style=\"color: #0000BB\">\n",
    "    \n",
    "- Deduce two different ways to define the matrix `M` of general term $M_{i,\\,j}=j^{\\,i}$ with $(i,j) \\in [1;5]\\times [1;5]$ using list comprehensions defined then converted to <span style=\"color:green\">ndarray</span> .\n",
    "</span></div>"
   ]
  },
  {
   "cell_type": "code",
   "execution_count": null,
   "id": "387c9227-a250-471d-9ad9-9829d6cdc3c1",
   "metadata": {},
   "outputs": [],
   "source": [
    "import numpy as np\n",
    "L = [j**i for i in range(1,6) for j in range(1,6)]\n",
    "V = np.array(L); V"
   ]
  },
  {
   "cell_type": "code",
   "execution_count": null,
   "id": "b2fde78b-f895-4c90-9aab-36e5143c3d89",
   "metadata": {},
   "outputs": [],
   "source": [
    "V.shape = (5,5); V"
   ]
  },
  {
   "cell_type": "code",
   "execution_count": null,
   "id": "439784a8-5959-44ff-b137-e7b6a71331ea",
   "metadata": {},
   "outputs": [],
   "source": [
    "L = [[j**i for j in range(1,6)] for i in range(1,6)]; L"
   ]
  },
  {
   "cell_type": "code",
   "execution_count": null,
   "id": "c3a41a7a-7ed2-4372-9b47-37cf0201b0cf",
   "metadata": {},
   "outputs": [],
   "source": [
    "M = np.array(L); M"
   ]
  },
  {
   "cell_type": "markdown",
   "id": "96a092cc-ba6a-4a91-ae16-0fe513bb73ff",
   "metadata": {},
   "source": [
    "[top](#top)"
   ]
  },
  {
   "cell_type": "markdown",
   "id": "9de1f297-dc98-49aa-9938-1284a2835ef6",
   "metadata": {},
   "source": [
    "## __2 $-$ Reading ASCII files $-$ Encoding__ <a name=\"2\"></a>\n",
    "\n",
    "ASCII files are read with the <span style=\"color:green\">open</span> primitive which returns an iterable object of type </span><span style=\"color:green\">TextIOWrapper</span>: <br />\n",
    "    **<span style=\"font-family:courier\">\n",
    "<span style=\"color:#B08000\">with</span> <span style=\"color:#800080\">open</span>( <span style=\"color:#808080\">< file path ></span>, <span style=\"color:#008000\">\"r\"</span>, encoding=<span style=\"color:#808080\">< encoding_specification ></span>)<span style =\"color:#B08000\"> as</span> F:<br>\n",
    "    $\\phantom{---}$...</p> </span>**\n",
    "    \n",
    "Reading accented characters requires specifying their **encoding** for correct interpretation. The most common encodings are **utf8** (Mac OS X, GNU/Linux default encoding) and **cp1252** or **iso8859-15** (Windows default encoding).<br />\n",
    "\n",
    "Using a **<span style=\"font-family:courier;color:#B08000\">with</span>** block automatically closes the file as soon as you exit the block."
   ]
  },
  {
   "cell_type": "markdown",
   "id": "c2ace2d5-1852-4090-aaa4-996136048fba",
   "metadata": {},
   "source": [
    "<div class=\"alert alert-block alert-info\">\n",
    "<span style=\"color: #0000BB;font-weight: bold; font-size:large;\">Exercise 2.1 –Reading of an ASCII file, decoding accented characters</span>\n",
    "<span style=\"color: #0000BB\">\n",
    "  \n",
    "- Read the `./data/accents.txt` file in a string with the primitive <span style=\"color:green\">read</span>, specifying **cp1252** as encoding, then display the resulting string.\n",
    "- Same work, this time specifying **utf8** as the encoding.\n",
    "</span></div>"
   ]
  },
  {
   "cell_type": "code",
   "execution_count": null,
   "id": "30e38bd8-e079-4675-a1a9-cedfa4a53dc7",
   "metadata": {},
   "outputs": [],
   "source": [
    "with open(\"data/accents.txt\", \"r\", encoding=\"cp1252\") as F :\n",
    "    s = F.read()\n",
    "print(s)"
   ]
  },
  {
   "cell_type": "code",
   "execution_count": null,
   "id": "3be12e49-bf65-4659-aacb-f085182dfdb6",
   "metadata": {},
   "outputs": [],
   "source": [
    "with open(\"data/accents.txt\", \"r\", encoding=\"utf8\") as F :\n",
    "    s = F.read()\n",
    "print(s)"
   ]
  },
  {
   "cell_type": "markdown",
   "id": "cd551d40-a495-4f42-a4ab-1b5b20f30c92",
   "metadata": {},
   "source": [
    "[top](#top)"
   ]
  },
  {
   "cell_type": "markdown",
   "id": "5a9bb5ff-1d9f-41fa-846c-db7241b5886e",
   "metadata": {},
   "source": [
    "<div class=\"alert alert-block alert-info\">\n",
    "<span style=\"color: #0000BB;font-weight: bold; font-size:large;\">Exercise 2.2 $–$ Get the list of the lines of an ASCII file</span>\n",
    "<span style=\"color: #0000BB\">\n",
    "  \n",
    "- Define `L`, the list of the lines of the file `data/data.txt` by using the primitive <span style=\"color:green\">readlines</span>. Display `L`.\n",
    "\n",
    "- Now re-define `L` in order to eliminate lines that are comments (starting with `#`). Display `L`.\n",
    "</span></div>"
   ]
  },
  {
   "cell_type": "code",
   "execution_count": null,
   "id": "d968efe4-e0e9-400f-af26-9b8a08d801e5",
   "metadata": {},
   "outputs": [],
   "source": [
    "with open(\"data/data.txt\", \"r\", encoding=\"utf8\") as F :\n",
    "    L = F.readlines()\n",
    "print(L)"
   ]
  },
  {
   "cell_type": "code",
   "execution_count": null,
   "id": "69abfd82-1c0b-491f-bdd9-cdbd0820bfc7",
   "metadata": {},
   "outputs": [],
   "source": [
    "# Variante :\n",
    "L = [line for line in L if line[0] != \"#\" ]\n",
    "print(L)"
   ]
  },
  {
   "cell_type": "markdown",
   "id": "ad5c7543-4452-40d6-9620-b1cdfd625966",
   "metadata": {},
   "source": [
    "[top](#top)"
   ]
  },
  {
   "cell_type": "markdown",
   "id": "cfd101ac-b232-4e67-886b-333acd279676",
   "metadata": {},
   "source": [
    "## __3 $-$ Tree manipulation: the `os` module__ <a name=\"3\"></a>\n",
    "\n",
    "The `os` and `os.path` modules contain many functions dedicated to manipulating files and\n",
    "directories (also called folders). <br>\n",
    "In the table below `<path>` is a string\n",
    "giving the (relative or absolute) path of a file or directory:<br />\n",
    "\n",
    "<img src=\"img/module-os.png\" style=\"height:230px;width:700px\" /><br>\n",
    "\n",
    "\n",
    "**Helpful Notes**:\n",
    "- the <span style=\"color:green\">\"/\"</span> character can be used as a directory name separator for any operating system,\n",
    "- the current directory can be designated by the shortcut <span style=\"color:green\">\".\"</span>, the parent directory by the shortcut <span style=\"color:green\">\"..\"</span>."
   ]
  },
  {
   "cell_type": "markdown",
   "id": "3ed35819-f99b-477f-b061-cf011f0f8727",
   "metadata": {},
   "source": [
    "[top](#top)"
   ]
  },
  {
   "cell_type": "markdown",
   "id": "c9a6104c-4b54-46fb-af76-8cd4c95e93a3",
   "metadata": {},
   "source": [
    "See the examples below showing some usage of the `os` module:"
   ]
  },
  {
   "cell_type": "code",
   "execution_count": null,
   "id": "2e8a9d85-3938-4379-9cc8-a39196539101",
   "metadata": {},
   "outputs": [],
   "source": [
    "import os"
   ]
  },
  {
   "cell_type": "markdown",
   "id": "ffdf6a81-63c7-478c-8296-f95d03a08754",
   "metadata": {},
   "source": [
    "<br>The **current working directory** (cwd):"
   ]
  },
  {
   "cell_type": "code",
   "execution_count": null,
   "id": "1f345f9a-7260-4d4d-8d6f-431543d2146b",
   "metadata": {},
   "outputs": [],
   "source": [
    "os.getcwd()"
   ]
  },
  {
   "cell_type": "markdown",
   "id": "a12efb31-f454-4466-8931-9729dd205a1a",
   "metadata": {},
   "source": [
    "<br>The content of the current working directory:"
   ]
  },
  {
   "cell_type": "code",
   "execution_count": null,
   "id": "17622755-b6de-403c-9864-c64c0f4d73e4",
   "metadata": {},
   "outputs": [],
   "source": [
    "os.listdir('.')"
   ]
  },
  {
   "cell_type": "code",
   "execution_count": null,
   "id": "b5d1979b-b09b-4abc-88ba-fb6eda5a956a",
   "metadata": {},
   "outputs": [],
   "source": [
    "os.listdir()     # the default is the cwd..."
   ]
  },
  {
   "cell_type": "markdown",
   "id": "15fb1331-1d1e-4010-9014-c92a1f2169e3",
   "metadata": {},
   "source": [
    "<br>The content of the parent directory:"
   ]
  },
  {
   "cell_type": "code",
   "execution_count": null,
   "id": "2c6c9a16-e5f8-4098-8c09-4426c5eb17e7",
   "metadata": {},
   "outputs": [],
   "source": [
    "os.listdir('..')"
   ]
  },
  {
   "cell_type": "markdown",
   "id": "e444c23c-eda2-4b4d-ba1b-7cc9b2bdb829",
   "metadata": {},
   "source": [
    "<br>The content of the directory `./data`:"
   ]
  },
  {
   "cell_type": "code",
   "execution_count": null,
   "id": "7c8425bf-6e9e-43a2-a682-1b43a774af11",
   "metadata": {},
   "outputs": [],
   "source": [
    "os.listdir('data')"
   ]
  },
  {
   "cell_type": "markdown",
   "id": "27ec080e-0d29-48cd-b534-386bcbf4d71f",
   "metadata": {},
   "source": [
    "<br> Using `os.path.is<something>`:"
   ]
  },
  {
   "cell_type": "code",
   "execution_count": null,
   "id": "d42f2a9c-0c64-405b-bcfb-c5192fec95e6",
   "metadata": {},
   "outputs": [],
   "source": [
    "os.path.isfile('data/data.txt')"
   ]
  },
  {
   "cell_type": "code",
   "execution_count": null,
   "id": "1d232124-5b67-4fb6-89f5-ad95fbbfbaef",
   "metadata": {},
   "outputs": [],
   "source": [
    "os.path.isdir('data/data.txt')"
   ]
  },
  {
   "cell_type": "code",
   "execution_count": null,
   "id": "70855882-3001-478d-ba83-5fd7c7f2daaa",
   "metadata": {},
   "outputs": [],
   "source": [
    "os.path.isdir('data/directory1')"
   ]
  },
  {
   "cell_type": "code",
   "execution_count": null,
   "id": "ae2d6712-9e3a-460d-8d13-c9a28fdfcdf3",
   "metadata": {},
   "outputs": [],
   "source": [
    "os.path.exists('data/data.txt')"
   ]
  },
  {
   "cell_type": "code",
   "execution_count": null,
   "id": "f454dc7f-9013-4d74-9cce-92a55c6cc9c4",
   "metadata": {},
   "outputs": [],
   "source": [
    "os.path.exists('data/directory1/')"
   ]
  },
  {
   "cell_type": "markdown",
   "id": "f789ffbd-27aa-44ce-b95a-4158f60021c7",
   "metadata": {},
   "source": [
    "<div class=\"alert alert-block alert-info\">\n",
    "<span style=\"color: #0000BB;font-weight: bold; font-size:large;\">Exercise 3.1 $–$ Sorting files/directories</span>\n",
    "<span style=\"color: #0000BB\">\n",
    "    \n",
    "- Display the absolute name of the current directory with `os.gecwd()`.\n",
    "- Define and display `F`, the list comprehension of **files** and `D`, the list comprehension of directories contained in the directory <tt><b><span style=\"color:blue\">sources</span></b></tt>.\n",
    "</span></div>"
   ]
  },
  {
   "cell_type": "code",
   "execution_count": null,
   "id": "efee7382-ad58-467a-97c5-f29783f5bddc",
   "metadata": {},
   "outputs": [],
   "source": [
    "os.getcwd()"
   ]
  },
  {
   "cell_type": "code",
   "execution_count": null,
   "id": "f6c8c26d-6b7d-491a-822f-6bb4f8d1d379",
   "metadata": {},
   "outputs": [],
   "source": [
    "F = [f for f in os.listdir('data') if os.path.isfile(os.path.join('data', f))]\n",
    "print(\"Files:\", F)"
   ]
  },
  {
   "cell_type": "code",
   "execution_count": null,
   "id": "1d218061-f653-4275-b621-6ebd1395ec26",
   "metadata": {},
   "outputs": [],
   "source": [
    "D = [d for d in os.listdir('data') if os.path.isdir(os.path.join('data', d))]\n",
    "print(\"Directories:\", D)"
   ]
  },
  {
   "cell_type": "markdown",
   "id": "0f81b2e9-34b1-420a-859b-39945b68b436",
   "metadata": {},
   "source": [
    "<div class=\"alert alert-block alert-info\">\n",
    "<span style=\"color: #0000BB;font-weight: bold; font-size:large;\">Exercise 3.2 $–$ Full contents of a directory with `os.walk`</span>\n",
    "<span style=\"color: #0000BB\">\n",
    "    \n",
    "- Observe the elements contained in the list `list(os.walk('data'))`.\n",
    "    \n",
    "- Deduce a way to get the list of paths of all the files contained in the directory  `data`.\n",
    "<tt><b><span style=\"color:blue\">sources</span></b></tt> (and all of its subdirectories).\n",
    "</span></div>"
   ]
  },
  {
   "cell_type": "code",
   "execution_count": null,
   "id": "c7fb93f6-c191-4afc-b08c-b56a6a13b92b",
   "metadata": {},
   "outputs": [],
   "source": [
    "for dirs, sdirs, files in os.walk(\"data\") :\n",
    "    print(\"===================\\nDirectory:\",dirs)\n",
    "    print(\"\\tsub-directory:\",sdirs)\n",
    "    print(\"\\tfiles        :\",files)"
   ]
  },
  {
   "cell_type": "code",
   "execution_count": null,
   "id": "74c4f739-f6ad-4242-968b-d1c7ff46da35",
   "metadata": {},
   "outputs": [],
   "source": [
    "pathes = []\n",
    "for dirs, sdirs, files in os.walk(\"data\") :\n",
    "    pathes.extend([os.path.join(dirs, file) for file in files])\n",
    "pathes"
   ]
  },
  {
   "cell_type": "markdown",
   "id": "990e42ea-0d2d-4fe3-9e1f-51edc1f3eb30",
   "metadata": {},
   "source": [
    "[top](#top)"
   ]
  },
  {
   "cell_type": "markdown",
   "id": "f6c04090-e225-4d47-ae73-763c67aa74fb",
   "metadata": {},
   "source": [
    "## __4 $-$ Reading image files__ <a name=\"4\"></a>\n",
    "\n",
    "There are several modules that allow you to directly read a **file\n",
    "image in PNG** format and retrieve an array `T (nL × nC × 4)` of type\n",
    "`numpy.ndarray`.<br>\n",
    "\n",
    "The `T[i,j]` element of the `T` array is a pixel described by 4 levels Red, Green,\n",
    "Blue, Alpha (opacity).<br>\n",
    "\n",
    "The **imread** function of the **imageio** module returns an array of integers between\n",
    "0 and 255 (one-byte encoding), which corresponds to the “true” image encoding,\n",
    "while the **imread** function of the **matplotlib.pyplot** module converts\n",
    "additional division in floats between 0 and 1.<br>\n",
    "\n",
    "For image display, you can use **matplotlib.pyplot.imshow**."
   ]
  },
  {
   "cell_type": "markdown",
   "id": "bec655e6-9b12-4c97-a7bd-388efb1d3826",
   "metadata": {},
   "source": [
    "<div class=\"alert alert-block alert-info\">\n",
    "<span style=\"color: #0000BB;font-weight: bold; font-size:large;\">Exercise 4.1 $–$ Reading and simple image manipulation</span>\n",
    "<span style=\"color: #0000BB\">\n",
    "    \n",
    "- Using the **imread** functions from **imageio** and from **matplotlib.pyplot**, create the arrays `AI` of integers and `AF` of floats by\n",
    "reading the same image <tt><b><span style=\"color:blue\">pinglinux.png</span></b></tt> located in the directory\n",
    "<tt><b><span style=\"color:blue\">sources</span></b></tt>.\n",
    "\n",
    "- Compare their forms and the type of their content. What does the `numpy.allclose(TI,255*TF)` instruction return, why?"
   ]
  },
  {
   "cell_type": "code",
   "execution_count": null,
   "id": "49f5d648-5a51-4597-b2f5-392592ff78de",
   "metadata": {},
   "outputs": [],
   "source": [
    "from imageio.v2 import imread\n",
    "AI = imread(\"data/pinglinux.png\")\n",
    "AI.shape, AI.dtype"
   ]
  },
  {
   "cell_type": "code",
   "execution_count": null,
   "id": "45d04945-0225-4d14-bf1d-769b5eae37b7",
   "metadata": {},
   "outputs": [],
   "source": [
    "import matplotlib.pyplot as plt\n",
    "AF = plt.imread(\"data/pinglinux.png\")\n",
    "AF.shape, AF.dtype"
   ]
  },
  {
   "cell_type": "markdown",
   "id": "cd704f13-d908-4d64-bc16-f3ecee3c63cc",
   "metadata": {},
   "source": [
    "- Compraison betwenn `AI` and `AF`:"
   ]
  },
  {
   "cell_type": "code",
   "execution_count": null,
   "id": "15d838d7-8143-4bb3-8931-52de2159a33b",
   "metadata": {},
   "outputs": [],
   "source": [
    "np.allclose(AI, AF*255)"
   ]
  },
  {
   "cell_type": "markdown",
   "id": "65b8b186-8463-4102-ab13-931952d6ec22",
   "metadata": {},
   "source": [
    "- Visual checking:"
   ]
  },
  {
   "cell_type": "code",
   "execution_count": null,
   "id": "aaa9e6d2-533d-4aa4-af30-b9ac03ab0790",
   "metadata": {},
   "outputs": [],
   "source": [
    "fig, axes = plt.subplots(1,2)  # two graphs\n",
    "ax1, ax2 = axes\n",
    "\n",
    "ax1.set_facecolor( (0.8,1,0.8) ) # green background\n",
    "ax1.set_title(\"Array of uint8\")\n",
    "ax1.imshow(AI)\n",
    "\n",
    "ax2.set_facecolor( (1,0.8,1) )   # magenta background\n",
    "ax2.set_title(\"Array of float\")\n",
    "ax2.imshow(AF);"
   ]
  },
  {
   "cell_type": "markdown",
   "id": "187147bb-5929-493c-9dc5-c83ea0e76185",
   "metadata": {},
   "source": [
    "- Observe and explain the images bellow corresponding to `TI[::-1,:,:]`, `TI[:,::-1,:]` and `TI[:,:,;::-1]` :"
   ]
  },
  {
   "cell_type": "code",
   "execution_count": null,
   "id": "dbe578d9-9118-472f-b383-841c2185f04e",
   "metadata": {},
   "outputs": [],
   "source": [
    "plt.imshow(AI[::-1,:,:])"
   ]
  },
  {
   "cell_type": "code",
   "execution_count": null,
   "id": "c63df7e4-b672-44d2-8439-ed1176df3602",
   "metadata": {},
   "outputs": [],
   "source": [
    "plt.imshow(AI[:,::-1,:])"
   ]
  },
  {
   "cell_type": "code",
   "execution_count": null,
   "id": "8488de54-7353-4501-942c-cf11cf39cc9e",
   "metadata": {},
   "outputs": [],
   "source": [
    "plt.imshow(AI[:,:,::-1])"
   ]
  },
  {
   "cell_type": "markdown",
   "id": "85287a95-a622-4468-b6ba-84040cd6c524",
   "metadata": {},
   "source": [
    "[top](#top)"
   ]
  },
  {
   "cell_type": "markdown",
   "id": "e8e7ca7d-c3a2-402b-ac5e-cb4311461af9",
   "metadata": {},
   "source": [
    "## __5 $-$ Drawing curves with `matplolib`__ <a name=\"5\"></a>\n",
    "\n",
    "The **matplotlib.pyplot** module allows you to plot 2D, 3D and other curves.... see the gallery on the site [matplotlib.org/gallery.html](https://matplotlib.org/ gallery.html).\n",
    "\n",
    "**Tutorials**:<br>\n",
    "- on the matplotlib site: https://matplotlib.org/stable/ <br />\n",
    "- at the LABRI laboratory: http://www.labri.fr/perso/nrougier/teaching/matplotlib/ <br>"
   ]
  },
  {
   "cell_type": "markdown",
   "id": "452badde-8d6c-4d8f-b09c-22ca33f4d13c",
   "metadata": {},
   "source": [
    "Typical example of a **matplotlib** plot:"
   ]
  },
  {
   "cell_type": "code",
   "execution_count": null,
   "id": "c4134ca8-79dc-47ea-aca3-e46230e1f1ef",
   "metadata": {},
   "outputs": [],
   "source": [
    "Data to be plotted:\n",
    "# Left graph: representative curves\n",
    "X = np.linspace(0,10,500) # Vector of values for abscissas\n",
    "Y1 = 10*np.exp(-(X-8)**2)\n",
    "Y2 = np.cos(3*np.pi*X)*np.exp(-X/2)\n",
    "# Right graph: parametric curves\n",
    "A = np.linspace(0, np.pi, 300) # Vector of values for parameters\n",
    "Vx = (np.sin(5*A)-3*np.cos(A))*np.cos(A)\n",
    "Vy = (np.sin(5*A)-3*np.cos(A))*np.sin(A)"
   ]
  },
  {
   "cell_type": "code",
   "execution_count": null,
   "id": "3adad5b9-87c0-40fe-b97f-5b9947c0e326",
   "metadata": {},
   "outputs": [],
   "source": [
    "fig, (ax1, ax2) = plt.subplots(1,2)  # 1 row 2 colums\n",
    "fig.set_size_inches(12,5)\n",
    "\n",
    "# ax1 -> the left side drawing\n",
    "ax1.set_title(\"SubPlot 1 : 2 curves in frames (X,Y1) and (X,Y2)\")\n",
    "\n",
    "# 1 - Curve in the frame (X,Y1)\n",
    "ax1.set_ylabel(\"Y1 axis\", color=\"g\")\n",
    "p1 = ax1.plot(X, Y2, \"g-\", linewidth=2, label=r\"$\\cos(2\\pi x)e^{-x/2}$\")\n",
    "ax1.grid()\n",
    "\n",
    "# 2 - second frame (X,Y2):\n",
    "ax1t = ax1.twinx()\n",
    "p2 = ax1t.plot(X, Y1, \"b-\", linewidth=2, label=\"$10\\,e^{-(x - 8)^2}$\")\n",
    "ax1t.set_xlabel(\"x (common abcissa)\")\n",
    "ax1t.set_ylabel(\"Y2 axis\", color=\"b\")\n",
    "\n",
    "# 3- a legend box\n",
    "p12 = p1+p2\n",
    "labels = [L.get_label() for L in p12]\n",
    "ax1.legend(p12, labels, loc=\"upper center\", fontsize=14)\n",
    "\n",
    "# ax2 -> the right side drawing\n",
    "ax2.set_title(\"SubPlot 2 : parametric curve\")\n",
    "ax2.plot( Vx, Vy, \"m-\", linewidth=4)\n",
    "ax2.plot(-Vx, Vy, \"m-\", linewidth=4, label=\"Butterfly\")\n",
    "ax2.axis(\"equal\");\n",
    "ax2.legend()\n",
    "ax2.grid()\n",
    "\n",
    "plt.savefig(\"curves.png\") # Saving the figure in a .png file\n",
    "#plt.show() # Useless in a notebook but essential in a .py program"
   ]
  },
  {
   "cell_type": "markdown",
   "id": "38d32e7d-f604-4283-90ff-f3cc85849e53",
   "metadata": {},
   "source": [
    "[top](#top)"
   ]
  },
  {
   "cell_type": "markdown",
   "id": "72ccb1d3-fc6c-4859-8fdb-2e3373742ba6",
   "metadata": {},
   "source": [
    "## __6 $-$ Programming techniques__ <a name=\"6\"></a>"
   ]
  },
  {
   "cell_type": "markdown",
   "id": "cad74205-03c2-4840-9afb-864c5bfc8a49",
   "metadata": {},
   "source": [
    "### 6.1 $-$ Try/except block\n",
    "\n",
    "The idea is to write (in order):\n",
    "- a <span style=\"color:green;font-weight:bold\">try</span> block that contains Python instructions\n",
    "likely to fail and therefore *throw* **exceptions** (normally resulting in <span style=\"color:red\">error messages in red</span> on the screen...)\n",
    "\n",
    "```Python\n",
    "#...\n",
    "try:\n",
    "    # try block\n",
    "    # ...\n",
    "except:\n",
    "    # block to handle exceptions\n",
    "    #...\n",
    "```"
   ]
  },
  {
   "cell_type": "markdown",
   "id": "c9e1c725-8f08-4d58-9c94-0c8fe9e95d47",
   "metadata": {},
   "source": [
    "[top](#top)"
   ]
  },
  {
   "cell_type": "code",
   "execution_count": null,
   "id": "5153368d-a5c0-4bac-a399-d76aa8a9ff0e",
   "metadata": {},
   "outputs": [],
   "source": []
  }
 ],
 "metadata": {
  "kernelspec": {
   "display_name": "Python 3",
   "language": "python",
   "name": "python3"
  },
  "language_info": {
   "codemirror_mode": {
    "name": "ipython",
    "version": 3
   },
   "file_extension": ".py",
   "mimetype": "text/x-python",
   "name": "python",
   "nbconvert_exporter": "python",
   "pygments_lexer": "ipython3",
   "version": "3.8.13"
  }
 },
 "nbformat": 4,
 "nbformat_minor": 5
}
