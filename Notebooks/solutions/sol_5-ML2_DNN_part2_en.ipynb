{
 "cells": [
  {
   "cell_type": "markdown",
   "metadata": {},
   "source": [
    "<span style=\"font-size:10pt\">AI @ ENSPIMA_2023-2024 / v1.1 september 2023 / Jean-Luc CHARLES (Jean-Luc.charles@mailo.com) / CC BY-SA 4.0 /</span>"
   ]
  },
  {
   "cell_type": "markdown",
   "metadata": {},
   "source": [
    "# Machine learning with Python tensorflow2/keras modules:\n",
    "\n",
    "# Train/operate a dense neural network for the recognition of handwritten digits"
   ]
  },
  {
   "cell_type": "markdown",
   "metadata": {},
   "source": [
    "<br>\n",
    "<div class=\"alert alert-block alert-danger\">\n",
    "<span style=\"color:brown;font-family:arial;font-size:12pt\"> \n",
    "It is important to use a <span style=\"font-weight:bold;\">Python Virtual Environment</span> (PVE) for your main Python projects: <br>\n",
    "    a PVE makes it possible to control for each project the versions of the Python interpreter and the \"sensitive\" modules (like tensorflow).</span></div>\n",
    "\n",
    "All the notebooks in this directory must be loaded into a `jupyter-notebook` or a `jupyter-lab` launched in the PVE <b><span style=\"color: rgb(200, 151, 102);\" >pyml-pm</span></b> specially created for the session.<br>\n",
    "They should be worked in this order:\n",
    "- `ML1_MNIST_en.ipynb`: check that the <b><span style=\"color: rgb(200, 151, 102);\">pyml-pm</span></b> EVP is fuly operationnal, load and use the data from the MNIST database (images and labels).\n",
    "- `ML2_DNN_part1_en.ipynb`: build a Dense Neural Network (DNN), train it with data from the MNIST and evaluate its performance.\n",
    "- `ML2_DNN_part2_en.ipynb`: reload a previously trained DNN and evaluate its performance with the MNIST test data."
   ]
  },
  {
   "cell_type": "markdown",
   "metadata": {},
   "source": [
    "***Targeted learning objectives:***\n",
    "- Know how to reload the structure and the weights of a previously trained DNNN.\n",
    "- Know how to exploit the reloaded trained DNN with the `predict` method.\n",
    "- Know how to display and use the matrix of confusion."
   ]
  },
  {
   "cell_type": "markdown",
   "metadata": {},
   "source": [
    "## 1 - Verify importing Python modules\n",
    "The **keras** module which allows high-level manipulation of **tensorflow** objects is integrated in the **tensorflow** (tf) module since version 2. <br>\n",
    "The **tf.keras** module documentation to consult is here: https://www.tensorflow.org/api_docs/python/tf/keras.\n",
    "\n",
    "Importing the `tensorflow` module in the cell below may generate some warning messages...<br>\n",
    "if errors appear they must be corrected, possibly by recreating your PVE <b><span style=\"color: rgb(200, 51, 102);\">pyml-pm</span></b>:"
   ]
  },
  {
   "cell_type": "code",
   "execution_count": 1,
   "metadata": {},
   "outputs": [
    {
     "name": "stdout",
     "output_type": "stream",
     "text": [
      "Python    : 3.8.18\n",
      "tensorflow: 2.9.1 incluant keras 2.9.0\n",
      "numpy     : 1.22.3\n",
      "OpenCV    : 4.6.0\n"
     ]
    }
   ],
   "source": [
    "import os, sys, cv2\n",
    "\n",
    "# Delete the (numerous) warning messages from the **tensorflow** module:\n",
    "os.environ['TF_CPP_MIN_LOG_LEVEL'] = '3'\n",
    "\n",
    "import tensorflow as tf\n",
    "from tensorflow import keras\n",
    "import numpy as np\n",
    "import matplotlib.pyplot as plt\n",
    "\n",
    "print(f\"Python    : {sys.version.split()[0]}\")\n",
    "print(f\"tensorflow: {tf.__version__} incluant keras {keras.__version__}\")\n",
    "print(f\"numpy     : {np.__version__}\")\n",
    "print(f\"OpenCV    : {cv2.__version__}\")"
   ]
  },
  {
   "cell_type": "markdown",
   "metadata": {},
   "source": [
    "Embedding matplotlib plots in the notebook:"
   ]
  },
  {
   "cell_type": "code",
   "execution_count": 2,
   "metadata": {
    "scrolled": true,
    "tags": []
   },
   "outputs": [],
   "source": [
    "%matplotlib inline"
   ]
  },
  {
   "cell_type": "markdown",
   "metadata": {},
   "source": [
    "# Reminder of the structure of the DNN\n",
    "\n",
    "In this notebook we use a **Dense Neural Network** , with:\n",
    "- an **input layer** of 784 values between 0 and 1 (the pixels of the MNIST 28 $\\times$ 28 images flattened to a normalized vector of 784 `float` numbers),\n",
    "- a **hidden layer** of 784 neurons with the `relu` activation function,\n",
    "- an **output layer** of 10 neurons for the classification of images into 10 classes associated with the digits {0,1,2...9}, using the `softmax` activation function adapted to classification problems.\n",
    "<p style=\"text-align:center; font-style:italic; font-size:12px;\">\n",
    "    <img src=\"img/archiNetwork.png\" alt=\"archiNetwork.png\" style=\"width:900px;\"><br>\n",
    "    [image credit: JLC]\n",
    "</p>"
   ]
  },
  {
   "cell_type": "markdown",
   "metadata": {},
   "source": [
    "<hr>\n",
    "\n",
    "## Work to do\n",
    "### 1 - Load and pre-process the MNIST test data set\n",
    "### 2 - Reload the trained DNN structure and its weights\n",
    "### 3 - Exploit the trained DNN with predict method\n",
    "### 4 - Display the matrix of confusion\n",
    "<hr>\n",
    "<br>"
   ]
  },
  {
   "cell_type": "markdown",
   "metadata": {
    "tags": []
   },
   "source": [
    "## 1 - Load and pre-process MNIST test data set\n",
    "\n",
    "The work of loading MNIST images has been explained in the *notebook* `ML1_MNIST_en.ipynb`:"
   ]
  },
  {
   "cell_type": "code",
   "execution_count": 3,
   "metadata": {},
   "outputs": [
    {
     "name": "stdout",
     "output_type": "stream",
     "text": [
      "10000 test images\n",
      "784 pixels in each image\n",
      "10 classes (the digits from 0 to 9)\n"
     ]
    }
   ],
   "source": [
    "# Load the MNIST data set:\n",
    "(im_train, lab_train), (im_test, lab_test) = tf.keras.datasets.mnist.load_data()\n",
    "\n",
    "# Define parameters :\n",
    "nb_im_test  = im_test.shape[0]     # number of test images\n",
    "nb_pixel    = im_test[0].size      # number of pixels per image\n",
    "nb_class   = len(set(lab_test))    # number of classes (10 digits from 0 to 9)\n",
    "\n",
    "print(f\"{nb_im_test} test images\")\n",
    "print(f\"{nb_pixel} pixels in each image\")\n",
    "print(f\"{nb_class} classes (the digits from 0 to 9)\")\n",
    "\n",
    "# Flatten and normalize matrixes:\n",
    "x_test  = im_test.reshape(nb_im_test, nb_pixel)/im_test.max()\n",
    "\n",
    "# 'one-hot' encoding of the labels:\n",
    "from tensorflow.keras.utils import to_categorical\n",
    "y_test  = to_categorical(lab_test)"
   ]
  },
  {
   "cell_type": "markdown",
   "metadata": {},
   "source": [
    "## 2 - Reload the trained network structure and weights\n",
    "\n",
    "The `load_model` method of the `tf.keras.models` class reloads **the structure** and **the weights** of a trained network.<br>\n",
    "So you can build __and__ relod the DNN trained in the previous notebook:"
   ]
  },
  {
   "cell_type": "code",
   "execution_count": 4,
   "metadata": {},
   "outputs": [
    {
     "name": "stdout",
     "output_type": "stream",
     "text": [
      "Model: \"sequential\"\n",
      "_________________________________________________________________\n",
      " Layer (type)                Output Shape              Param #   \n",
      "=================================================================\n",
      " C1 (Dense)                  (None, 784)               615440    \n",
      "                                                                 \n",
      " C2 (Dense)                  (None, 10)                7850      \n",
      "                                                                 \n",
      "=================================================================\n",
      "Total params: 623,290\n",
      "Trainable params: 623,290\n",
      "Non-trainable params: 0\n",
      "_________________________________________________________________\n"
     ]
    }
   ],
   "source": [
    "# define the path for the DNN trained in the previous notebook:\n",
    "key = 'trained-1_model'\n",
    "model_path = os.path.join('models', key)\n",
    "\n",
    "# load the DNN structure and weights:\n",
    "model = tf.keras.models.load_model(model_path)\n",
    "\n",
    "model.summary()"
   ]
  },
  {
   "cell_type": "markdown",
   "metadata": {
    "tags": []
   },
   "source": [
    "## 3 - Exploiting the trained network: `predict` method\n",
    "\n",
    "The `predict` method is used to compute the DNN inferences for one or more inputs (see the `predict` method in the page \n",
    "[tf.keras.Sequential](https://www.tensorflow.org/api_docs/python/tf/keras/Sequential#predict)).\n",
    "\n",
    "The cell below shows an example:"
   ]
  },
  {
   "cell_type": "code",
   "execution_count": 5,
   "metadata": {
    "tags": []
   },
   "outputs": [
    {
     "data": {
      "image/png": "[encoded data removed]",
      "text/plain": [
       "<Figure size 100x100 with 1 Axes>"
      ]
     },
     "metadata": {},
     "output_type": "display_data"
    },
    {
     "name": "stdout",
     "output_type": "stream",
     "text": [
      "1/1 [==============================] - 0s 82ms/step\n",
      "DNN inférence for the test image #100 :\n",
      "[1.4220675e-06 2.9365321e-08 1.3318005e-07 5.9218797e-10 3.7401566e-07\n",
      " 2.4555077e-06 9.9999535e-01 9.6788042e-08 8.4406345e-08 7.7706352e-10]\n"
     ]
    }
   ],
   "source": [
    "i = 100  # number of the test image \n",
    "\n",
    "# display the image:\n",
    "from utils.tools import plot_images\n",
    "plot_images(im_test,1,1,i) ; plt.show()\n",
    "\n",
    "# compute the trained DNN inference inférence for tes test image:\n",
    "rep = model.predict(x_test[i:i+1])      # Warning: x must be an array of matrixes, not a simple matrix\n",
    "                                        # => x[i] does not work!\n",
    "\n",
    "print(f\"DNN inférence for the test image #{i} :\\n{rep[0]}\")"
   ]
  },
  {
   "cell_type": "markdown",
   "metadata": {},
   "source": [
    "To make the output of the network more readable, we can limit the display of the numpy array to 2 decimal places:"
   ]
  },
  {
   "cell_type": "code",
   "execution_count": 6,
   "metadata": {
    "tags": []
   },
   "outputs": [
    {
     "name": "stdout",
     "output_type": "stream",
     "text": [
      "DNN inférence for the test image #100 rounded to 2 digits: [0.00 0.00 0.00 0.00 0.00 0.00 1.00 0.00 0.00 0.00]\n"
     ]
    }
   ],
   "source": [
    "with np.printoptions(formatter={'float':'{:.2f}'.format}):    \n",
    "    print(f\"DNN inférence for the test image #{i} rounded to 2 digits: {rep[0]}\")"
   ]
  },
  {
   "cell_type": "markdown",
   "metadata": {
    "tags": []
   },
   "source": [
    "The `argmax` method of the *ndarray* class of *numpy* gives the rank of the maximum value in the array:"
   ]
  },
  {
   "cell_type": "code",
   "execution_count": 7,
   "metadata": {},
   "outputs": [
    {
     "name": "stdout",
     "output_type": "stream",
     "text": [
      "Predicted label is rep[0].argmax(): 6\n",
      "Actual label of the test image #100 : 6\n"
     ]
    }
   ],
   "source": [
    "print(f\"Predicted label is rep[0].argmax(): {rep[0].argmax()}\")\n",
    "print(f\"Actual label of the test image #{i} : {lab_test[i]}\")"
   ]
  },
  {
   "cell_type": "markdown",
   "metadata": {},
   "source": [
    "### $\\leadsto$ The usefulness of numpy's `argmax` method to decode the array of *one-hot* vectors returned by `predict`\n",
    "\n",
    "When you compute inferences of the DNN for the images of the `x_test` array for example, you get an array of *one-hot* vectors:"
   ]
  },
  {
   "cell_type": "code",
   "execution_count": 8,
   "metadata": {},
   "outputs": [
    {
     "name": "stdout",
     "output_type": "stream",
     "text": [
      "313/313 [==============================] - 1s 3ms/step\n",
      "shape of the 'results' ndarray: (10000, 10)\n",
      "Example of of vectors in the 'result' ndarray:\n",
      "\tresults[0]  : [0.00 0.00 0.00 0.00 0.00 0.00 0.00 1.00 0.00 0.00]\n",
      "\tresults[-1] : [0.00 0.00 0.00 0.00 0.00 0.00 1.00 0.00 0.00 0.00]\n"
     ]
    }
   ],
   "source": [
    "results = model.predict(x_test)\n",
    "print(\"shape of the 'results' ndarray:\", results.shape)\n",
    "print(\"Example of of vectors in the 'result' ndarray:\")\n",
    "with np.printoptions(formatter={'float':'{:.2f}'.format}): \n",
    "    print(\"\\tresults[0]  :\", results[0])\n",
    "    print(\"\\tresults[-1] :\", results[-1])"
   ]
  },
  {
   "cell_type": "markdown",
   "metadata": {},
   "source": [
    "With the expression `results.argmax(axe=-1)`, you get the array of the `argmax` of each vector $\\leadsto$ the array of the classes computed by the network:"
   ]
  },
  {
   "cell_type": "code",
   "execution_count": 9,
   "metadata": {},
   "outputs": [
    {
     "name": "stdout",
     "output_type": "stream",
     "text": [
      "inferences.shape: (10000,), inferences.dtype: int64\n",
      "Content of 'inferences': [7 2 1 ... 4 5 6]\n"
     ]
    }
   ],
   "source": [
    "inferences = results.argmax(axis=-1)\n",
    "print(f\"inferences.shape: {inferences.shape}, inferences.dtype: {inferences.dtype}\")\n",
    "print(f\"Content of 'inferences': {inferences}\")"
   ]
  },
  {
   "cell_type": "markdown",
   "metadata": {},
   "source": [
    "We can compare `inferences` and `lab_test` with the `==` operator (it makes sense with *ndarray* objects):"
   ]
  },
  {
   "cell_type": "code",
   "execution_count": 10,
   "metadata": {},
   "outputs": [
    {
     "data": {
      "text/plain": [
       "array([ True,  True,  True, ...,  True,  True,  True])"
      ]
     },
     "execution_count": 10,
     "metadata": {},
     "output_type": "execute_result"
    }
   ],
   "source": [
    "inferences == lab_test"
   ]
  },
  {
   "cell_type": "markdown",
   "metadata": {},
   "source": [
    "by counting the number of `True` we get the number of correct inferences:"
   ]
  },
  {
   "cell_type": "code",
   "execution_count": 11,
   "metadata": {},
   "outputs": [
    {
     "name": "stdout",
     "output_type": "stream",
     "text": [
      "number of true inferences: 9835 over 10000 test images\n",
      "precision of the trained DNN: 98.4 %\n"
     ]
    }
   ],
   "source": [
    "inference_ok = (inferences == lab_test)\n",
    "print(f\"number of true inferences: {inference_ok.sum()} over {nb_im_test} test images\")\n",
    "\n",
    "precision = inference_ok.sum()/nb_im_test*100\n",
    "print(f\"precision of the trained DNN: {precision:.1f} %\")"
   ]
  },
  {
   "cell_type": "markdown",
   "metadata": {
    "tags": []
   },
   "source": [
    "## 4 - Show Confusion Matrix\n",
    "\n",
    "The `ConfusionMatrixDisplay.from_predictions` function from the `sklearn.metrics` module displays the **confusion matrix** to visualize:\n",
    "- on the diagonal: the correct inferences of the DNN, with the number of correct answers in each box\n",
    "- off diagonal: the DNN errors, with the number of occurrences in each box.\n",
    "\n",
    "Read the documentation on this page [scikit-learn.org/stable/modules/.../ConfusionMatrixDisplay.from_predictions](https://scikit-learn.org/stable/modules/generated/sklearn.metrics.ConfusionMatrixDisplay.html#sklearn.metrics.ConfusionMatrixDisplay.from_predictions) and complete the cell below to display the confusion matrix:"
   ]
  },
  {
   "cell_type": "code",
   "execution_count": 12,
   "metadata": {},
   "outputs": [
    {
     "data": {
      "text/plain": [
       "<sklearn.metrics._plot.confusion_matrix.ConfusionMatrixDisplay at 0x7f53986ad0d0>"
      ]
     },
     "execution_count": 12,
     "metadata": {},
     "output_type": "execute_result"
    },
    {
     "data": {
      "image/png": "[encoded data removed]",
      "text/plain": [
       "<Figure size 1000x1000 with 1 Axes>"
      ]
     },
     "metadata": {},
     "output_type": "display_data"
    }
   ],
   "source": [
    "from sklearn.metrics import confusion_matrix, ConfusionMatrixDisplay\n",
    "fig = plt.figure(figsize=(10,10))\n",
    "axis = plt.axes()\n",
    "ConfusionMatrixDisplay.from_predictions(lab_test, inferences, cmap='magma', ax=axis, colorbar=False)"
   ]
  },
  {
   "cell_type": "markdown",
   "metadata": {
    "tags": []
   },
   "source": [
    "# Other interesting resources... videos:"
   ]
  },
  {
   "cell_type": "code",
   "execution_count": 13,
   "metadata": {},
   "outputs": [
    {
     "data": {
      "text/html": [
       "<iframe src=\"https://www.youtube.com/embed/trWrEWfhTVg\" width=\"800\" height=\"450\" frameborder=\"0\" allow=\"accelerometer; autoplay; encrypted-media; gyroscope; picture-in-picture\" allowfullscreen></iframe>\n"
      ],
      "text/plain": [
       "<IPython.core.display.HTML object>"
      ]
     },
     "metadata": {},
     "output_type": "display_data"
    }
   ],
   "source": [
    "%%HTML\n",
    "<iframe src=\"https://www.youtube.com/embed/trWrEWfhTVg\" width=\"800\" height=\"450\" frameborder=\"0\" allow=\"accelerometer; autoplay; encrypted-media; gyroscope; picture-in-picture\" allowfullscreen></iframe>"
   ]
  },
  {
   "cell_type": "code",
   "execution_count": 14,
   "metadata": {},
   "outputs": [
    {
     "data": {
      "text/html": [
       "<iframe src=\"https://www.youtube.com/embed/aircAruvnKk\" width=\"800\" height=\"450\" frameborder=\"0\" allow=\"accelerometer; autoplay; encrypted-media; gyroscope; picture-in-picture\" allowfullscreen></iframe>\n"
      ],
      "text/plain": [
       "<IPython.core.display.HTML object>"
      ]
     },
     "metadata": {},
     "output_type": "display_data"
    }
   ],
   "source": [
    "%%HTML\n",
    "<iframe src=\"https://www.youtube.com/embed/aircAruvnKk\" width=\"800\" height=\"450\" frameborder=\"0\" allow=\"accelerometer; autoplay; encrypted-media; gyroscope; picture-in-picture\" allowfullscreen></iframe>"
   ]
  },
  {
   "cell_type": "code",
   "execution_count": 15,
   "metadata": {},
   "outputs": [
    {
     "data": {
      "text/html": [
       "<iframe src=\"https://www.youtube.com/embed/IHZwWFHWa-w\" width=\"800\" height=\"450\" frameborder=\"0\" allow=\"accelerometer; autoplay; encrypted-media; gyroscope; picture-in-picture\" allowfullscreen></iframe>\n"
      ],
      "text/plain": [
       "<IPython.core.display.HTML object>"
      ]
     },
     "metadata": {},
     "output_type": "display_data"
    }
   ],
   "source": [
    "%%HTML\n",
    "<iframe src=\"https://www.youtube.com/embed/IHZwWFHWa-w\" width=\"800\" height=\"450\" frameborder=\"0\" allow=\"accelerometer; autoplay; encrypted-media; gyroscope; picture-in-picture\" allowfullscreen></iframe>"
   ]
  },
  {
   "cell_type": "code",
   "execution_count": 16,
   "metadata": {},
   "outputs": [
    {
     "data": {
      "text/html": [
       "<iframe src=\"https://www.youtube.com/embed/Ilg3gGewQ5U\" width=\"800\" height=\"450\" frameborder=\"0\" allow=\"accelerometer; autoplay; encrypted-media; gyroscope; picture-in-picture\" allowfullscreen></iframe>\n"
      ],
      "text/plain": [
       "<IPython.core.display.HTML object>"
      ]
     },
     "metadata": {},
     "output_type": "display_data"
    }
   ],
   "source": [
    "%%HTML\n",
    "<iframe src=\"https://www.youtube.com/embed/Ilg3gGewQ5U\" width=\"800\" height=\"450\" frameborder=\"0\" allow=\"accelerometer; autoplay; encrypted-media; gyroscope; picture-in-picture\" allowfullscreen></iframe>"
   ]
  },
  {
   "cell_type": "code",
   "execution_count": null,
   "metadata": {},
   "outputs": [],
   "source": []
  }
 ],
 "metadata": {
  "kernelspec": {
   "display_name": "Python 3 (ipykernel)",
   "language": "python",
   "name": "python3"
  },
  "language_info": {
   "codemirror_mode": {
    "name": "ipython",
    "version": 3
   },
   "file_extension": ".py",
   "mimetype": "text/x-python",
   "name": "python",
   "nbconvert_exporter": "python",
   "pygments_lexer": "ipython3",
   "version": "3.8.18"
  }
 },
 "nbformat": 4,
 "nbformat_minor": 4
}
