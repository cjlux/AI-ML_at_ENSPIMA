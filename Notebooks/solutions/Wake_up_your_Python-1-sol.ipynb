{
 "cells": [
  {
   "cell_type": "markdown",
   "id": "2820659c",
   "metadata": {},
   "source": [
    "<span style=\"font-size:10pt\">AI @ ENSPIMA_2022-2023 / v1.0 september 2022 / Jean-Luc CHARLES (Jean-Luc.charles@ensam.eu) / CC BY-SA 4.0 /</span>"
   ]
  },
  {
   "cell_type": "markdown",
   "id": "2b69409a",
   "metadata": {
    "tags": []
   },
   "source": [
    "# <img align=\"middle\" src=\"./img/alarmClock.png\" width=\"60\" height=\"60\">  __Wake up your Python__ ! part 1<a name=\"top\"></a>\n",
    "\n",
    "## [ 1 - The <span style=\"color:green\">range</span> primitive](#1)\n",
    "## [ 2 - The pythonic loop – Iterable objects](#2)\n",
    "### $\\phantom{--}$[ The <span style=\"color:green\">enumerate</span> primitive](#enumerate)\n",
    "### $\\phantom{--}$[ The <span style=\"color:green\">zip</span> primitive](#zip)\n",
    "## [ 3 - Mutable/not mutable objects in Python](#3)\n",
    "## [ 4 - The <span style=\"color:green\">list</span> type](#4)\n",
    "### $\\phantom{--}$[ List comprehension](#list_comprehension)\n",
    "### $\\phantom{--}$[ Slicing](#slicing)\n",
    "## [ 5 - The <span style=\"color:green\">str</span> type](#5)\n",
    "### $\\phantom{--}$[ f-string: formatted string](#f-string)"
   ]
  },
  {
   "cell_type": "markdown",
   "id": "ba51bad7",
   "metadata": {},
   "source": [
    "<div class=\"alert alert-block alert-info\"> <span style=\"color:#000080\">\n",
    "For each example in this notebook, take care to read the explanations given and to execute the Python cells with $\\left(\\mathtt{Shift+Enter}\\right)$, before proceeding to the exercises.\n",
    "</span>\n",
    "</div>"
   ]
  },
  {
   "cell_type": "markdown",
   "id": "2eea8cc2",
   "metadata": {},
   "source": [
    "## __1 - The `range` primitive__ <a name=\"1\"></a>\n",
    "`range` allows you to build an **iterable object** made up of a sequence of integers:\n",
    "\n",
    "`range(start, stop[, step])` returns an integer generator ranging from `start` inclusive to `stop` exclusive, in steps (integer) of `step`.<br /> If only `stop` is given, the generator starts at zero, and the step is 1."
   ]
  },
  {
   "cell_type": "code",
   "execution_count": null,
   "id": "ed9f3b37",
   "metadata": {},
   "outputs": [],
   "source": [
    "range(1,10)"
   ]
  },
  {
   "cell_type": "markdown",
   "id": "75ec85cb",
   "metadata": {},
   "source": [
    "A `range` object is **iterable**: it can be traversed simply with a Python loop (this is 90% of the use cases for `range`):"
   ]
  },
  {
   "cell_type": "code",
   "execution_count": null,
   "id": "da2d945c",
   "metadata": {},
   "outputs": [],
   "source": [
    "for i in range(1,10):\n",
    "    print(i)"
   ]
  },
  {
   "cell_type": "markdown",
   "id": "c9b22370",
   "metadata": {},
   "source": [
    "If you want to *see* a range object as a list, just turn it into a list:"
   ]
  },
  {
   "cell_type": "code",
   "execution_count": null,
   "id": "c5a64866",
   "metadata": {},
   "outputs": [],
   "source": [
    "list(range(10))"
   ]
  },
  {
   "cell_type": "markdown",
   "id": "54e7f9d7",
   "metadata": {},
   "source": [
    "<div class=\"alert alert-block alert-info\">\n",
    "<span style=\"color: #0000BB;font-weight: bold; font-size:large;\">Exercise 1</span>\n",
    "<div><span style=\"color: #0000BB\">\n",
    "    \n",
    "Using `print`, `list` and `range`, can you display as a list:\n",
    "- the integer numbers from 0 to 10 inclusive\n",
    "- the integer numbers from -1 to -5 inclusive\n",
    "- the first 5 even integers from 2 to 10 inclusive\n",
    "</span></div>"
   ]
  },
  {
   "cell_type": "code",
   "execution_count": null,
   "id": "1792b310",
   "metadata": {},
   "outputs": [],
   "source": [
    "print(list(range(11)))"
   ]
  },
  {
   "cell_type": "code",
   "execution_count": null,
   "id": "1b82edf1",
   "metadata": {},
   "outputs": [],
   "source": [
    "print(list(range(-1, -6, -1)))"
   ]
  },
  {
   "cell_type": "code",
   "execution_count": null,
   "id": "a5dfae57",
   "metadata": {},
   "outputs": [],
   "source": [
    "print(list(range(2,11,2)))"
   ]
  },
  {
   "cell_type": "markdown",
   "id": "f5c9b1be",
   "metadata": {},
   "source": [
    "[top](#top)"
   ]
  },
  {
   "cell_type": "markdown",
   "id": "6c085a17",
   "metadata": {},
   "source": [
    "## __2 - The pythonic loop – Iterable objects__ <a name=\"2\"></a>\n",
    "Python **Iterable** are objects that you can iterate over simply with a loop, like\n",
    "objects of type\n",
    "<span style=\"color:green;font-weight:bold;font-family:arial\">range</span>,\n",
    "<span style=\"color:green;font-weight:bold;font-family:arial\">list</span>,\n",
    "<span style=\"color:green;font-weight:bold;font-family:arial\">str</span>...:"
   ]
  },
  {
   "cell_type": "code",
   "execution_count": null,
   "id": "d8966065",
   "metadata": {},
   "outputs": [],
   "source": [
    "for c in \"hello\": # c iterates over all the letters of the string \"hello\"\n",
    "    print(c)      # display c"
   ]
  },
  {
   "cell_type": "code",
   "execution_count": null,
   "id": "04198c75",
   "metadata": {},
   "outputs": [],
   "source": [
    "L = range(5)              # L is a range object\n",
    "print(\"Iterator:\", L)\n",
    "print(\"Conversion to list:\", list(L))"
   ]
  },
  {
   "cell_type": "code",
   "execution_count": null,
   "id": "b0ee0828",
   "metadata": {},
   "outputs": [],
   "source": [
    "for e in range(5):         # Iterations: e is successvely 0, 1, 2, 3 and 4.\n",
    "    print(e, \"->\", e*e)    # print the value of e*e"
   ]
  },
  {
   "cell_type": "markdown",
   "id": "cbd6f45d",
   "metadata": {},
   "source": [
    "[top](#top)"
   ]
  },
  {
   "cell_type": "markdown",
   "id": "ec4d1b0d",
   "metadata": {},
   "source": [
    "<div class=\"alert alert-block alert-info\">\n",
    "<span style=\"color: #0000BB;font-weight: bold; font-size:large;\">Exercise 2 $-$ Simple traversal of a list</span>\n",
    "<span style=\"color: #0000BB\">\n",
    "    \n",
    "- Define the list of strings: `L1 = [\"data1.txt\", \"data2.txt\", \"data3.txt\", \"data4.txt\"]`.<br>\n",
    "- Define the empty list `L2`.<br>\n",
    "- In a loop traversing `L1`, append at the end of `L2` the current element of `L1` with the suffix `\".txt\"` replaced by `\".png\"`.<br>\n",
    "    $\\leadsto$ tips: `L2.append(item)` append the object `item` to the list `L2`.<br>\n",
    "    $\\phantom{---}$ See this [page](https://www.w3schools.com/python/ref_string_replace.asp) on the site www.w3schools.com/python for a short documentation on the methode `replace` of the `str` class.\n",
    "- Displays `L2`.\n",
    "</span></div>\n",
    "tips:"
   ]
  },
  {
   "cell_type": "code",
   "execution_count": null,
   "id": "72751cb5",
   "metadata": {},
   "outputs": [],
   "source": [
    "L1 = [\"data1.txt\", \"data2.txt\", \"data3.txt\", \"data4.txt\"]\n",
    "L2 = []\n",
    "for e in L1:\n",
    "    L2.append(e.replace('.txt', '.png'))\n",
    "L2"
   ]
  },
  {
   "cell_type": "markdown",
   "id": "1ea1a4dd",
   "metadata": {},
   "source": [
    "<div class=\"alert alert-block alert-info\"><span style=\"color: #0000BB\">\n",
    "    \n",
    "- Traverse `L1` backwards with a `for` loop and print the current term at each lap of the loop.<br>\n",
    "    $\\leadsto$ Tips: try the expressions `L1[::-1]` ...\n",
    "</span></div>"
   ]
  },
  {
   "cell_type": "code",
   "execution_count": null,
   "id": "31d96e3c",
   "metadata": {},
   "outputs": [],
   "source": [
    "L1[::-1]"
   ]
  },
  {
   "cell_type": "code",
   "execution_count": null,
   "id": "02daaeed",
   "metadata": {},
   "outputs": [],
   "source": [
    "for e in L1[::-1]:\n",
    "    print(e)"
   ]
  },
  {
   "cell_type": "markdown",
   "id": "f743cca8",
   "metadata": {},
   "source": [
    "<div class=\"alert alert-block alert-info\"><span style=\"color: #0000BB\">\n",
    "    \n",
    "- Define `L3` obtained by traversing `L1` backwards and adding the current term without its \".txt\" suffixe.<br>\n",
    "- Displays `L3`.\n",
    "</span></div>"
   ]
  },
  {
   "cell_type": "code",
   "execution_count": null,
   "id": "a098fba9",
   "metadata": {},
   "outputs": [],
   "source": [
    "L3 = []\n",
    "for e in L1[::-1]:\n",
    "    L3.append(e.replace(\".txt\",\"\"))\n",
    "print(\"L3:\", L3)"
   ]
  },
  {
   "cell_type": "markdown",
   "id": "9f9d0679",
   "metadata": {},
   "source": [
    "[top](#top)"
   ]
  },
  {
   "cell_type": "markdown",
   "id": "acded91c",
   "metadata": {
    "tags": []
   },
   "source": [
    "## The `enumerate` primitive <a name=\"enumerate\"> </a>"
   ]
  },
  {
   "cell_type": "markdown",
   "id": "bdea005d",
   "metadata": {},
   "source": [
    "<div class=\"alert alert-block alert-info\">\n",
    "<span style=\"color: #0000BB;font-weight: bold; font-size:large;\">Exercise 2.1 $-$ Enumerated traversal of an iterable with the \n",
    "<span style=\"color:green\">enumerate</span> primitive.</span>\n",
    "<span style=\"color: #0000BB\">\n",
    "\n",
    "You can consult the documentation of the Python site on the *primitive*\n",
    "[enumerate](https://docs.python.org/3/library/functions.html?highlight=enumerate#enumerate),\n",
    "or the online help by typing the command\n",
    "<span style=\"color:green;font-family:arial\">help(enumerate)</span>.\n",
    "    \n",
    "With the list `L1` from the previous exercise:<br>\n",
    "- Using the primitive <span style=\"color:green;font-family:arial\">enumerate</span>, iterate over `L1` with the couple `n,e`: display at each loop lap the lap number (`n`) and the current element of `L1` (`e`).<br>\n",
    "- Find two different ways to display the loop lap number starting at 10.\n",
    "</span></div>"
   ]
  },
  {
   "cell_type": "code",
   "execution_count": null,
   "id": "fb69d9cd",
   "metadata": {},
   "outputs": [],
   "source": [
    "for n,e in enumerate(L1):\n",
    "    print(n,e)"
   ]
  },
  {
   "cell_type": "code",
   "execution_count": null,
   "id": "005aaf36",
   "metadata": {},
   "outputs": [],
   "source": [
    "for n,e in enumerate(L1, 10):\n",
    "    print(n,e)"
   ]
  },
  {
   "cell_type": "code",
   "execution_count": null,
   "id": "e0f8e4d0",
   "metadata": {},
   "outputs": [],
   "source": [
    "for n,e in enumerate(L1):\n",
    "    print(n+10,e)"
   ]
  },
  {
   "cell_type": "markdown",
   "id": "6bca894e",
   "metadata": {},
   "source": [
    "[top](#top)"
   ]
  },
  {
   "cell_type": "markdown",
   "id": "af36e7fd",
   "metadata": {
    "tags": []
   },
   "source": [
    "## The `zip` primitive <a name=\"zip\"> </a>"
   ]
  },
  {
   "cell_type": "markdown",
   "id": "fe2a4444",
   "metadata": {},
   "source": [
    "<div class=\"alert alert-block alert-info\">\n",
    "<span style=\"color: #0000BB;font-weight: bold; font-size:large;\">Exercise 2.2 $–$ Simultaneous traversal of several iterables: \n",
    "<span style=\"color:green\">zip</span> primitive.</span>\n",
    "<span style=\"color: #0000BB\">    \n",
    "\n",
    "You can consult the documentation of the Python site on the\n",
    "primitive [zip](https://docs.python.org/3/library/functions.html?highlight=zip#zip)\n",
    "or the online help by typing the command\n",
    "<span style=\"color:green;font-family:arial\">help(zip)</span>.\n",
    "- Define `R` as `range(5,-6,-2)` and display `R` as a list.\n",
    "- Using the <span style=\"color:green\">zip</span> primitive, simultaneously browse `R` and `L1` with the pair of names `n,e` and display at each loop lap the value of `n` followed by `\":\"` followed by the value of `e`."
   ]
  },
  {
   "cell_type": "code",
   "execution_count": null,
   "id": "52adf920",
   "metadata": {},
   "outputs": [],
   "source": [
    "R = range(5,-6,-2)\n",
    "print(list(R))"
   ]
  },
  {
   "cell_type": "code",
   "execution_count": null,
   "id": "7075b47d",
   "metadata": {},
   "outputs": [],
   "source": [
    "for n,e in zip(R,L1):\n",
    "    print(n,\":\",e)"
   ]
  },
  {
   "cell_type": "markdown",
   "id": "3b480b2d",
   "metadata": {},
   "source": [
    "Formatted display with an <span style=\"color:#008000\">f-string</span>:"
   ]
  },
  {
   "cell_type": "code",
   "execution_count": null,
   "id": "3e01c3c5",
   "metadata": {},
   "outputs": [],
   "source": [
    "for n,e in zip(R,L1):\n",
    "    print(f\"{n:3d}: {e}\")"
   ]
  },
  {
   "cell_type": "markdown",
   "id": "3f87bade",
   "metadata": {},
   "source": [
    "[top](#top)"
   ]
  },
  {
   "cell_type": "markdown",
   "id": "c96ae71b",
   "metadata": {},
   "source": [
    "## __3 - 'Mutable/not mutable' objects in Python__ <a name=\"3\"></a>\n",
    "\n",
    "Python **mutable objects** are instances of classes that can be modified using the methods\n",
    "classes or language operator.\n",
    "\n",
    "Most methods that modify a mutable object return **nothing** because the modification is done\n",
    "*in place* on the object data.<br>\n",
    "An important consequence is that if we write\n",
    "<span style=\"color:#9f1f0f\">X = mutableobject.method(...)</span>,\n",
    "where <span style=\"color:#9f1f0f\">method</span> modifies\n",
    "<span style=\"color:#9f1f0f\">mutableobject</span>, we get\n",
    "<span style=\"color:#9f1f0f\">None</span> as the value returned by <span style=\"color:#9f1f0f\">method</span> and \n",
    "<span style=\"color:#9f1f0f\">X</span> becomes the name of <span style=\"color:#9f1f0f\">None</span> !!\n",
    "\n",
    "The main mutable objects are **lists**\n",
    "(class <span style=\"color:green\">list</span>), **dictionaries**\n",
    "(class <span style=\"color:green\">dict</span>) and optionally\n",
    "**user-defined classes**.\n",
    "\n",
    "Most **base types** are **not mutable** like\n",
    "<span style=\"color:green\">int</span>,\n",
    "<span style=\"color:green\">float</span>,\n",
    "<span style=\"color:green\">complex</span>,\n",
    "<span style=\"color:green\">str</span>,\n",
    "<span style=\"color:green\">bool</span>... as well as the type\n",
    "<span style=\"color:green\">tuple</span>\n",
    "(this is what differentiates it from the <span style=\"color:green\">list</span> type)."
   ]
  },
  {
   "cell_type": "markdown",
   "id": "72a5ae23",
   "metadata": {},
   "source": [
    "#### <span style=\"color:#0060B0\"> A string is not mutable: </span>"
   ]
  },
  {
   "cell_type": "code",
   "execution_count": null,
   "id": "1090b5ae",
   "metadata": {},
   "outputs": [],
   "source": [
    "a = \"hello\"               # string -> not mutable!\n",
    "b = a.replace(\"h\",\"H\")    # a.replace(...) retuns a modified copy of a\n",
    "print(a,b)                # a has not changed"
   ]
  },
  {
   "cell_type": "markdown",
   "id": "0cdf2d95",
   "metadata": {},
   "source": [
    "#### <span style=\"color:#0060B0\"> A list is mutable: the `sort` method acts on the list and returns <span style=\"color:#9f1f0f\">None</span></span>"
   ]
  },
  {
   "cell_type": "code",
   "execution_count": null,
   "id": "2e4e61da",
   "metadata": {},
   "outputs": [],
   "source": [
    "L = list(range(5,-1,-1)); L"
   ]
  },
  {
   "cell_type": "code",
   "execution_count": null,
   "id": "717d83e6",
   "metadata": {},
   "outputs": [],
   "source": [
    "L.sort(); L"
   ]
  },
  {
   "cell_type": "markdown",
   "id": "b5e66911",
   "metadata": {},
   "source": [
    "<br>\n",
    "**<span style=\"color:#800000\">FATAL ERROR: </span>**"
   ]
  },
  {
   "cell_type": "code",
   "execution_count": null,
   "id": "77516918",
   "metadata": {},
   "outputs": [],
   "source": [
    "L = L.sort()  # L is lost !!!!\n",
    "print(L)"
   ]
  },
  {
   "cell_type": "markdown",
   "id": "5ce62e75",
   "metadata": {},
   "source": [
    "[top](#top)"
   ]
  },
  {
   "cell_type": "markdown",
   "id": "c2460338",
   "metadata": {},
   "source": [
    "## __4 - The `list` type__ <a name=\"4\"></a>"
   ]
  },
  {
   "cell_type": "markdown",
   "id": "8ea467da",
   "metadata": {},
   "source": [
    "<div class=\"alert alert-block alert-info\">\n",
    "<span style=\"color: #0000BB;font-weight: bold; font-size:large;\">Exercise 4.1</span>\n",
    "<span style=\"color: #0000BB\">\n",
    "\n",
    "\n",
    "- Using the <span style=\"color:green\">randint</span> function of the <span style=\"color:green\">random</span> module\n",
    "    and the <span style=\"color:green\">append</span> method of the <span style=\"color:green\">list</span> class, create\n",
    "`LA`, a list of 10 random integer between 0 and 30.<br>\n",
    "(If necessary see [module random](https://docs.python.org/3/library/random.html), or the inline help\n",
    "by typing <tt><span style=\"color:green\">help(\"random.randint\")</span></tt> in a cell.<br>\n",
    "- Arrange the elements of `LA` in ascending order then display `LA`.\n",
    "- Now sort the elements of `LA`  in descending order then display `LA`<br>\n",
    "  $\\leadsto$ tips: look at the online help on `list.sort`"
   ]
  },
  {
   "cell_type": "code",
   "execution_count": null,
   "id": "f87e5a60",
   "metadata": {},
   "outputs": [],
   "source": [
    "from random import randint\n",
    "LA = []\n",
    "for i in range(10):\n",
    "    LA.append(randint(0,30))\n",
    "print(LA)    "
   ]
  },
  {
   "cell_type": "code",
   "execution_count": null,
   "id": "871c0ea0",
   "metadata": {},
   "outputs": [],
   "source": [
    "LA.sort()\n",
    "LA"
   ]
  },
  {
   "cell_type": "code",
   "execution_count": null,
   "id": "f067881b",
   "metadata": {},
   "outputs": [],
   "source": [
    "help(list.sort)"
   ]
  },
  {
   "cell_type": "code",
   "execution_count": null,
   "id": "80f35f28",
   "metadata": {},
   "outputs": [],
   "source": [
    "LA.sort(reverse=True) ; LA"
   ]
  },
  {
   "cell_type": "markdown",
   "id": "970f17e8",
   "metadata": {},
   "source": [
    "[top](#top)"
   ]
  },
  {
   "cell_type": "markdown",
   "id": "4e565421",
   "metadata": {},
   "source": [
    "## List comprehension <a name=\"list_comprehension\"></a>\n",
    "\n",
    "A **list comprehension** is a list including a **a loop** at the definition step: `L = [ <expression> for <item> in <iterable> ]`.<br>\n",
    "you can also incorporate a filter: `[ <expression> for <item> in <iterable> if <condition(s)> ]`."
   ]
  },
  {
   "cell_type": "code",
   "execution_count": null,
   "id": "ca137cf8",
   "metadata": {},
   "outputs": [],
   "source": [
    "# Examples:\n",
    "L1 = [f\"data{i}.txt\" for i in range(1,5)]\n",
    "L1"
   ]
  },
  {
   "cell_type": "code",
   "execution_count": null,
   "id": "d906978e",
   "metadata": {},
   "outputs": [],
   "source": [
    "# Examples:\n",
    "L2 = [x-6 for x in range(16) if x % 3 != 0]\n",
    "L2"
   ]
  },
  {
   "cell_type": "markdown",
   "id": "562fed03",
   "metadata": {},
   "source": [
    "[top](#top)"
   ]
  },
  {
   "cell_type": "markdown",
   "id": "c338a5e9",
   "metadata": {},
   "source": [
    "<div class=\"alert alert-block alert-info\">\n",
    "<span style=\"color: #0000BB;font-weight: bold; font-size:large;\">Exercise 4.2 $-$ List comprehension</span>\n",
    "<span style=\"color: #0000BB\">\n",
    "\n",
    "- Redefine in comprehension the `LA` list of the previous exercise.\n",
    "- Define and display the list comprehension `LS` of the squares of the elements of `LA`.\n",
    "- Define and display the list comprehension `LE` of the even elements of `LA`.\n",
    "- Define and display the list comprehension `LO` of squares of the odd elements of `LA`."
   ]
  },
  {
   "cell_type": "code",
   "execution_count": null,
   "id": "04d2fe44",
   "metadata": {},
   "outputs": [],
   "source": [
    "LA = [randint(0,30) for i in range(10)]; LA"
   ]
  },
  {
   "cell_type": "code",
   "execution_count": null,
   "id": "b9cb3623",
   "metadata": {},
   "outputs": [],
   "source": [
    "LS = [e*e for e in LA]; LS"
   ]
  },
  {
   "cell_type": "code",
   "execution_count": null,
   "id": "f40e0499",
   "metadata": {},
   "outputs": [],
   "source": [
    "LE = [e for e in LA if e % 2 == 0]; LE"
   ]
  },
  {
   "cell_type": "code",
   "execution_count": null,
   "id": "1e1a0a4c",
   "metadata": {},
   "outputs": [],
   "source": [
    "LO = [e*e for e in LA if e % 2 == 1]; LO"
   ]
  },
  {
   "cell_type": "markdown",
   "id": "1e798a5a",
   "metadata": {},
   "source": [
    "[top](#top)"
   ]
  },
  {
   "cell_type": "markdown",
   "id": "66d507fa",
   "metadata": {},
   "source": [
    "### Slicing <a name=\"slicing\"></a>\n",
    "The **slicing** allows you to extract part of a list: **it is a technique to master absolutely**.\n",
    "\n",
    "This technique also applies to character strings and multidimensional arrays\n",
    "(like numpy.ndarray).<br />\n",
    "\n",
    "The syntax with the list `L` is: `L[<start inclusive>:<end exclusive>:<step>]`<br />\n",
    "or, if the step is 1: `L[<start inclusive>:<end exclusive>]`<br />\n",
    "\n",
    "Using negative indices allows the list to be traversed in the opposite direction.\n",
    "\n",
    "<img src=\"img/slicing.png\" style=\"height:300px;width:400px\" align=\"middle\"/>"
   ]
  },
  {
   "cell_type": "markdown",
   "id": "0811a091",
   "metadata": {},
   "source": [
    "<div class=\"alert alert-block alert-info\">\n",
    "<span style=\"color: #0000BB;font-weight: bold; font-size:large;\">Exercise 4.3 $-$ List slicing</span>\n",
    "<span style=\"color: #0000BB\">\n",
    "\n",
    "- Set and display `LC`, the list of integers from -10 to 10.\n",
    "- Extract and display the first 3 elements of `LC`.\n",
    "- Extract and display the last 4 elements of `LC`.\n",
    "- Display the list obtained by traversing `LC` backwards. Visually check that `LC` is not modified.\n",
    "- Display the elements of `LC` going from the penultimate to the fourth inclusive by step of −1."
   ]
  },
  {
   "cell_type": "code",
   "execution_count": null,
   "id": "3f0d14eb",
   "metadata": {},
   "outputs": [],
   "source": [
    "LC = list(range(-10,11)); LC"
   ]
  },
  {
   "cell_type": "code",
   "execution_count": null,
   "id": "18ba10b0",
   "metadata": {},
   "outputs": [],
   "source": [
    "LC[:3]"
   ]
  },
  {
   "cell_type": "code",
   "execution_count": null,
   "id": "da217b3e",
   "metadata": {},
   "outputs": [],
   "source": [
    "LC[-4:]"
   ]
  },
  {
   "cell_type": "code",
   "execution_count": null,
   "id": "12220c4c",
   "metadata": {},
   "outputs": [],
   "source": [
    "print(LC[::-1])\n",
    "print(LC)"
   ]
  },
  {
   "cell_type": "code",
   "execution_count": null,
   "id": "fbda20f6",
   "metadata": {},
   "outputs": [],
   "source": [
    "LC[-2:2:-1]"
   ]
  },
  {
   "cell_type": "markdown",
   "id": "569c7251",
   "metadata": {},
   "source": [
    "[top](#top)"
   ]
  },
  {
   "cell_type": "markdown",
   "id": "4ffc4339",
   "metadata": {},
   "source": [
    "## __5 - The `str` type__ <a name=\"5\"></a>"
   ]
  },
  {
   "cell_type": "markdown",
   "id": "22a425d3",
   "metadata": {},
   "source": [
    "The expression `dir(item)` returns the names of the attributes and methods of `item`.<br>\n",
    "Seeing the result of `dir(str)` in the cell below can you predict the result of list comprehension in the next cell ?"
   ]
  },
  {
   "cell_type": "code",
   "execution_count": null,
   "id": "d5922e5d",
   "metadata": {},
   "outputs": [],
   "source": [
    "print(dir(str))"
   ]
  },
  {
   "cell_type": "code",
   "execution_count": null,
   "id": "1e68c44d",
   "metadata": {},
   "outputs": [],
   "source": [
    "print([item for item in dir(str) if not item.startswith(\"__\")])"
   ]
  },
  {
   "cell_type": "markdown",
   "id": "c1a5c56a",
   "metadata": {},
   "source": [
    "[top](#top)"
   ]
  },
  {
   "cell_type": "markdown",
   "id": "37e4c314",
   "metadata": {},
   "source": [
    "<div class=\"alert alert-block alert-info\">\n",
    "<span style=\"color: #0000BB;font-weight: bold; font-size:large;\">Exercise 5.1</span>\n",
    "<span style=\"color: #0000BB\">\n",
    "    \n",
    "- Display the help on the `replace` method of the `str` class.<br>\n",
    "- Define and display the string `S1` containing `\"Hello friends!\"`.<br>\n",
    "- Define and display the string `S2` equal to S1 capitalized.<br>\n",
    "- Define and display the string `S3` obtained by replacing in S1 `Hello` by `Goodbye`<br>\n",
    "- Verify that `S1` has not been modified...      \n",
    "\n",
    "    </span></div>"
   ]
  },
  {
   "cell_type": "code",
   "execution_count": null,
   "id": "589db0d3",
   "metadata": {},
   "outputs": [],
   "source": [
    "help(str.replace)"
   ]
  },
  {
   "cell_type": "code",
   "execution_count": null,
   "id": "63283eb1",
   "metadata": {},
   "outputs": [],
   "source": [
    "S1 = \"Hello friends!\"\n",
    "print(S1)\n",
    "S2 = S1.upper()\n",
    "print(S2)\n",
    "S3 = S1.replace('Hello', 'Goodbye')\n",
    "print(S3)\n",
    "print(S1)"
   ]
  },
  {
   "cell_type": "markdown",
   "id": "df414a41",
   "metadata": {},
   "source": [
    "<div class=\"alert alert-block alert-info\">\n",
    "<span style=\"color: #0000BB;font-weight: bold; font-size:large;\">Exercise 5.2</span>\n",
    "<span style=\"color: #0000BB\">\n",
    "        \n",
    "- Define `fileName` as the string `\"data1.txt\"`.\n",
    "- Using the `replace` method applied to `fileName`, define `imageName` by replacing `\".txt\"` by `\".png\"` in `fileName`\n",
    "- Display `fileName` and `imageName`.\n",
    "</span></div>"
   ]
  },
  {
   "cell_type": "code",
   "execution_count": null,
   "id": "609bc47f",
   "metadata": {},
   "outputs": [],
   "source": [
    "fileName = \"data1.txt\"\n",
    "imageName = fileName.replace(\".txt\", \".png\")\n",
    "print(fileName, imageName)"
   ]
  },
  {
   "cell_type": "markdown",
   "id": "970c7722",
   "metadata": {},
   "source": [
    "[top](#top)"
   ]
  },
  {
   "cell_type": "markdown",
   "id": "541c55ea",
   "metadata": {},
   "source": [
    "### f-string: formatted string. <a name=\"f-string\"></a>\n",
    "\n",
    "The syntaxe `f\".....\"` constructs a formatted string.<br>\n",
    "Take a look at some formatting examples below:"
   ]
  },
  {
   "cell_type": "code",
   "execution_count": null,
   "id": "6c5be9c4",
   "metadata": {},
   "outputs": [],
   "source": [
    "amount = 123.4567\n",
    "message = f\"Amount due: {amount} €\" # Python looks for the occurrence of {expression} and \n",
    "                                    # replaces expression by its value\n",
    "print(message)"
   ]
  },
  {
   "cell_type": "markdown",
   "id": "bf9fc540",
   "metadata": {},
   "source": [
    "<br>By specifying the format with `{expression:format}` we can control the format.<br>\n",
    "`{expression:.2f}` $\\leadsto$ `expression` is replaced by its value as a float with 2 decimal places:\n"
   ]
  },
  {
   "cell_type": "code",
   "execution_count": null,
   "id": "3d120933",
   "metadata": {},
   "outputs": [],
   "source": [
    "print(f\"Amount due: {amount:.2f} €\")"
   ]
  },
  {
   "cell_type": "markdown",
   "id": "f0478260",
   "metadata": {},
   "source": [
    "<br>`{expression:8.2f}` $\\leadsto$ `expression` is replaced by its value as an 8 character float\n",
    "with 2 decimal places:"
   ]
  },
  {
   "cell_type": "code",
   "execution_count": null,
   "id": "981b3da6",
   "metadata": {},
   "outputs": [],
   "source": [
    "print(f\"Amount due: {amount:8.2f} €\")"
   ]
  },
  {
   "cell_type": "markdown",
   "id": "3b547607",
   "metadata": {},
   "source": [
    "<br>`{expression:08.2f}` $\\leadsto$ `expression` is replaced by its value as an 8 characters float\n",
    "with 2 decimal places and left padding with 0s."
   ]
  },
  {
   "cell_type": "code",
   "execution_count": null,
   "id": "47c87373",
   "metadata": {},
   "outputs": [],
   "source": [
    "print(\"Amount due: {amount:08.2f} €\")"
   ]
  },
  {
   "cell_type": "markdown",
   "id": "c531a031",
   "metadata": {},
   "source": [
    "[top](#top)"
   ]
  },
  {
   "cell_type": "markdown",
   "id": "9cf5535b",
   "metadata": {},
   "source": [
    "<div class=\"alert alert-block alert-info\">\n",
    "<span style=\"color: #0000BB;font-weight: bold; font-size:large;\">Exercise 5.2 Palindrome</span>\n",
    "<span style=\"color: #0000BB\">\n",
    "  \n",
    "- Define `S` as the string `\"A man, a plan, a canal--Panama!\"`.\n",
    "- Define `s` as `S` converted to lower case.\n",
    "- Verify that `s` is a *palindrome*  : ignoring comas, spaces, dashes, exclamation marks... reading it from left to right and from right to left gives the same result."
   ]
  },
  {
   "cell_type": "code",
   "execution_count": null,
   "id": "1953b2c3",
   "metadata": {},
   "outputs": [],
   "source": [
    "S = 'A man, a plan, a canal--Panama!'\n",
    "s = S.lower()\n",
    "s = s.replace(\" \",\"\").replace(\"-\",\"\").replace(\"!\",\"\").replace(\",\",\"\")\n",
    "s == s[::-1]"
   ]
  },
  {
   "cell_type": "markdown",
   "id": "777a026a",
   "metadata": {},
   "source": [
    "[top](#top)"
   ]
  }
 ],
 "metadata": {
  "kernelspec": {
   "display_name": "Python 3",
   "language": "python",
   "name": "python3"
  },
  "language_info": {
   "codemirror_mode": {
    "name": "ipython",
    "version": 3
   },
   "file_extension": ".py",
   "mimetype": "text/x-python",
   "name": "python",
   "nbconvert_exporter": "python",
   "pygments_lexer": "ipython3",
   "version": "3.8.13"
  }
 },
 "nbformat": 4,
 "nbformat_minor": 5
}
