{
 "cells": [
  {
   "cell_type": "markdown",
   "id": "8af5fb8d",
   "metadata": {},
   "source": [
    "<span style=\"font-size:10pt\">AI @ ENSPIMA_2023-2024 / v1.1 september 2023 / Jean-Luc CHARLES (Jean-Luc.charles@mailo.com) / CC BY-SA 4.0 /</span>"
   ]
  },
  {
   "cell_type": "markdown",
   "id": "681e7097",
   "metadata": {
    "tags": []
   },
   "source": [
    "# <img align=\"middle\" src=\"./img/alarmClock.png\" width=\"60\" height=\"60\">  __Wake up your Python__ ! part 1<a name=\"top\"></a>\n",
    "\n",
    "## [ 1 - The <span style=\"color:green\">range</span> primitive](#1)\n",
    "## [ 2 - The pythonic loop – Iterable objects](#2)\n",
    "### $\\phantom{--}$[ The <span style=\"color:green\">enumerate</span> primitive](#enumerate)\n",
    "### $\\phantom{--}$[ The <span style=\"color:green\">zip</span> primitive](#zip)\n",
    "## [ 3 - Mutable/not mutable objects in Python](#3)\n",
    "## [ 4 - The <span style=\"color:green\">list</span> type](#4)\n",
    "### $\\phantom{--}$[ List comprehension](#list_comprehension)\n",
    "### $\\phantom{--}$[ Slicing](#slicing)\n",
    "## [ 5 - The <span style=\"color:green\">str</span> type](#5)\n",
    "### $\\phantom{--}$[ f-string: formatted string](#f-string)"
   ]
  },
  {
   "cell_type": "markdown",
   "id": "6994afbb",
   "metadata": {},
   "source": [
    "<div class=\"alert alert-block alert-info\"> <span style=\"color:#000080\">\n",
    "For each example in this notebook, take care to read the explanations given and to execute the Python cells with $\\left(\\mathtt{Shift+Enter}\\right)$, before proceeding to the exercises.\n",
    "</span>\n",
    "</div>"
   ]
  },
  {
   "cell_type": "markdown",
   "id": "a3bac691",
   "metadata": {},
   "source": [
    "## __1 - The `range` primitive__ <a name=\"1\"></a>\n",
    "`range` allows you to build an **iterable object** made up of a sequence of integers:\n",
    "\n",
    "`range(start, stop[, step])` returns an integer generator ranging from `start` inclusive to `stop` exclusive, in steps (integer) of `step`.<br /> If only `stop` is given, the generator starts at zero, and the step is 1."
   ]
  },
  {
   "cell_type": "code",
   "execution_count": 1,
   "id": "2e63ec02",
   "metadata": {},
   "outputs": [
    {
     "data": {
      "text/plain": [
       "range(1, 10)"
      ]
     },
     "execution_count": 1,
     "metadata": {},
     "output_type": "execute_result"
    }
   ],
   "source": [
    "range(1,10)"
   ]
  },
  {
   "cell_type": "markdown",
   "id": "00b888ab",
   "metadata": {},
   "source": [
    "A `range` object is **iterable**: it can be traversed simply with a Python loop (this is 90% of the use cases for `range`):"
   ]
  },
  {
   "cell_type": "code",
   "execution_count": 2,
   "id": "46e754e8",
   "metadata": {},
   "outputs": [
    {
     "name": "stdout",
     "output_type": "stream",
     "text": [
      "1\n",
      "2\n",
      "3\n",
      "4\n",
      "5\n",
      "6\n",
      "7\n",
      "8\n",
      "9\n"
     ]
    }
   ],
   "source": [
    "for i in range(1,10):\n",
    "    print(i)"
   ]
  },
  {
   "cell_type": "markdown",
   "id": "d415ca19",
   "metadata": {},
   "source": [
    "If you want to *see* a range object as a list, just turn it into a list:"
   ]
  },
  {
   "cell_type": "code",
   "execution_count": 3,
   "id": "7475eba1",
   "metadata": {},
   "outputs": [
    {
     "data": {
      "text/plain": [
       "[0, 1, 2, 3, 4, 5, 6, 7, 8, 9]"
      ]
     },
     "execution_count": 3,
     "metadata": {},
     "output_type": "execute_result"
    }
   ],
   "source": [
    "list(range(10))"
   ]
  },
  {
   "cell_type": "markdown",
   "id": "e947f536",
   "metadata": {},
   "source": [
    "<div class=\"alert alert-block alert-info\">\n",
    "<span style=\"color: #0000BB;font-weight: bold; font-size:large;\">Exercise 1</span>\n",
    "<div><span style=\"color: #0000BB\">\n",
    "    \n",
    "Using `print`, `list` and `range`, can you display as a list:\n",
    "- the integer numbers from 0 to 10 inclusive\n",
    "- the integer numbers from -1 to -5 inclusive\n",
    "- the first 5 even integers from 2 to 10 inclusive\n",
    "</span></div>"
   ]
  },
  {
   "cell_type": "code",
   "execution_count": 4,
   "id": "91ed358a",
   "metadata": {},
   "outputs": [
    {
     "name": "stdout",
     "output_type": "stream",
     "text": [
      "[0, 1, 2, 3, 4, 5, 6, 7, 8, 9, 10]\n"
     ]
    }
   ],
   "source": [
    "print(list(range(11)))"
   ]
  },
  {
   "cell_type": "code",
   "execution_count": 5,
   "id": "c192157f",
   "metadata": {},
   "outputs": [
    {
     "name": "stdout",
     "output_type": "stream",
     "text": [
      "[-1, -2, -3, -4, -5]\n"
     ]
    }
   ],
   "source": [
    "print(list(range(-1, -6, -1)))"
   ]
  },
  {
   "cell_type": "code",
   "execution_count": 6,
   "id": "b7713f1a",
   "metadata": {},
   "outputs": [
    {
     "name": "stdout",
     "output_type": "stream",
     "text": [
      "[2, 4, 6, 8, 10]\n"
     ]
    }
   ],
   "source": [
    "print(list(range(2,11,2)))"
   ]
  },
  {
   "cell_type": "markdown",
   "id": "1ee74595",
   "metadata": {},
   "source": [
    "[top](#top)"
   ]
  },
  {
   "cell_type": "markdown",
   "id": "31134928",
   "metadata": {},
   "source": [
    "## __2 - The pythonic loop – Iterable objects__ <a name=\"2\"></a>\n",
    "Python **Iterable** are objects that you can iterate over simply with a loop, like\n",
    "objects of type\n",
    "<span style=\"color:green;font-weight:bold;font-family:arial\">range</span>,\n",
    "<span style=\"color:green;font-weight:bold;font-family:arial\">list</span>,\n",
    "<span style=\"color:green;font-weight:bold;font-family:arial\">str</span>...:"
   ]
  },
  {
   "cell_type": "code",
   "execution_count": 7,
   "id": "40055232",
   "metadata": {},
   "outputs": [
    {
     "name": "stdout",
     "output_type": "stream",
     "text": [
      "h\n",
      "e\n",
      "l\n",
      "l\n",
      "o\n"
     ]
    }
   ],
   "source": [
    "for c in \"hello\": # c iterates over all the letters of the string \"hello\"\n",
    "    print(c)      # display c"
   ]
  },
  {
   "cell_type": "code",
   "execution_count": 8,
   "id": "2eae6c04",
   "metadata": {},
   "outputs": [
    {
     "name": "stdout",
     "output_type": "stream",
     "text": [
      "Iterator: range(0, 5)\n",
      "Conversion to list: [0, 1, 2, 3, 4]\n"
     ]
    }
   ],
   "source": [
    "L = range(5)              # L is a range object\n",
    "print(\"Iterator:\", L)\n",
    "print(\"Conversion to list:\", list(L))"
   ]
  },
  {
   "cell_type": "code",
   "execution_count": 9,
   "id": "7bba058e",
   "metadata": {},
   "outputs": [
    {
     "name": "stdout",
     "output_type": "stream",
     "text": [
      "0 -> 0\n",
      "1 -> 1\n",
      "2 -> 4\n",
      "3 -> 9\n",
      "4 -> 16\n"
     ]
    }
   ],
   "source": [
    "for e in range(5):         # Iterations: e is successvely 0, 1, 2, 3 and 4.\n",
    "    print(e, \"->\", e*e)    # print the value of e*e"
   ]
  },
  {
   "cell_type": "markdown",
   "id": "91ce0507",
   "metadata": {},
   "source": [
    "[top](#top)"
   ]
  },
  {
   "cell_type": "markdown",
   "id": "9824a663",
   "metadata": {},
   "source": [
    "<div class=\"alert alert-block alert-info\">\n",
    "<span style=\"color: #0000BB;font-weight: bold; font-size:large;\">Exercise 2 $-$ Simple traversal of a list</span>\n",
    "<span style=\"color: #0000BB\">\n",
    "    \n",
    "- Define the list of strings: `L1 = [\"data1.txt\", \"data2.txt\", \"data3.txt\", \"data4.txt\"]`.<br>\n",
    "- Define the empty list `L2`.<br>\n",
    "- In a loop traversing `L1`, append at the end of `L2` the current element of `L1` with the suffix `\".txt\"` replaced by `\".png\"`.<br>\n",
    "    $\\leadsto$ tips: `L2.append(item)` append the object `item` to the list `L2`.<br>\n",
    "    $\\phantom{---}$ See this [page](https://www.w3schools.com/python/ref_string_replace.asp) on the site www.w3schools.com/python for a short documentation on the methode `replace` of the `str` class.\n",
    "- Displays `L2`.\n",
    "</span></div>\n",
    "tips:"
   ]
  },
  {
   "cell_type": "code",
   "execution_count": 10,
   "id": "55e9d9ab",
   "metadata": {},
   "outputs": [
    {
     "data": {
      "text/plain": [
       "['data1.png', 'data2.png', 'data3.png', 'data4.png']"
      ]
     },
     "execution_count": 10,
     "metadata": {},
     "output_type": "execute_result"
    }
   ],
   "source": [
    "L1 = [\"data1.txt\", \"data2.txt\", \"data3.txt\", \"data4.txt\"]\n",
    "L2 = []\n",
    "for e in L1:\n",
    "    L2.append(e.replace('.txt', '.png'))\n",
    "L2"
   ]
  },
  {
   "cell_type": "markdown",
   "id": "985eb0a1",
   "metadata": {},
   "source": [
    "<div class=\"alert alert-block alert-info\"><span style=\"color: #0000BB\">\n",
    "    \n",
    "- Traverse `L1` backwards with a `for` loop and print the current term at each lap of the loop.<br>\n",
    "    $\\leadsto$ Tips: try the expressions `L1[::-1]` ...\n",
    "</span></div>"
   ]
  },
  {
   "cell_type": "code",
   "execution_count": 11,
   "id": "0daa044e",
   "metadata": {},
   "outputs": [
    {
     "data": {
      "text/plain": [
       "['data4.txt', 'data3.txt', 'data2.txt', 'data1.txt']"
      ]
     },
     "execution_count": 11,
     "metadata": {},
     "output_type": "execute_result"
    }
   ],
   "source": [
    "L1[::-1]"
   ]
  },
  {
   "cell_type": "code",
   "execution_count": 12,
   "id": "cc15b78c",
   "metadata": {},
   "outputs": [
    {
     "name": "stdout",
     "output_type": "stream",
     "text": [
      "data4.txt\n",
      "data3.txt\n",
      "data2.txt\n",
      "data1.txt\n"
     ]
    }
   ],
   "source": [
    "for e in L1[::-1]:\n",
    "    print(e)"
   ]
  },
  {
   "cell_type": "markdown",
   "id": "51066dd1",
   "metadata": {},
   "source": [
    "<div class=\"alert alert-block alert-info\"><span style=\"color: #0000BB\">\n",
    "    \n",
    "- Define `L3` obtained by traversing `L1` backwards and adding the current term without its \".txt\" suffixe.<br>\n",
    "- Displays `L3`.\n",
    "</span></div>"
   ]
  },
  {
   "cell_type": "code",
   "execution_count": 13,
   "id": "c5841451",
   "metadata": {},
   "outputs": [
    {
     "name": "stdout",
     "output_type": "stream",
     "text": [
      "L3: ['data4', 'data3', 'data2', 'data1']\n"
     ]
    }
   ],
   "source": [
    "L3 = []\n",
    "for e in L1[::-1]:\n",
    "    L3.append(e.replace(\".txt\",\"\"))\n",
    "print(\"L3:\", L3)"
   ]
  },
  {
   "cell_type": "markdown",
   "id": "505ea280",
   "metadata": {},
   "source": [
    "[top](#top)"
   ]
  },
  {
   "cell_type": "markdown",
   "id": "99439267",
   "metadata": {
    "tags": []
   },
   "source": [
    "## The `enumerate` primitive <a name=\"enumerate\"> </a>"
   ]
  },
  {
   "cell_type": "markdown",
   "id": "888f7d6d",
   "metadata": {},
   "source": [
    "<div class=\"alert alert-block alert-info\">\n",
    "<span style=\"color: #0000BB;font-weight: bold; font-size:large;\">Exercise 2.1 $-$ Enumerated traversal of an iterable with the \n",
    "<span style=\"color:green\">enumerate</span> primitive.</span>\n",
    "<span style=\"color: #0000BB\">\n",
    "\n",
    "You can consult the documentation of the Python site on the *primitive*\n",
    "[enumerate](https://docs.python.org/3/library/functions.html?highlight=enumerate#enumerate),\n",
    "or the online help by typing the command\n",
    "<span style=\"color:green;font-family:arial\">help(enumerate)</span>.\n",
    "    \n",
    "With the list `L1` from the previous exercise:<br>\n",
    "- Using the primitive <span style=\"color:green;font-family:arial\">enumerate</span>, iterate over `L1` with the couple `n,e`: display at each loop lap the lap number (`n`) and the current element of `L1` (`e`).<br>\n",
    "- Find two different ways to display the loop lap number starting at 10.\n",
    "</span></div>"
   ]
  },
  {
   "cell_type": "code",
   "execution_count": 14,
   "id": "d80127b5",
   "metadata": {},
   "outputs": [
    {
     "name": "stdout",
     "output_type": "stream",
     "text": [
      "0 data1.txt\n",
      "1 data2.txt\n",
      "2 data3.txt\n",
      "3 data4.txt\n"
     ]
    }
   ],
   "source": [
    "for n,e in enumerate(L1):\n",
    "    print(n,e)"
   ]
  },
  {
   "cell_type": "code",
   "execution_count": 15,
   "id": "e51a73cc",
   "metadata": {},
   "outputs": [
    {
     "name": "stdout",
     "output_type": "stream",
     "text": [
      "10 data1.txt\n",
      "11 data2.txt\n",
      "12 data3.txt\n",
      "13 data4.txt\n"
     ]
    }
   ],
   "source": [
    "for n,e in enumerate(L1, 10):\n",
    "    print(n,e)"
   ]
  },
  {
   "cell_type": "code",
   "execution_count": 16,
   "id": "69e5da7c",
   "metadata": {},
   "outputs": [
    {
     "name": "stdout",
     "output_type": "stream",
     "text": [
      "10 data1.txt\n",
      "11 data2.txt\n",
      "12 data3.txt\n",
      "13 data4.txt\n"
     ]
    }
   ],
   "source": [
    "for n,e in enumerate(L1):\n",
    "    print(n+10,e)"
   ]
  },
  {
   "cell_type": "markdown",
   "id": "f505fdc5",
   "metadata": {},
   "source": [
    "[top](#top)"
   ]
  },
  {
   "cell_type": "markdown",
   "id": "98590d79",
   "metadata": {
    "tags": []
   },
   "source": [
    "## The `zip` primitive <a name=\"zip\"> </a>"
   ]
  },
  {
   "cell_type": "markdown",
   "id": "c8c3db58",
   "metadata": {},
   "source": [
    "<div class=\"alert alert-block alert-info\">\n",
    "<span style=\"color: #0000BB;font-weight: bold; font-size:large;\">Exercise 2.2 $–$ Simultaneous traversal of several iterables: \n",
    "<span style=\"color:green\">zip</span> primitive.</span>\n",
    "<span style=\"color: #0000BB\">    \n",
    "\n",
    "You can consult the documentation of the Python site on the\n",
    "primitive [zip](https://docs.python.org/3/library/functions.html?highlight=zip#zip)\n",
    "or the online help by typing the command\n",
    "<span style=\"color:green;font-family:arial\">help(zip)</span>.\n",
    "- Define `R` as `range(5,-6,-2)` and display `R` as a list.\n",
    "- Using the <span style=\"color:green\">zip</span> primitive, simultaneously browse `R` and `L1` with the pair of names `n,e` and display at each loop lap the value of `n` followed by `\":\"` followed by the value of `e`."
   ]
  },
  {
   "cell_type": "code",
   "execution_count": 17,
   "id": "2ecb386a",
   "metadata": {},
   "outputs": [
    {
     "name": "stdout",
     "output_type": "stream",
     "text": [
      "[5, 3, 1, -1, -3, -5]\n"
     ]
    }
   ],
   "source": [
    "R = range(5,-6,-2)\n",
    "print(list(R))"
   ]
  },
  {
   "cell_type": "code",
   "execution_count": 18,
   "id": "f0cb20ba",
   "metadata": {},
   "outputs": [
    {
     "name": "stdout",
     "output_type": "stream",
     "text": [
      "5 : data1.txt\n",
      "3 : data2.txt\n",
      "1 : data3.txt\n",
      "-1 : data4.txt\n"
     ]
    }
   ],
   "source": [
    "for n,e in zip(R,L1):\n",
    "    print(n,\":\",e)"
   ]
  },
  {
   "cell_type": "markdown",
   "id": "b8bd4d41",
   "metadata": {},
   "source": [
    "Formatted display with an <span style=\"color:#008000\">f-string</span>:"
   ]
  },
  {
   "cell_type": "code",
   "execution_count": 19,
   "id": "f0dc6439",
   "metadata": {},
   "outputs": [
    {
     "name": "stdout",
     "output_type": "stream",
     "text": [
      "  5: data1.txt\n",
      "  3: data2.txt\n",
      "  1: data3.txt\n",
      " -1: data4.txt\n"
     ]
    }
   ],
   "source": [
    "for n,e in zip(R,L1):\n",
    "    print(f\"{n:3d}: {e}\")"
   ]
  },
  {
   "cell_type": "markdown",
   "id": "c875079a",
   "metadata": {},
   "source": [
    "[top](#top)"
   ]
  },
  {
   "cell_type": "markdown",
   "id": "a498069e",
   "metadata": {},
   "source": [
    "## __3 - 'Mutable/not mutable' objects in Python__ <a name=\"3\"></a>\n",
    "\n",
    "Python **mutable objects** are instances of classes that can be modified using the methods\n",
    "classes or language operator.\n",
    "\n",
    "Most methods that modify a mutable object return **nothing** because the modification is done\n",
    "*in place* on the object data.<br>\n",
    "An important consequence is that if we write\n",
    "<span style=\"color:#9f1f0f\">X = mutableobject.method(...)</span>,\n",
    "where <span style=\"color:#9f1f0f\">method</span> modifies\n",
    "<span style=\"color:#9f1f0f\">mutableobject</span>, we get\n",
    "<span style=\"color:#9f1f0f\">None</span> as the value returned by <span style=\"color:#9f1f0f\">method</span> and \n",
    "<span style=\"color:#9f1f0f\">X</span> becomes the name of <span style=\"color:#9f1f0f\">None</span> !!\n",
    "\n",
    "The main mutable objects are **lists**\n",
    "(class <span style=\"color:green\">list</span>), **dictionaries**\n",
    "(class <span style=\"color:green\">dict</span>) and optionally\n",
    "**user-defined classes**.\n",
    "\n",
    "Most **base types** are **not mutable** like\n",
    "<span style=\"color:green\">int</span>,\n",
    "<span style=\"color:green\">float</span>,\n",
    "<span style=\"color:green\">complex</span>,\n",
    "<span style=\"color:green\">str</span>,\n",
    "<span style=\"color:green\">bool</span>... as well as the type\n",
    "<span style=\"color:green\">tuple</span>\n",
    "(this is what differentiates it from the <span style=\"color:green\">list</span> type)."
   ]
  },
  {
   "cell_type": "markdown",
   "id": "c74086ee",
   "metadata": {},
   "source": [
    "#### <span style=\"color:#0060B0\"> A string is not mutable: </span>"
   ]
  },
  {
   "cell_type": "code",
   "execution_count": 20,
   "id": "b8ea3c8c",
   "metadata": {},
   "outputs": [
    {
     "name": "stdout",
     "output_type": "stream",
     "text": [
      "hello Hello\n"
     ]
    }
   ],
   "source": [
    "a = \"hello\"               # string -> not mutable!\n",
    "b = a.replace(\"h\",\"H\")    # a.replace(...) retuns a modified copy of a\n",
    "print(a,b)                # a has not changed"
   ]
  },
  {
   "cell_type": "markdown",
   "id": "a6470abe",
   "metadata": {},
   "source": [
    "#### <span style=\"color:#0060B0\"> A list is mutable: the `sort` method acts on the list and returns <span style=\"color:#9f1f0f\">None</span></span>"
   ]
  },
  {
   "cell_type": "code",
   "execution_count": 21,
   "id": "5427d582",
   "metadata": {},
   "outputs": [
    {
     "data": {
      "text/plain": [
       "[5, 4, 3, 2, 1, 0]"
      ]
     },
     "execution_count": 21,
     "metadata": {},
     "output_type": "execute_result"
    }
   ],
   "source": [
    "L = list(range(5,-1,-1)); L"
   ]
  },
  {
   "cell_type": "code",
   "execution_count": 22,
   "id": "3ec3a138",
   "metadata": {},
   "outputs": [
    {
     "data": {
      "text/plain": [
       "[0, 1, 2, 3, 4, 5]"
      ]
     },
     "execution_count": 22,
     "metadata": {},
     "output_type": "execute_result"
    }
   ],
   "source": [
    "L.sort(); L"
   ]
  },
  {
   "cell_type": "markdown",
   "id": "abc6b053",
   "metadata": {},
   "source": [
    "<br>\n",
    "**<span style=\"color:#800000\">FATAL ERROR: </span>**"
   ]
  },
  {
   "cell_type": "code",
   "execution_count": 23,
   "id": "5d391cff",
   "metadata": {},
   "outputs": [
    {
     "name": "stdout",
     "output_type": "stream",
     "text": [
      "None\n"
     ]
    }
   ],
   "source": [
    "L = L.sort()  # L is lost !!!!\n",
    "print(L)"
   ]
  },
  {
   "cell_type": "markdown",
   "id": "f4553494",
   "metadata": {},
   "source": [
    "[top](#top)"
   ]
  },
  {
   "cell_type": "markdown",
   "id": "84208764",
   "metadata": {},
   "source": [
    "## __4 - The `list` type__ <a name=\"4\"></a>"
   ]
  },
  {
   "cell_type": "markdown",
   "id": "7aedd1bc",
   "metadata": {},
   "source": [
    "<div class=\"alert alert-block alert-info\">\n",
    "<span style=\"color: #0000BB;font-weight: bold; font-size:large;\">Exercise 4.1</span>\n",
    "<span style=\"color: #0000BB\">\n",
    "\n",
    "\n",
    "- Using the <span style=\"color:green\">randint</span> function of the <span style=\"color:green\">random</span> module\n",
    "    and the <span style=\"color:green\">append</span> method of the <span style=\"color:green\">list</span> class, create\n",
    "`LA`, a list of 10 random integer between 0 and 30.<br>\n",
    "(If necessary see [module random](https://docs.python.org/3/library/random.html), or the inline help\n",
    "by typing <tt><span style=\"color:green\">help(\"random.randint\")</span></tt> in a cell.<br>\n",
    "- Arrange the elements of `LA` in ascending order then display `LA`.\n",
    "- Now sort the elements of `LA`  in descending order then display `LA`<br>\n",
    "  $\\leadsto$ tips: look at the online help on `list.sort`"
   ]
  },
  {
   "cell_type": "code",
   "execution_count": 24,
   "id": "397144ed",
   "metadata": {},
   "outputs": [
    {
     "name": "stdout",
     "output_type": "stream",
     "text": [
      "[26, 20, 27, 6, 20, 11, 23, 12, 30, 23]\n"
     ]
    }
   ],
   "source": [
    "from random import randint\n",
    "LA = []\n",
    "for i in range(10):\n",
    "    LA.append(randint(0,30))\n",
    "print(LA)    "
   ]
  },
  {
   "cell_type": "code",
   "execution_count": 25,
   "id": "a04c97c9",
   "metadata": {},
   "outputs": [
    {
     "data": {
      "text/plain": [
       "[6, 11, 12, 20, 20, 23, 23, 26, 27, 30]"
      ]
     },
     "execution_count": 25,
     "metadata": {},
     "output_type": "execute_result"
    }
   ],
   "source": [
    "LA.sort()\n",
    "LA"
   ]
  },
  {
   "cell_type": "code",
   "execution_count": 26,
   "id": "5befc262",
   "metadata": {},
   "outputs": [
    {
     "name": "stdout",
     "output_type": "stream",
     "text": [
      "Help on method_descriptor:\n",
      "\n",
      "sort(self, /, *, key=None, reverse=False)\n",
      "    Sort the list in ascending order and return None.\n",
      "    \n",
      "    The sort is in-place (i.e. the list itself is modified) and stable (i.e. the\n",
      "    order of two equal elements is maintained).\n",
      "    \n",
      "    If a key function is given, apply it once to each list item and sort them,\n",
      "    ascending or descending, according to their function values.\n",
      "    \n",
      "    The reverse flag can be set to sort in descending order.\n",
      "\n"
     ]
    }
   ],
   "source": [
    "help(list.sort)"
   ]
  },
  {
   "cell_type": "code",
   "execution_count": 27,
   "id": "4f106c68",
   "metadata": {},
   "outputs": [
    {
     "data": {
      "text/plain": [
       "[30, 27, 26, 23, 23, 20, 20, 12, 11, 6]"
      ]
     },
     "execution_count": 27,
     "metadata": {},
     "output_type": "execute_result"
    }
   ],
   "source": [
    "LA.sort(reverse=True) ; LA"
   ]
  },
  {
   "cell_type": "markdown",
   "id": "6b03e1a3",
   "metadata": {},
   "source": [
    "[top](#top)"
   ]
  },
  {
   "cell_type": "markdown",
   "id": "c70e81a2",
   "metadata": {},
   "source": [
    "## List comprehension <a name=\"list_comprehension\"></a>\n",
    "\n",
    "A **list comprehension** is a list including a **a loop** at the definition step: `L = [ <expression> for <item> in <iterable> ]`.<br>\n",
    "you can also incorporate a filter: `[ <expression> for <item> in <iterable> if <condition(s)> ]`."
   ]
  },
  {
   "cell_type": "code",
   "execution_count": 28,
   "id": "d6d02c22",
   "metadata": {},
   "outputs": [
    {
     "data": {
      "text/plain": [
       "['data1.txt', 'data2.txt', 'data3.txt', 'data4.txt']"
      ]
     },
     "execution_count": 28,
     "metadata": {},
     "output_type": "execute_result"
    }
   ],
   "source": [
    "# Examples:\n",
    "L1 = [f\"data{i}.txt\" for i in range(1,5)]\n",
    "L1"
   ]
  },
  {
   "cell_type": "code",
   "execution_count": 29,
   "id": "3090a48f",
   "metadata": {},
   "outputs": [
    {
     "data": {
      "text/plain": [
       "[-5, -4, -2, -1, 1, 2, 4, 5, 7, 8]"
      ]
     },
     "execution_count": 29,
     "metadata": {},
     "output_type": "execute_result"
    }
   ],
   "source": [
    "# Examples:\n",
    "L2 = [x-6 for x in range(16) if x % 3 != 0]\n",
    "L2"
   ]
  },
  {
   "cell_type": "markdown",
   "id": "6a3e89cb",
   "metadata": {},
   "source": [
    "[top](#top)"
   ]
  },
  {
   "cell_type": "markdown",
   "id": "3973b031",
   "metadata": {},
   "source": [
    "<div class=\"alert alert-block alert-info\">\n",
    "<span style=\"color: #0000BB;font-weight: bold; font-size:large;\">Exercise 4.2 $-$ List comprehension</span>\n",
    "<span style=\"color: #0000BB\">\n",
    "\n",
    "- Redefine in comprehension the `LA` list of the previous exercise.\n",
    "- Define and display the list comprehension `LS` of the squares of the elements of `LA`.\n",
    "- Define and display the list comprehension `LE` of the even elements of `LA`.\n",
    "- Define and display the list comprehension `LO` of squares of the odd elements of `LA`."
   ]
  },
  {
   "cell_type": "code",
   "execution_count": 30,
   "id": "b1238c82",
   "metadata": {},
   "outputs": [
    {
     "data": {
      "text/plain": [
       "[29, 6, 19, 10, 26, 26, 27, 19, 23, 4]"
      ]
     },
     "execution_count": 30,
     "metadata": {},
     "output_type": "execute_result"
    }
   ],
   "source": [
    "LA = [randint(0,30) for i in range(10)]; LA"
   ]
  },
  {
   "cell_type": "code",
   "execution_count": 31,
   "id": "f8ba1be5",
   "metadata": {},
   "outputs": [
    {
     "data": {
      "text/plain": [
       "[841, 36, 361, 100, 676, 676, 729, 361, 529, 16]"
      ]
     },
     "execution_count": 31,
     "metadata": {},
     "output_type": "execute_result"
    }
   ],
   "source": [
    "LS = [e*e for e in LA]; LS"
   ]
  },
  {
   "cell_type": "code",
   "execution_count": 32,
   "id": "7b759861",
   "metadata": {},
   "outputs": [
    {
     "data": {
      "text/plain": [
       "[6, 10, 26, 26, 4]"
      ]
     },
     "execution_count": 32,
     "metadata": {},
     "output_type": "execute_result"
    }
   ],
   "source": [
    "LE = [e for e in LA if e % 2 == 0]; LE"
   ]
  },
  {
   "cell_type": "code",
   "execution_count": 33,
   "id": "fa3dea9b",
   "metadata": {},
   "outputs": [
    {
     "data": {
      "text/plain": [
       "[841, 361, 729, 361, 529]"
      ]
     },
     "execution_count": 33,
     "metadata": {},
     "output_type": "execute_result"
    }
   ],
   "source": [
    "LO = [e*e for e in LA if e % 2 == 1]; LO"
   ]
  },
  {
   "cell_type": "markdown",
   "id": "e51f556d",
   "metadata": {},
   "source": [
    "[top](#top)"
   ]
  },
  {
   "cell_type": "markdown",
   "id": "a9f65717",
   "metadata": {},
   "source": [
    "### Slicing <a name=\"slicing\"></a>\n",
    "The **slicing** allows you to extract part of a list: **it is a technique to master absolutely**.\n",
    "\n",
    "This technique also applies to character strings and multidimensional arrays\n",
    "(like numpy.ndarray).<br />\n",
    "\n",
    "The syntax with the list `L` is: `L[<start inclusive>:<end exclusive>:<step>]`<br />\n",
    "or, if the step is 1: `L[<start inclusive>:<end exclusive>]`<br />\n",
    "\n",
    "Using negative indices allows the list to be traversed in the opposite direction.\n",
    "\n",
    "<img src=\"img/slicing.png\" style=\"height:300px;width:400px\" align=\"middle\"/>"
   ]
  },
  {
   "cell_type": "markdown",
   "id": "48f35862",
   "metadata": {},
   "source": [
    "<div class=\"alert alert-block alert-info\">\n",
    "<span style=\"color: #0000BB;font-weight: bold; font-size:large;\">Exercise 4.3 $-$ List slicing</span>\n",
    "<span style=\"color: #0000BB\">\n",
    "\n",
    "- Set and display `LC`, the list of integers from -10 to 10.\n",
    "- Extract and display the first 3 elements of `LC`.\n",
    "- Extract and display the last 4 elements of `LC`.\n",
    "- Display the list obtained by traversing `LC` backwards. Visually check that `LC` is not modified.\n",
    "- Display the elements of `LC` going from the penultimate to the fourth inclusive by step of −1."
   ]
  },
  {
   "cell_type": "code",
   "execution_count": 34,
   "id": "d020264d",
   "metadata": {},
   "outputs": [
    {
     "data": {
      "text/plain": [
       "[-10, -9, -8, -7, -6, -5, -4, -3, -2, -1, 0, 1, 2, 3, 4, 5, 6, 7, 8, 9, 10]"
      ]
     },
     "execution_count": 34,
     "metadata": {},
     "output_type": "execute_result"
    }
   ],
   "source": [
    "LC = list(range(-10,11)); LC"
   ]
  },
  {
   "cell_type": "code",
   "execution_count": 35,
   "id": "620329e8",
   "metadata": {},
   "outputs": [
    {
     "data": {
      "text/plain": [
       "[-10, -9, -8]"
      ]
     },
     "execution_count": 35,
     "metadata": {},
     "output_type": "execute_result"
    }
   ],
   "source": [
    "LC[:3]"
   ]
  },
  {
   "cell_type": "code",
   "execution_count": 36,
   "id": "3c87a7e9",
   "metadata": {},
   "outputs": [
    {
     "data": {
      "text/plain": [
       "[7, 8, 9, 10]"
      ]
     },
     "execution_count": 36,
     "metadata": {},
     "output_type": "execute_result"
    }
   ],
   "source": [
    "LC[-4:]"
   ]
  },
  {
   "cell_type": "code",
   "execution_count": 37,
   "id": "b92cf10f",
   "metadata": {},
   "outputs": [
    {
     "name": "stdout",
     "output_type": "stream",
     "text": [
      "[10, 9, 8, 7, 6, 5, 4, 3, 2, 1, 0, -1, -2, -3, -4, -5, -6, -7, -8, -9, -10]\n",
      "[-10, -9, -8, -7, -6, -5, -4, -3, -2, -1, 0, 1, 2, 3, 4, 5, 6, 7, 8, 9, 10]\n"
     ]
    }
   ],
   "source": [
    "print(LC[::-1])\n",
    "print(LC)"
   ]
  },
  {
   "cell_type": "code",
   "execution_count": 38,
   "id": "5bbb8cbe",
   "metadata": {},
   "outputs": [
    {
     "data": {
      "text/plain": [
       "[9, 8, 7, 6, 5, 4, 3, 2, 1, 0, -1, -2, -3, -4, -5, -6, -7]"
      ]
     },
     "execution_count": 38,
     "metadata": {},
     "output_type": "execute_result"
    }
   ],
   "source": [
    "LC[-2:2:-1]"
   ]
  },
  {
   "cell_type": "markdown",
   "id": "72c6f963",
   "metadata": {},
   "source": [
    "[top](#top)"
   ]
  },
  {
   "cell_type": "markdown",
   "id": "fbd41f51",
   "metadata": {},
   "source": [
    "## __5 - The `str` type__ <a name=\"5\"></a>"
   ]
  },
  {
   "cell_type": "markdown",
   "id": "8a208549",
   "metadata": {},
   "source": [
    "The expression `dir(item)` returns the names of the attributes and methods of `item`.<br>\n",
    "Seeing the result of `dir(str)` in the cell below can you predict the result of list comprehension in the next cell ?"
   ]
  },
  {
   "cell_type": "code",
   "execution_count": 39,
   "id": "5fb9faec",
   "metadata": {},
   "outputs": [
    {
     "name": "stdout",
     "output_type": "stream",
     "text": [
      "['__add__', '__class__', '__contains__', '__delattr__', '__dir__', '__doc__', '__eq__', '__format__', '__ge__', '__getattribute__', '__getitem__', '__getnewargs__', '__gt__', '__hash__', '__init__', '__init_subclass__', '__iter__', '__le__', '__len__', '__lt__', '__mod__', '__mul__', '__ne__', '__new__', '__reduce__', '__reduce_ex__', '__repr__', '__rmod__', '__rmul__', '__setattr__', '__sizeof__', '__str__', '__subclasshook__', 'capitalize', 'casefold', 'center', 'count', 'encode', 'endswith', 'expandtabs', 'find', 'format', 'format_map', 'index', 'isalnum', 'isalpha', 'isascii', 'isdecimal', 'isdigit', 'isidentifier', 'islower', 'isnumeric', 'isprintable', 'isspace', 'istitle', 'isupper', 'join', 'ljust', 'lower', 'lstrip', 'maketrans', 'partition', 'removeprefix', 'removesuffix', 'replace', 'rfind', 'rindex', 'rjust', 'rpartition', 'rsplit', 'rstrip', 'split', 'splitlines', 'startswith', 'strip', 'swapcase', 'title', 'translate', 'upper', 'zfill']\n"
     ]
    }
   ],
   "source": [
    "print(dir(str))"
   ]
  },
  {
   "cell_type": "code",
   "execution_count": 40,
   "id": "b4c07adf",
   "metadata": {},
   "outputs": [
    {
     "name": "stdout",
     "output_type": "stream",
     "text": [
      "['capitalize', 'casefold', 'center', 'count', 'encode', 'endswith', 'expandtabs', 'find', 'format', 'format_map', 'index', 'isalnum', 'isalpha', 'isascii', 'isdecimal', 'isdigit', 'isidentifier', 'islower', 'isnumeric', 'isprintable', 'isspace', 'istitle', 'isupper', 'join', 'ljust', 'lower', 'lstrip', 'maketrans', 'partition', 'removeprefix', 'removesuffix', 'replace', 'rfind', 'rindex', 'rjust', 'rpartition', 'rsplit', 'rstrip', 'split', 'splitlines', 'startswith', 'strip', 'swapcase', 'title', 'translate', 'upper', 'zfill']\n"
     ]
    }
   ],
   "source": [
    "print([item for item in dir(str) if not item.startswith(\"__\")])"
   ]
  },
  {
   "cell_type": "markdown",
   "id": "eaf90ca4",
   "metadata": {},
   "source": [
    "[top](#top)"
   ]
  },
  {
   "cell_type": "markdown",
   "id": "042b98d2",
   "metadata": {},
   "source": [
    "<div class=\"alert alert-block alert-info\">\n",
    "<span style=\"color: #0000BB;font-weight: bold; font-size:large;\">Exercise 5.1</span>\n",
    "<span style=\"color: #0000BB\">\n",
    "    \n",
    "- Display the help on the `replace` method of the `str` class.<br>\n",
    "- Define and display the string `S1` containing `\"Hello friends!\"`.<br>\n",
    "- Define and display the string `S2` equal to S1 capitalized.<br>\n",
    "- Define and display the string `S3` obtained by replacing in S1 `Hello` by `Goodbye`<br>\n",
    "- Verify that `S1` has not been modified...      \n",
    "\n",
    "    </span></div>"
   ]
  },
  {
   "cell_type": "code",
   "execution_count": 41,
   "id": "8efd71fa",
   "metadata": {},
   "outputs": [
    {
     "name": "stdout",
     "output_type": "stream",
     "text": [
      "Help on method_descriptor:\n",
      "\n",
      "replace(self, old, new, count=-1, /)\n",
      "    Return a copy with all occurrences of substring old replaced by new.\n",
      "    \n",
      "      count\n",
      "        Maximum number of occurrences to replace.\n",
      "        -1 (the default value) means replace all occurrences.\n",
      "    \n",
      "    If the optional argument count is given, only the first count occurrences are\n",
      "    replaced.\n",
      "\n"
     ]
    }
   ],
   "source": [
    "help(str.replace)"
   ]
  },
  {
   "cell_type": "code",
   "execution_count": 42,
   "id": "a2263720",
   "metadata": {},
   "outputs": [
    {
     "name": "stdout",
     "output_type": "stream",
     "text": [
      "Hello friends!\n",
      "HELLO FRIENDS!\n",
      "Goodbye friends!\n",
      "Hello friends!\n"
     ]
    }
   ],
   "source": [
    "S1 = \"Hello friends!\"\n",
    "print(S1)\n",
    "S2 = S1.upper()\n",
    "print(S2)\n",
    "S3 = S1.replace('Hello', 'Goodbye')\n",
    "print(S3)\n",
    "print(S1)"
   ]
  },
  {
   "cell_type": "markdown",
   "id": "ef619f61",
   "metadata": {},
   "source": [
    "<div class=\"alert alert-block alert-info\">\n",
    "<span style=\"color: #0000BB;font-weight: bold; font-size:large;\">Exercise 5.2</span>\n",
    "<span style=\"color: #0000BB\">\n",
    "        \n",
    "- Define `fileName` as the string `\"data1.txt\"`.\n",
    "- Using the `replace` method applied to `fileName`, define `imageName` by replacing `\".txt\"` by `\".png\"` in `fileName`\n",
    "- Display `fileName` and `imageName`.\n",
    "</span></div>"
   ]
  },
  {
   "cell_type": "code",
   "execution_count": 43,
   "id": "30d71038",
   "metadata": {},
   "outputs": [
    {
     "name": "stdout",
     "output_type": "stream",
     "text": [
      "data1.txt data1.png\n"
     ]
    }
   ],
   "source": [
    "fileName = \"data1.txt\"\n",
    "imageName = fileName.replace(\".txt\", \".png\")\n",
    "print(fileName, imageName)"
   ]
  },
  {
   "cell_type": "markdown",
   "id": "86b7ea52",
   "metadata": {},
   "source": [
    "<div class=\"alert alert-block alert-info\">\n",
    "<span style=\"color: #0000BB;font-weight: bold; font-size:large;\">Exercise 5.3 Palindrome</span>\n",
    "<span style=\"color: #0000BB\">\n",
    "  \n",
    "- Define `S` as the string `\"A man, a plan, a canal--Panama!\"`.\n",
    "- Define `s` as `S` converted to lower case.\n",
    "- Verify that `s` is a *palindrome*  : ignoring comas, spaces, dashes, exclamation marks... reading it from left to right and from right to left gives the same result."
   ]
  },
  {
   "cell_type": "code",
   "execution_count": 44,
   "id": "2b5c881e",
   "metadata": {},
   "outputs": [
    {
     "data": {
      "text/plain": [
       "True"
      ]
     },
     "execution_count": 44,
     "metadata": {},
     "output_type": "execute_result"
    }
   ],
   "source": [
    "S = 'A man, a plan, a canal--Panama!'\n",
    "s = S.lower()\n",
    "s = s.replace(\" \",\"\").replace(\"-\",\"\").replace(\"!\",\"\").replace(\",\",\"\")\n",
    "s == s[::-1]"
   ]
  },
  {
   "cell_type": "markdown",
   "id": "7756d1aa",
   "metadata": {},
   "source": [
    "[top](#top)"
   ]
  },
  {
   "cell_type": "markdown",
   "id": "62d1e7c7",
   "metadata": {},
   "source": [
    "### f-string: formatted string. <a name=\"f-string\"></a>\n",
    "\n",
    "The syntaxe `f\".....\"` constructs a formatted string.<br>\n",
    "Take a look at some formatting examples below:"
   ]
  },
  {
   "cell_type": "code",
   "execution_count": 45,
   "id": "f0fb834c",
   "metadata": {},
   "outputs": [
    {
     "name": "stdout",
     "output_type": "stream",
     "text": [
      "Amount due: 123.4567 €\n"
     ]
    }
   ],
   "source": [
    "amount = 123.4567\n",
    "message = f\"Amount due: {amount} €\" # Python looks for the occurrence of {expression} and \n",
    "                                    # replaces expression by its value\n",
    "print(message)"
   ]
  },
  {
   "cell_type": "markdown",
   "id": "cd28345d",
   "metadata": {},
   "source": [
    "<br>By specifying the format with `{expression:format}` we can control the format.<br>\n",
    "`{expression:.2f}` $\\leadsto$ `expression` is replaced by its value as a float with 2 decimal places:\n"
   ]
  },
  {
   "cell_type": "code",
   "execution_count": 46,
   "id": "f2f09353",
   "metadata": {},
   "outputs": [
    {
     "name": "stdout",
     "output_type": "stream",
     "text": [
      "Amount due: 123.46 €\n"
     ]
    }
   ],
   "source": [
    "print(f\"Amount due: {amount:.2f} €\")"
   ]
  },
  {
   "cell_type": "markdown",
   "id": "912e400e",
   "metadata": {},
   "source": [
    "<br>`{expression:8.2f}` $\\leadsto$ `expression` is replaced by its value as an 8 character float\n",
    "with 2 decimal places:"
   ]
  },
  {
   "cell_type": "code",
   "execution_count": 47,
   "id": "ce92a18b",
   "metadata": {},
   "outputs": [
    {
     "name": "stdout",
     "output_type": "stream",
     "text": [
      "Amount due:   123.46 €\n"
     ]
    }
   ],
   "source": [
    "print(f\"Amount due: {amount:8.2f} €\")"
   ]
  },
  {
   "cell_type": "markdown",
   "id": "ff0adc64",
   "metadata": {},
   "source": [
    "<br>`{expression:08.2f}` $\\leadsto$ `expression` is replaced by its value as an 8 characters float\n",
    "with 2 decimal places and left padding with 0s."
   ]
  },
  {
   "cell_type": "code",
   "execution_count": 48,
   "id": "ce80827f",
   "metadata": {},
   "outputs": [
    {
     "name": "stdout",
     "output_type": "stream",
     "text": [
      "Amount due: {amount:08.2f} €\n"
     ]
    }
   ],
   "source": [
    "print(\"Amount due: {amount:08.2f} €\")"
   ]
  },
  {
   "cell_type": "markdown",
   "id": "577d6674",
   "metadata": {},
   "source": [
    "[top](#top)"
   ]
  }
 ],
 "metadata": {
  "kernelspec": {
   "display_name": "Python 3 (ipykernel)",
   "language": "python",
   "name": "python3"
  },
  "language_info": {
   "codemirror_mode": {
    "name": "ipython",
    "version": 3
   },
   "file_extension": ".py",
   "mimetype": "text/x-python",
   "name": "python",
   "nbconvert_exporter": "python",
   "pygments_lexer": "ipython3",
   "version": "3.8.18"
  }
 },
 "nbformat": 4,
 "nbformat_minor": 5
}
