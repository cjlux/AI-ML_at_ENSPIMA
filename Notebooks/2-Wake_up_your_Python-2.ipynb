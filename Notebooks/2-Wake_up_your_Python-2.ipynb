{
 "cells": [
  {
   "cell_type": "markdown",
   "id": "9bdb37ac",
   "metadata": {},
   "source": [
    "<span style=\"font-size:10pt\">AI @ ENSPIMA_2023-2024 / v1.1 september 2023 / Jean-Luc CHARLES (Jean-Luc.charles@mailo.com) / CC BY-SA 4.0 /</span>"
   ]
  },
  {
   "cell_type": "markdown",
   "id": "235c6540",
   "metadata": {
    "tags": []
   },
   "source": [
    "# <img align=\"middle\" src=\"./img/alarmClock.png\" width=\"60\" height=\"60\">  __Wake up your Python__ ! part 2<a name=\"top\"></a>\n",
    "\n",
    "## [ 1 $-$ Conversion <span style=\"color:green\">list</span> <-> <span style=\"color:green\">numpy.ndarray</span>](#1)\n",
    "## [ 2 $-$ Reading ASCII files $-$ Encoding](#2)\n",
    "## [ 3 $-$ Tree manipulation: the `os` module](#3)\n",
    "## [ 4 $-$ Reading image files](#4)\n",
    "## [ 5 $-$ Drawing curves with `matplolib`](#5)\n",
    "## [ 6 $-$ Programming techniques](#6)\n"
   ]
  },
  {
   "cell_type": "markdown",
   "id": "87d5b4bd",
   "metadata": {},
   "source": [
    "<div class=\"alert alert-block alert-info\"> <span style=\"color:#000080\">\n",
    "For each example in this notebook, take care to read the explanations given and to execute the Python cells with $\\left(\\mathtt{Shift+Enter}\\right)$, before proceeding to the exercises.\n",
    "</span>\n",
    "</div>"
   ]
  },
  {
   "cell_type": "markdown",
   "id": "db016248",
   "metadata": {},
   "source": [
    "## __1 $-$ Conversion <span style=\"color:green\">list</span> <-> <span style=\"color:green\">numpy.ndarray</span>__ <a name=\"1\"></a>\n",
    "\n",
    "Objects of type <span style=\"color:green\">list</span> are very suitable for collecting data, \n",
    "but they cannot be used for doing **advanced calculations**.<br>\n",
    "=> You **must** know how to convert <span style=\"color:green\">list</span> objects into arrays\n",
    "<span style=\"color:green\">numpy.ndarray</span> and vice versa:<br>\n",
    "\n",
    "`M = numpy.array(L)` converts the  <span style=\"color:green\">list</span> `L`  to the <span style=\"color:green\">ndarray</span> (n-dimensional array) `M` \n",
    "(see the [array](https://docs.scipy.org/doc/numpy/reference/generated/numpy.array.html) function of **numpy**)<br>\n",
    "\n",
    "`L = M.tolist()` converts the <span style=\"color:green\">ndarray</span> `M` to the <span style=\"color:green\">list</span> `L` \n",
    "(see method [numpy.ndarray.tolist](https://docs.scipy.org/doc/numpy/reference/generated/numpy.ndarray.tolist.html))."
   ]
  },
  {
   "cell_type": "markdown",
   "id": "fdb0a8f4",
   "metadata": {},
   "source": [
    "<div class=\"alert alert-block alert-info\">\n",
    "<span style=\"color: #0000BB;font-weight: bold; font-size:large;\">Exercise 1.1 $–$ Conversions list ↔ vector</span>\n",
    "<div><span style=\"color: #0000BB\">\n",
    "    \n",
    "- Define the list comprehension `L1` of the squares of the integers from 1 to 9.<b>\n",
    "\n",
    "- Define and display `v1`, the conversion of `L1` to a <span style=\"color:green\">numpy.ndarray</span>.<br>\n",
    "\n",
    "- Display the type of `v1` and its attributes\n",
    "<span style=\"color:green\">dtype</span>,\n",
    "<span style=\"color:green\">shape</span>,\n",
    "<span style=\"color:green\">ndim</span>,\n",
    "<span style=\"color:green\">size</span>,\n",
    "<span style=\"color:green\">itemsize</span> and\n",
    "<span style=\"color:green\">nbytes</span>.\n",
    "    \n",
    "- Define and display `v2`, the conversion of `L1` to a\n",
    "<span style=\"color:green\">ndarray</span> of integers, obtained by passing the additional argument\n",
    "<span style=\"color:brown\">dtype=</span><span style=\"color:green\">\"uint8\"</span>\n",
    "to the `array` function.<br>\n",
    "Display `V2.itemsize`.<br>\n",
    "\n",
    "- Define **without an explicit loop** the vector `v3`, such that for all $i$:\n",
    "$v3[i]\\,=\\,\\sqrt{v2[i]}\\,\\cos(v2[i]\\,\\pi/20)$.<br>\n",
    "$\\leadsto$ tips: `np.sqrt(...)`, `np.cos(...)` and `np.pi` can work on <span style=\"color:green\">ndarray</span> objects.<br>\n",
    "Show `v3` and its attributes\n",
    "<span style=\"color:green\">shape</span>,\n",
    "<span style=\"color:green\">ndim</span> and\n",
    "<span style=\"color:green\">size</span>.\n",
    "\n",
    "- Modify `v3` with the instruction `v3.shape = (3,3)`: display again `v3` and its attributes\n",
    "<span style=\"color:green\">shape</span>,\n",
    "<span style=\"color:green\">ndim</span> and\n",
    "<span style=\"color:green\">size</span>; observe what has changed.\n",
    "\n",
    "- Convert `v3` to the `L3` list using the`tolist` method of the class <span style=\"color:green\">ndarray</span>. Display `L3`.\n",
    "</span></div>"
   ]
  },
  {
   "cell_type": "code",
   "execution_count": null,
   "id": "4e5a8742",
   "metadata": {},
   "outputs": [],
   "source": []
  },
  {
   "cell_type": "code",
   "execution_count": null,
   "id": "b8512a86",
   "metadata": {},
   "outputs": [],
   "source": []
  },
  {
   "cell_type": "code",
   "execution_count": null,
   "id": "4f01e095",
   "metadata": {},
   "outputs": [],
   "source": []
  },
  {
   "cell_type": "markdown",
   "id": "0cb43f2e",
   "metadata": {},
   "source": [
    "[top](#top)"
   ]
  },
  {
   "cell_type": "markdown",
   "id": "703200dc",
   "metadata": {},
   "source": [
    "<div class=\"alert alert-block alert-info\">\n",
    "<span style=\"color: #0000BB;font-weight: bold; font-size:large;\">Exercise 1.2 $–$ Conversion list <-> matrix</span>\n",
    "<span style=\"color: #0000BB\">\n",
    "  \n",
    "- Observe the result of the two cells below:\n",
    "</span></div>"
   ]
  },
  {
   "cell_type": "code",
   "execution_count": null,
   "id": "811a0525",
   "metadata": {},
   "outputs": [],
   "source": [
    "[10*i+j for i in range(1,4) for j in range(1,4)]"
   ]
  },
  {
   "cell_type": "code",
   "execution_count": null,
   "id": "6ca17f58",
   "metadata": {},
   "outputs": [],
   "source": [
    "[[10*i+j for j in range(1,4)] for i in range(1,4)]"
   ]
  },
  {
   "cell_type": "markdown",
   "id": "4289f769",
   "metadata": {},
   "source": [
    "<div class=\"alert alert-block alert-info\">\n",
    "<span style=\"color: #0000BB\">\n",
    "    \n",
    "- Deduce two different ways to define the matrix `M` of general term $M_{i,\\,j}=j^{\\,i}$ with $(i,j) \\in [1;5]\\times [1;5]$ using list comprehensions defined then converted to <span style=\"color:green\">ndarray</span> .\n",
    "</span></div>"
   ]
  },
  {
   "cell_type": "code",
   "execution_count": null,
   "id": "7b9efdf5",
   "metadata": {},
   "outputs": [],
   "source": []
  },
  {
   "cell_type": "code",
   "execution_count": null,
   "id": "c00319d1",
   "metadata": {},
   "outputs": [],
   "source": []
  },
  {
   "cell_type": "code",
   "execution_count": null,
   "id": "bf6a5f83",
   "metadata": {},
   "outputs": [],
   "source": []
  },
  {
   "cell_type": "markdown",
   "id": "fac6a6ed",
   "metadata": {},
   "source": [
    "[top](#top)"
   ]
  },
  {
   "cell_type": "markdown",
   "id": "11e8e106",
   "metadata": {},
   "source": [
    "## __2 $-$ Reading ASCII files $-$ Encoding__ <a name=\"2\"></a>\n",
    "\n",
    "ASCII files are read with the <span style=\"color:green\">open</span> primitive which returns an iterable object of type </span><span style=\"color:green\">TextIOWrapper</span>: <br />\n",
    "    **<span style=\"font-family:courier\">\n",
    "<span style=\"color:#B08000\">with</span> <span style=\"color:#800080\">open</span>( <span style=\"color:#808080\">< file path ></span>, <span style=\"color:#008000\">\"r\"</span>, encoding=<span style=\"color:#808080\">< encoding_specification ></span>)<span style =\"color:#B08000\"> as</span> F:<br>\n",
    "    $\\phantom{---}$...</p> </span>**\n",
    "    \n",
    "Reading accented characters requires specifying their **encoding** for correct interpretation. The most common encodings are **utf8** (Mac OS X, GNU/Linux default encoding) and **cp1252** or **iso8859-15** (Windows default encoding).<br />\n",
    "\n",
    "Using a **<span style=\"font-family:courier;color:#B08000\">with</span>** block automatically closes the file as soon as you exit the block."
   ]
  },
  {
   "cell_type": "markdown",
   "id": "a319616c",
   "metadata": {},
   "source": [
    "<div class=\"alert alert-block alert-info\">\n",
    "<span style=\"color: #0000BB;font-weight: bold; font-size:large;\">Exercise 2.1 –Reading of an ASCII file, decoding accented characters</span>\n",
    "<span style=\"color: #0000BB\">\n",
    "  \n",
    "- Read the `./data/accents.txt` file in a string with the primitive <span style=\"color:green\">read</span>, specifying **cp1252** as encoding, then display the resulting string.\n",
    "- Same work, this time specifying **utf8** as the encoding.\n",
    "</span></div>"
   ]
  },
  {
   "cell_type": "code",
   "execution_count": null,
   "id": "b96efa34",
   "metadata": {},
   "outputs": [],
   "source": []
  },
  {
   "cell_type": "code",
   "execution_count": null,
   "id": "a8e406b1",
   "metadata": {},
   "outputs": [],
   "source": []
  },
  {
   "cell_type": "markdown",
   "id": "28454c5e",
   "metadata": {},
   "source": [
    "[top](#top)"
   ]
  },
  {
   "cell_type": "markdown",
   "id": "bea1c870",
   "metadata": {},
   "source": [
    "<div class=\"alert alert-block alert-info\">\n",
    "<span style=\"color: #0000BB;font-weight: bold; font-size:large;\">Exercise 2.2 $–$ Get the list of the lines of an ASCII file</span>\n",
    "<span style=\"color: #0000BB\">\n",
    "  \n",
    "- Define `L`, the list of the lines of the file `data/data.txt` by using the primitive <span style=\"color:green\">readlines</span>. Display `L`.\n",
    "\n",
    "- Now re-define `L` in order to eliminate lines that are comments (starting with `#`). Display `L`.\n",
    "</span></div>"
   ]
  },
  {
   "cell_type": "code",
   "execution_count": null,
   "id": "8a1c86e3",
   "metadata": {},
   "outputs": [],
   "source": []
  },
  {
   "cell_type": "code",
   "execution_count": null,
   "id": "f069208d",
   "metadata": {},
   "outputs": [],
   "source": []
  },
  {
   "cell_type": "markdown",
   "id": "c30b81f2",
   "metadata": {},
   "source": [
    "[top](#top)"
   ]
  },
  {
   "cell_type": "markdown",
   "id": "137eb40d",
   "metadata": {},
   "source": [
    "## __3 $-$ Tree manipulation: the `os` module__ <a name=\"3\"></a>\n",
    "\n",
    "The `os` and `os.path` modules contain many functions dedicated to manipulating files and\n",
    "directories (also called folders). <br>\n",
    "In the table below `<path>` is a string\n",
    "giving the (relative or absolute) path of a file or directory:<br />\n",
    "\n",
    "<img src=\"img/module-os.png\" style=\"height:230px;width:700px\" /><br>\n",
    "\n",
    "\n",
    "**Helpful Notes**:\n",
    "- the <span style=\"color:green\">\"/\"</span> character can be used as a directory name separator for any operating system,\n",
    "- the current directory can be designated by the shortcut <span style=\"color:green\">\".\"</span>, the parent directory by the shortcut <span style=\"color:green\">\"..\"</span>."
   ]
  },
  {
   "cell_type": "markdown",
   "id": "14107856",
   "metadata": {},
   "source": [
    "[top](#top)"
   ]
  },
  {
   "cell_type": "markdown",
   "id": "70f537a3",
   "metadata": {},
   "source": [
    "See the examples below showing some usage of the `os` module:"
   ]
  },
  {
   "cell_type": "code",
   "execution_count": null,
   "id": "96bfb901",
   "metadata": {},
   "outputs": [],
   "source": [
    "import os"
   ]
  },
  {
   "cell_type": "markdown",
   "id": "ad3e733c",
   "metadata": {},
   "source": [
    "<br>The **current working directory** (cwd):"
   ]
  },
  {
   "cell_type": "code",
   "execution_count": null,
   "id": "2f56759e",
   "metadata": {},
   "outputs": [],
   "source": [
    "os.getcwd()"
   ]
  },
  {
   "cell_type": "markdown",
   "id": "014f898f",
   "metadata": {},
   "source": [
    "<br>The content of the current working directory:"
   ]
  },
  {
   "cell_type": "code",
   "execution_count": null,
   "id": "290da64d",
   "metadata": {},
   "outputs": [],
   "source": [
    "os.listdir('.')"
   ]
  },
  {
   "cell_type": "code",
   "execution_count": null,
   "id": "8e716bb3",
   "metadata": {},
   "outputs": [],
   "source": [
    "os.listdir()     # the default is the cwd..."
   ]
  },
  {
   "cell_type": "markdown",
   "id": "7baad8a9",
   "metadata": {},
   "source": [
    "<br>The content of the parent directory:"
   ]
  },
  {
   "cell_type": "code",
   "execution_count": null,
   "id": "ef6e7a6a",
   "metadata": {},
   "outputs": [],
   "source": [
    "os.listdir('..')"
   ]
  },
  {
   "cell_type": "markdown",
   "id": "256afc6e",
   "metadata": {},
   "source": [
    "<br>The content of the directory `./data`:"
   ]
  },
  {
   "cell_type": "code",
   "execution_count": null,
   "id": "bea4c6f9",
   "metadata": {},
   "outputs": [],
   "source": [
    "os.listdir('data')"
   ]
  },
  {
   "cell_type": "markdown",
   "id": "a88eaa67",
   "metadata": {},
   "source": [
    "<br> Using `os.path.is<something>`:"
   ]
  },
  {
   "cell_type": "code",
   "execution_count": null,
   "id": "38a7a694",
   "metadata": {},
   "outputs": [],
   "source": [
    "os.path.isfile('data/data.txt')"
   ]
  },
  {
   "cell_type": "code",
   "execution_count": null,
   "id": "80928042",
   "metadata": {},
   "outputs": [],
   "source": [
    "os.path.isdir('data/data.txt')"
   ]
  },
  {
   "cell_type": "code",
   "execution_count": null,
   "id": "c016e518",
   "metadata": {},
   "outputs": [],
   "source": [
    "os.path.isdir('data/directory1')"
   ]
  },
  {
   "cell_type": "code",
   "execution_count": null,
   "id": "ae879127",
   "metadata": {},
   "outputs": [],
   "source": [
    "os.path.exists('data/data.txt')"
   ]
  },
  {
   "cell_type": "code",
   "execution_count": null,
   "id": "61396ec2",
   "metadata": {},
   "outputs": [],
   "source": [
    "os.path.exists('data/directory1/')"
   ]
  },
  {
   "cell_type": "markdown",
   "id": "01a69343",
   "metadata": {},
   "source": [
    "<div class=\"alert alert-block alert-info\">\n",
    "<span style=\"color: #0000BB;font-weight: bold; font-size:large;\">Exercise 3.1 $–$ Sorting files/directories</span>\n",
    "<span style=\"color: #0000BB\">\n",
    "    \n",
    "- Display the absolute name of the current directory with `os.getcwd()`.\n",
    "- Define and display `F`, the list comprehension of **files** and `D`, the list comprehension of directories contained in the directory <tt><b><span style=\"color:blue\">sources</span></b></tt>.\n",
    "</span></div>"
   ]
  },
  {
   "cell_type": "code",
   "execution_count": null,
   "id": "f2a56169",
   "metadata": {},
   "outputs": [],
   "source": []
  },
  {
   "cell_type": "code",
   "execution_count": null,
   "id": "6b47ec21",
   "metadata": {},
   "outputs": [],
   "source": []
  },
  {
   "cell_type": "code",
   "execution_count": null,
   "id": "aadefe78",
   "metadata": {},
   "outputs": [],
   "source": []
  },
  {
   "cell_type": "markdown",
   "id": "3b7cdfef",
   "metadata": {},
   "source": [
    "<div class=\"alert alert-block alert-info\">\n",
    "<span style=\"color: #0000BB;font-weight: bold; font-size:large;\">Exercise 3.2 $–$ Full contents of a directory with `os.walk`</span>\n",
    "<span style=\"color: #0000BB\">\n",
    "    \n",
    "- Observe the elements contained in the list `list(os.walk('data'))`.\n",
    "    \n",
    "- Deduce a way to get the list of paths of all the files contained in the directory  `data`.\n",
    "<tt><b><span style=\"color:blue\">sources</span></b></tt> (and all of its subdirectories).\n",
    "</span></div>"
   ]
  },
  {
   "cell_type": "code",
   "execution_count": null,
   "id": "cc41676b",
   "metadata": {},
   "outputs": [],
   "source": [
    "for dirs, sdirs, files in os.walk(\"data\") :\n",
    "    print(\"===================\\nDirectory:\",dirs)\n",
    "    print(\"\\tsub-directory:\",sdirs)\n",
    "    print(\"\\tfiles        :\",files)"
   ]
  },
  {
   "cell_type": "code",
   "execution_count": null,
   "id": "ea7f6a7a",
   "metadata": {},
   "outputs": [],
   "source": []
  },
  {
   "cell_type": "markdown",
   "id": "c23bd68a",
   "metadata": {},
   "source": [
    "[top](#top)"
   ]
  },
  {
   "cell_type": "markdown",
   "id": "d296e670",
   "metadata": {},
   "source": [
    "## __4 $-$ Reading image files__ <a name=\"4\"></a>\n",
    "\n",
    "There are several modules that allow you to directly read a **file\n",
    "image in PNG** format and retrieve an array `T (nL × nC × 4)` of type\n",
    "`numpy.ndarray`.<br>\n",
    "\n",
    "The `T[i,j]` element of the `T` array is a pixel described by 4 levels Red, Green,\n",
    "Blue, Alpha (opacity).<br>\n",
    "\n",
    "The **imread** function of the **imageio** module returns an array of integers between\n",
    "0 and 255 (one-byte encoding), which corresponds to the “true” image encoding,\n",
    "while the **imread** function of the **matplotlib.pyplot** module converts\n",
    "additional division in floats between 0 and 1.<br>\n",
    "\n",
    "For image display, you can use **matplotlib.pyplot.imshow**."
   ]
  },
  {
   "cell_type": "markdown",
   "id": "b197eb72",
   "metadata": {},
   "source": [
    "<div class=\"alert alert-block alert-info\">\n",
    "<span style=\"color: #0000BB;font-weight: bold; font-size:large;\">Exercise 4.1 $–$ Reading and simple image manipulation</span>\n",
    "<span style=\"color: #0000BB\">\n",
    "    \n",
    "- Using the **imread** functions from **imageio** and from **matplotlib.pyplot**, create the arrays `AI` of integers and `AF` of floats by\n",
    "reading the same image <tt><b><span style=\"color:blue\">pinglinux.png</span></b></tt> located in the directory\n",
    "<tt><b><span style=\"color:blue\">sources</span></b></tt>.\n",
    "\n",
    "- Compare their forms and the type of their content. What does the `numpy.allclose(TI,255*TF)` instruction return, why?"
   ]
  },
  {
   "cell_type": "code",
   "execution_count": null,
   "id": "aa50c108",
   "metadata": {},
   "outputs": [],
   "source": []
  },
  {
   "cell_type": "code",
   "execution_count": null,
   "id": "56c3a754",
   "metadata": {},
   "outputs": [],
   "source": []
  },
  {
   "cell_type": "markdown",
   "id": "c795efc6",
   "metadata": {},
   "source": [
    "- Compraison betwenn `AI` and `AF`:"
   ]
  },
  {
   "cell_type": "code",
   "execution_count": null,
   "id": "c2143e54",
   "metadata": {},
   "outputs": [],
   "source": [
    "np.allclose(AI, AF*255)"
   ]
  },
  {
   "cell_type": "markdown",
   "id": "af43daea",
   "metadata": {},
   "source": [
    "- Visual checking:"
   ]
  },
  {
   "cell_type": "code",
   "execution_count": null,
   "id": "e1b2e746",
   "metadata": {},
   "outputs": [],
   "source": [
    "fig, axes = plt.subplots(1,2)  # two graphs\n",
    "ax1, ax2 = axes\n",
    "\n",
    "ax1.set_facecolor( (0.8,1,0.8) ) # green background\n",
    "ax1.set_title(\"Array of uint8\")\n",
    "ax1.imshow(AI)\n",
    "\n",
    "ax2.set_facecolor( (1,0.8,1) )   # magenta background\n",
    "ax2.set_title(\"Array of float\")\n",
    "ax2.imshow(AF);"
   ]
  },
  {
   "cell_type": "markdown",
   "id": "e796a838",
   "metadata": {},
   "source": [
    "- Observe and explain the images bellow corresponding to `TI[::-1,:,:]`, `TI[:,::-1,:]` and `TI[:,:,;::-1]` :"
   ]
  },
  {
   "cell_type": "code",
   "execution_count": null,
   "id": "6bc815ba",
   "metadata": {},
   "outputs": [],
   "source": [
    "plt.imshow(AI[::-1,:,:])"
   ]
  },
  {
   "cell_type": "code",
   "execution_count": null,
   "id": "b81e4e44",
   "metadata": {},
   "outputs": [],
   "source": [
    "plt.imshow(TI[:,::-1,:])"
   ]
  },
  {
   "cell_type": "code",
   "execution_count": null,
   "id": "3d5eebea",
   "metadata": {},
   "outputs": [],
   "source": [
    "plt.imshow(TI[:,:,::-1])"
   ]
  },
  {
   "cell_type": "markdown",
   "id": "7a28115a",
   "metadata": {},
   "source": [
    "[top](#top)"
   ]
  },
  {
   "cell_type": "markdown",
   "id": "8e353010",
   "metadata": {},
   "source": [
    "## __5 $-$ Drawing curves with `matplolib`__ <a name=\"5\"></a>\n",
    "\n",
    "The **matplotlib.pyplot** module allows you to plot 2D, 3D and other curves.... see the gallery on the site [matplotlib.org/gallery.html](https://matplotlib.org/ gallery.html).\n",
    "\n",
    "**Tutorials**:<br>\n",
    "- on the matplotlib site: https://matplotlib.org/stable/ <br />\n",
    "- at the LABRI laboratory: http://www.labri.fr/perso/nrougier/teaching/matplotlib/ <br>"
   ]
  },
  {
   "cell_type": "markdown",
   "id": "de69bf26",
   "metadata": {},
   "source": [
    "Typical example of a **matplotlib** plot:"
   ]
  },
  {
   "cell_type": "code",
   "execution_count": null,
   "id": "30658650",
   "metadata": {},
   "outputs": [],
   "source": [
    "Data to be plotted:\n",
    "# Left graph: representative curves\n",
    "X = np.linspace(0,10,500) # Vector of values for abscissas\n",
    "Y1 = 10*np.exp(-(X-8)**2)\n",
    "Y2 = np.cos(3*np.pi*X)*np.exp(-X/2)\n",
    "# Right graph: parametric curves\n",
    "A = np.linspace(0, np.pi, 300) # Vector of values for parameters\n",
    "Vx = (np.sin(5*A)-3*np.cos(A))*np.cos(A)\n",
    "Vy = (np.sin(5*A)-3*np.cos(A))*np.sin(A)"
   ]
  },
  {
   "cell_type": "code",
   "execution_count": null,
   "id": "fe2798af",
   "metadata": {
    "tags": []
   },
   "outputs": [],
   "source": [
    "dir(fig)"
   ]
  },
  {
   "cell_type": "code",
   "execution_count": null,
   "id": "d79e170e",
   "metadata": {},
   "outputs": [],
   "source": [
    "fig, (ax1, ax2) = plt.subplots(1,2)  # 1 row 2 colums\n",
    "fig.set_size_inches(12,5)\n",
    "\n",
    "# ax1 -> the left side drawing\n",
    "ax1.set_title(\"SubPlot 1 : 2 curves in frames (X,Y1) and (X,Y2)\")\n",
    "\n",
    "# 1 - Curve in the frame (X,Y1)\n",
    "ax1.set_ylabel(\"Y1 axis\", color=\"g\")\n",
    "p1 = ax1.plot(X, Y2, \"g-\", linewidth=2, label=r\"$\\cos(2\\pi x)e^{-x/2}$\")\n",
    "ax1.grid()\n",
    "\n",
    "# 2 - second frame (X,Y2):\n",
    "ax1t = ax1.twinx()\n",
    "p2 = ax1t.plot(X, Y1, \"b-\", linewidth=2, label=\"$10\\,e^{-(x - 8)^2}$\")\n",
    "ax1t.set_xlabel(\"x (common abcissa)\")\n",
    "ax1t.set_ylabel(\"Y2 axis\", color=\"b\")\n",
    "\n",
    "# 3- a legend box\n",
    "p12 = p1+p2\n",
    "labels = [L.get_label() for L in p12]\n",
    "ax1.legend(p12, labels, loc=\"upper center\", fontsize=14)\n",
    "\n",
    "# ax2 -> the right side drawing\n",
    "ax2.set_title(\"SubPlot 2 : parametric curve\")\n",
    "ax2.plot( Vx, Vy, \"m-\", linewidth=4)\n",
    "ax2.plot(-Vx, Vy, \"m-\", linewidth=4, label=\"Butterfly\")\n",
    "ax2.axis(\"equal\");\n",
    "ax2.legend()\n",
    "ax2.grid()\n",
    "\n",
    "plt.savefig(\"curves.png\") # Saving the figure in a .png file\n",
    "#plt.show() # Useless in a notebook but essential in a .py program"
   ]
  },
  {
   "cell_type": "markdown",
   "id": "4bf5b542",
   "metadata": {},
   "source": [
    "[top](#top)"
   ]
  },
  {
   "cell_type": "markdown",
   "id": "2a84cbb1",
   "metadata": {},
   "source": [
    "## __6 $-$ Programming techniques__ <a name=\"6\"></a>"
   ]
  },
  {
   "cell_type": "markdown",
   "id": "6ab4549f",
   "metadata": {},
   "source": [
    "### 6.1 $-$ Try/except block\n",
    "\n",
    "The idea is to write (in order):\n",
    "- a <span style=\"color:green;font-weight:bold\">try</span> block that contains Python instructions\n",
    "likely to fail and therefore *throw* **exceptions** (normally resulting in <span style=\"color:red\">error messages in red</span> on the screen...)\n",
    "\n",
    "```Python\n",
    "#...\n",
    "try:\n",
    "    # try block\n",
    "    # ...\n",
    "except:\n",
    "    # block to handle exceptions\n",
    "    #...\n",
    "```"
   ]
  },
  {
   "cell_type": "markdown",
   "id": "9cfb67b9",
   "metadata": {},
   "source": [
    "[top](#top)"
   ]
  },
  {
   "cell_type": "code",
   "execution_count": null,
   "id": "c2fde029",
   "metadata": {},
   "outputs": [],
   "source": []
  }
 ],
 "metadata": {
  "kernelspec": {
   "display_name": "Python 3 (ipykernel)",
   "language": "python",
   "name": "python3"
  },
  "language_info": {
   "codemirror_mode": {
    "name": "ipython",
    "version": 3
   },
   "file_extension": ".py",
   "mimetype": "text/x-python",
   "name": "python",
   "nbconvert_exporter": "python",
   "pygments_lexer": "ipython3",
   "version": "3.8.18"
  }
 },
 "nbformat": 4,
 "nbformat_minor": 5
}
