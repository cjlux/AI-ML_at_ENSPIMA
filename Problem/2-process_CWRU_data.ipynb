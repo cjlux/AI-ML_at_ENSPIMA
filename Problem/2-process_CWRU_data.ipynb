{
 "cells": [
  {
   "cell_type": "markdown",
   "metadata": {},
   "source": [
    "<span style=\"font-size:10pt\">AI @ ENSPIMA_2022-2023_v1.0_Jean-Luc CHARLES (Jean-Luc.charles@ensam.eu)_CC BY-SA 4.0</span>"
   ]
  },
  {
   "cell_type": "markdown",
   "metadata": {
    "tags": []
   },
   "source": [
    "# Problem-based learning\n",
    "# Training a neural network to diagnose bearing faults - part 2 / 3\n",
    "\n",
    "### Targeted learning objectives:\n",
    "Part 1:<br>\n",
    "- Know how to load files in *Matlab MAT-file* format with *Python*.\n",
    "- Know how to dimension and fill numpy ndarrays with the data of the `.mat` files\n",
    "- Know how to display a grid of data plots\n",
    "- Know how to store the numpy ndarrays in a `.npz` file\n",
    "\n",
    "Part 2:<br>\n",
    "- Know how to load a `.npz` into numpy ndarrays\n",
    "- Know how to process the temporal dataset to get a spectral dataset.\n",
    "- Know how to display a grid of spectra plots.\n",
    "\n",
    "Part 3:<br>\n",
    "- Know how to train/operate a DNN to diagnose bearing faults using a labeled temporal dataset.\n",
    "- The problem part of the APP: Know how to train/operate a DNN to diagnose bearing faults using a labeled temporal dataset."
   ]
  },
  {
   "cell_type": "markdown",
   "metadata": {
    "tags": []
   },
   "source": [
    "<br>\n",
    "<div class=\"alert alert-block alert-danger\">\n",
    "<span style=\"color:brown;font-family:arial;font-size:12pt\"> \n",
    "It is important to use a <span style=\"font-weight:bold;\">Python Virtual Environment</span> (PVE) for your main Python projects: <br>\n",
    "    a PVE makes it possible to control for each project the versions of the Python interpreter and the \"sensitive\" modules (like tensorflow).<br><br>\n",
    "    All the notebooks your work on must be loaded into a jupyter-notebook or a jupyter-lab launched in the PVE \n",
    "    <b><span style=\"color: rgb(100, 151, 202);\" >pyml-pm</span></b> specially created for the session.<br>\n",
    "</span></div>"
   ]
  },
  {
   "cell_type": "code",
   "execution_count": null,
   "metadata": {},
   "outputs": [],
   "source": [
    "import os, sys\n",
    "import scipy.io\n",
    "import numpy as np\n",
    "import matplotlib.pyplot as plt"
   ]
  },
  {
   "cell_type": "markdown",
   "metadata": {},
   "source": [
    "# 2 $-$ Load the *CWRU* data with the `.npz` numpy file"
   ]
  },
  {
   "cell_type": "markdown",
   "metadata": {},
   "source": [
    "Print the list of the `.npz` files in the current directory:"
   ]
  },
  {
   "cell_type": "code",
   "execution_count": null,
   "metadata": {},
   "outputs": [],
   "source": [
    "[ f for f in os.listdir() if f.endswith('.npz')]"
   ]
  },
  {
   "cell_type": "markdown",
   "metadata": {},
   "source": [
    "`numpy.load` loads the wanted `.npz` file  and returns a dict object"
   ]
  },
  {
   "cell_type": "code",
   "execution_count": null,
   "metadata": {},
   "outputs": [],
   "source": [
    "npzfile = np.load('CWRU_dadaset.npz')\n",
    "list(npzfile.keys())"
   ]
  },
  {
   "cell_type": "markdown",
   "metadata": {},
   "source": [
    "Thanks to the `dict.value` method, we can define `A`, `B` and `C` the ndarrays associated with the keys:"
   ]
  },
  {
   "cell_type": "code",
   "execution_count": null,
   "metadata": {},
   "outputs": [],
   "source": [
    "A, B, C = npzfile.values()"
   ]
  },
  {
   "cell_type": "markdown",
   "metadata": {},
   "source": [
    "Plot the data to verify (same Python instructions as in the part1 notebook) ..."
   ]
  },
  {
   "cell_type": "code",
   "execution_count": null,
   "metadata": {},
   "outputs": [],
   "source": [
    "# create the list of the health condition labels:\n",
    "health_cond = ['N']\n",
    "for def_type in 'RF', 'IF', 'OF':\n",
    "    for size in '18', '36', '54':\n",
    "        health_cond.append(f\"{def_type}.{size}\")\n",
    "nb_HC = len(health_cond)\n",
    "\n",
    "full_dataset = (A, B, C)\n",
    "nb_L = len(full_dataset)\n",
    "\n",
    "s = 0  # the sample number to plot\n",
    "\n",
    "plt.rcParams['font.size'] = 6   # change the pyplot defaut font size\n",
    "fig, axes = plt.subplots(nb_HC, nb_L, sharex=True)\n",
    "fig.set_size_inches((8,12))\n",
    "plt.subplots_adjust(top=.95, wspace=0.25, hspace=0.5)\n",
    "plt.suptitle(f\"Plots for the sample #{s}\", fontsize=10)\n",
    "for n, dataset in enumerate(full_dataset):\n",
    "    for h in range(nb_HC):\n",
    "        axe = axes[h,n]\n",
    "        axe.set_title(f\"Load_{n+1} / health cond {health_cond[h]}\", fontsize=8)\n",
    "        axe.plot(dataset[h, s], linewidth=0.4)\n",
    "        if h == nb_HC-1: axe.set_xlabel(\"Rank\")\n",
    "plt.rcParams['font.size'] = 10  # restore the pyplot defaut font size to its defautl value"
   ]
  },
  {
   "cell_type": "markdown",
   "metadata": {},
   "source": [
    "# 3 $-$ Compute and plot the data in the spectral domain"
   ]
  },
  {
   "cell_type": "markdown",
   "metadata": {},
   "source": [
    "## 3.1 $-$ Compute the spectral datasets"
   ]
  },
  {
   "cell_type": "markdown",
   "metadata": {},
   "source": [
    "Let's retrieve the temporal shape of the array A:"
   ]
  },
  {
   "cell_type": "code",
   "execution_count": null,
   "metadata": {},
   "outputs": [],
   "source": [
    "nb_HC, nb_sample, sample_size = A.shape\n",
    "print(f\"array A has <{nb_sample}> samples of <{sample_size}> data point for each of the <{nb_HC}> health conditions \")"
   ]
  },
  {
   "cell_type": "markdown",
   "metadata": {},
   "source": [
    "The spectra are computed with [numpy.fft.rfft](https://numpy.org/doc/stable/reference/generated/numpy.fft.rfft.html)<br>\n",
    "On the web page, you can see that how to compute the size of the spectrum:"
   ]
  },
  {
   "cell_type": "code",
   "execution_count": null,
   "metadata": {},
   "outputs": [],
   "source": [
    "if sample_size % 2 == 0:\n",
    "    spectrum_size = int(sample_size/2+1)\n",
    "else:\n",
    "    spectrum_size = int((sample_size+1)/2)\n",
    "print(f\"size of spectra: {spectrum_size}\")    "
   ]
  },
  {
   "cell_type": "markdown",
   "metadata": {},
   "source": [
    "Now let's define and dimension 3 ndarrays to store the spectra of the 3 temporal data arrays:"
   ]
  },
  {
   "cell_type": "code",
   "execution_count": null,
   "metadata": {},
   "outputs": [],
   "source": [
    "A_spectrum = np.ndarray((nb_HC, nb_sample, spectrum_size), dtype=float)\n",
    "B_spectrum = np.ndarray((nb_HC, nb_sample, spectrum_size), dtype=float)\n",
    "C_spectrum = np.ndarray((nb_HC, nb_sample, spectrum_size), dtype=float)"
   ]
  },
  {
   "cell_type": "markdown",
   "metadata": {},
   "source": [
    "and let's compute the spectra with the `np.fft.rfft` function:"
   ]
  },
  {
   "cell_type": "code",
   "execution_count": null,
   "metadata": {},
   "outputs": [],
   "source": [
    "for spectrum, dataset in zip((A_spectrum, B_spectrum, C_spectrum), (A, B, C)):\n",
    "    for hc in range(nb_HC):\n",
    "        for sample in  range(nb_sample):\n",
    "            rfft = np.abs(np.fft.rfft(dataset[hc, sample]))   # we take the module of the Fourier spectrum\n",
    "            spectrum[hc, sample] = rfft/rfft.max()            # we normalize the spectum to get values in [0,1]"
   ]
  },
  {
   "cell_type": "markdown",
   "metadata": {},
   "source": [
    "Let's draw the spectra of the first sample:"
   ]
  },
  {
   "cell_type": "code",
   "execution_count": null,
   "metadata": {},
   "outputs": [],
   "source": [
    "DATA = (A_spectrum, B_spectrum, C_spectrum)\n",
    "nb_L = len(DATA)\n",
    "\n",
    "s = 0  # the sample number\n",
    "\n",
    "plt.rcParams['font.size'] = 6   # change the pyplot defaut font size\n",
    "fig, axes = plt.subplots(nb_HC, nb_L, sharex=True)\n",
    "fig.set_size_inches((8,12))\n",
    "plt.subplots_adjust(top=.95, wspace=0.25, hspace=0.5)\n",
    "plt.suptitle(f\"Plots for the sample #{s}\", fontsize=10)\n",
    "for n, dataset in enumerate(DATA):\n",
    "    for hc in range(nb_HC):\n",
    "        axe = axes[hc,n]\n",
    "        axe.set_title(f\"Load_{n+1} / health cond {health_cond[hc]}\", fontsize=8)\n",
    "        axe.plot(dataset[hc, s], linewidth=0.4)\n",
    "        if hc == nb_HC-1: axe.set_xlabel(\"Rank\")\n",
    "plt.rcParams['font.size'] = 10  # restore the pyplot defaut font size to its defautl value"
   ]
  },
  {
   "cell_type": "markdown",
   "metadata": {},
   "source": [
    "## 3.2 $-$ About the spectra size"
   ]
  },
  {
   "cell_type": "markdown",
   "metadata": {},
   "source": [
    "As you can see from the previous plot, the spectrum is significant only for low frequencies: we can truncate the spectra size without loosing information on the vibration footprint of the default.<br>\n",
    "\n",
    "Hereafter we plot the spectra for sample #0 with only the first 400 spectral points:"
   ]
  },
  {
   "cell_type": "code",
   "execution_count": null,
   "metadata": {},
   "outputs": [],
   "source": [
    "DATA = (A_spectrum, B_spectrum, C_spectrum)\n",
    "nb_L = len(DATA)\n",
    "s = 1  # the sample number\n",
    "\n",
    "plt.rcParams['font.size'] = 6   # change the pyplot defaut font size\n",
    "fig, axes = plt.subplots(nb_HC, nb_L, sharex=True)\n",
    "fig.set_size_inches((8,12))\n",
    "plt.subplots_adjust(top=.95, wspace=0.25, hspace=0.5)\n",
    "plt.suptitle(f\"Plots for the sample #{s}\", fontsize=10)\n",
    "for n, dataset in enumerate(DATA):\n",
    "    for hc in range(nb_HC):\n",
    "        axe = axes[hc,n]\n",
    "        axe.set_title(f\"Load_{n+1} / health cond {health_cond[hc]}\", fontsize=8)\n",
    "        axe.plot(dataset[hc, s, :400], linewidth=0.4)\n",
    "        if hc == nb_HC-1: axe.set_xlabel(\"Rank\")\n",
    "plt.rcParams['font.size'] = 10  # restore the pyplot defaut font size to its defautl value"
   ]
  },
  {
   "cell_type": "code",
   "execution_count": null,
   "metadata": {},
   "outputs": [],
   "source": []
  }
 ],
 "metadata": {
  "kernelspec": {
   "display_name": "Python 3",
   "language": "python",
   "name": "python3"
  },
  "language_info": {
   "codemirror_mode": {
    "name": "ipython",
    "version": 3
   },
   "file_extension": ".py",
   "mimetype": "text/x-python",
   "name": "python",
   "nbconvert_exporter": "python",
   "pygments_lexer": "ipython3",
   "version": "3.8.10"
  }
 },
 "nbformat": 4,
 "nbformat_minor": 5
}
